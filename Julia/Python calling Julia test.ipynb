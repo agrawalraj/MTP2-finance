{
 "cells": [
  {
   "cell_type": "code",
   "execution_count": 1,
   "metadata": {},
   "outputs": [],
   "source": [
    "%load_ext autoreload\n",
    "%autoreload 2\n",
    "import julia\n",
    "import numpy as np"
   ]
  },
  {
   "cell_type": "code",
   "execution_count": 2,
   "metadata": {},
   "outputs": [],
   "source": [
    "#j = julia.Julia()\n",
    "#solver = j.include('mtp2_cov_solver.jl')"
   ]
  },
  {
   "cell_type": "code",
   "execution_count": 3,
   "metadata": {},
   "outputs": [],
   "source": [
    "import mtp2_elliptical_solver"
   ]
  },
  {
   "cell_type": "code",
   "execution_count": 4,
   "metadata": {},
   "outputs": [],
   "source": [
    "data = np.random.multivariate_normal(mean = np.zeros(4), cov = np.eye(4), size = 10000)"
   ]
  },
  {
   "cell_type": "code",
   "execution_count": 5,
   "metadata": {},
   "outputs": [
    {
     "data": {
      "text/plain": [
       "array([[-1.96770331, -0.46190052, -0.40639232, -1.23467624],\n",
       "       [ 0.39960611, -0.83187227, -0.64220007,  1.72420743],\n",
       "       [ 2.10912654,  0.48323865, -1.42729657, -0.70309604],\n",
       "       ...,\n",
       "       [ 1.64706492,  0.84825417,  1.01580937, -0.24184604],\n",
       "       [-2.1003161 , -0.95267805,  0.42790455, -0.64015592],\n",
       "       [ 0.65533048, -0.60439256, -0.650833  , -1.74170651]])"
      ]
     },
     "execution_count": 5,
     "metadata": {},
     "output_type": "execute_result"
    }
   ],
   "source": [
    "data"
   ]
  },
  {
   "cell_type": "code",
   "execution_count": 6,
   "metadata": {},
   "outputs": [
    {
     "name": "stdout",
     "output_type": "stream",
     "text": [
      "Correlation matrix in MTP2CovEstimator function\n",
      "[[ 1.00000000e+00  7.14187057e-03  2.93692462e-03 -6.24795530e-03]\n",
      " [ 7.14187057e-03  1.00000000e+00 -5.75569021e-03  9.75499082e-04]\n",
      " [ 2.93692462e-03 -5.75569021e-03  1.00000000e+00  2.11877471e-03]\n",
      " [-6.24795530e-03  9.75499082e-04  2.11877471e-03  1.00000000e+00]]\n"
     ]
    }
   ],
   "source": [
    "ans = mtp2_elliptical_solver.MTP2CovEstimator(data, 10000)"
   ]
  },
  {
   "cell_type": "code",
   "execution_count": 7,
   "metadata": {},
   "outputs": [
    {
     "name": "stdout",
     "output_type": "stream",
     "text": [
      "[[-2.23985601e-06  2.84396253e-06  1.17560566e-07  2.67517021e-05]\n",
      " [ 9.22822370e-07 -2.97941327e-06 -1.28260334e-07  5.34645743e-06]\n",
      " [-2.13759926e-07 -1.63327271e-06 -4.76526531e-08  2.46589526e-06]\n",
      " [ 7.60031077e-07  4.79265536e-06 -9.30920896e-08 -4.00501134e-06]]\n"
     ]
    }
   ],
   "source": [
    "print(ans)"
   ]
  },
  {
   "cell_type": "code",
   "execution_count": null,
   "metadata": {},
   "outputs": [],
   "source": []
  }
 ],
 "metadata": {
  "kernelspec": {
   "display_name": "Python 3",
   "language": "python",
   "name": "python3"
  },
  "language_info": {
   "codemirror_mode": {
    "name": "ipython",
    "version": 3
   },
   "file_extension": ".py",
   "mimetype": "text/x-python",
   "name": "python",
   "nbconvert_exporter": "python",
   "pygments_lexer": "ipython3",
   "version": "3.6.5"
  }
 },
 "nbformat": 4,
 "nbformat_minor": 2
}
