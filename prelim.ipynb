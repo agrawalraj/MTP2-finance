{
 "cells": [
  {
   "cell_type": "code",
   "execution_count": 23,
   "metadata": {},
   "outputs": [],
   "source": [
    "import pandas as pd\n",
    "import numpy as np\n",
    "import time\n",
    "import matplotlib.pyplot as plt\n",
    "import seaborn as sns"
   ]
  },
  {
   "cell_type": "code",
   "execution_count": 15,
   "metadata": {},
   "outputs": [],
   "source": [
    "def inner_prod(A,B):\n",
    "    p_n, _ = A.shape\n",
    "    return 1./p_n * np.trace(A.dot(B.T))\n",
    "\n",
    "def norm(A):\n",
    "    return inner_prod(A,A)\n",
    "\n",
    "def estimator(X):\n",
    "    S = np.cov(X.T)\n",
    "    n, p = X.shape\n",
    "    m = inner_prod(S, np.eye(p))\n",
    "    d = norm(S - m * np.eye(p))\n",
    "\n",
    "    bar_b = 0\n",
    "    for x in X:\n",
    "        xk = np.reshape(x, (p,1))\n",
    "        bar_b += norm(xk.dot(xk.T) - S)\n",
    "    bar_b = bar_b / n**2\n",
    "    b = min(bar_b, d)\n",
    "    a = d - b\n",
    "\n",
    "    S_hat = b/d*m*np.eye(p) + a/d*S\n",
    "    return S_hat"
   ]
  },
  {
   "cell_type": "code",
   "execution_count": 2,
   "metadata": {},
   "outputs": [],
   "source": [
    "ret = pd.read_csv('data/ret.csv', header = None).values \n",
    "#ret.shape = (10344, 3251), (day, stock)\n",
    "univ = pd.read_csv('data/topMV95.csv', header = None).values \n",
    "univ -= 1 #because Matlab is 1 indexed\n",
    "#univ.shape = (360, 1000), (OOS month, sorted list of stocks to consider for that period)\n",
    "dates = pd.read_csv('data/mydatestr.txt', header = None, parse_dates = [0]) \n",
    "#dates.shape = (10344, 1), date for each day in return (not a numpy array, but a dataframe with DT objects)\n",
    "tradeidx = pd.read_csv('data/investDateIdx.csv', header = None).values \n",
    "tradeidx -= 1 #because Matlab is 1 indexed!\n",
    "#tradeidx.shape = (360, 1), (row of univ -> index in ret matrix)\n",
    "ret[ret == -500] = np.nan\n",
    "ret = ret / 100 #ret is in percent\n",
    "ret_nonan = ret.copy()\n",
    "ret_nonan[np.isnan(ret)] = 0\n",
    "#ret[np.isnan(ret)] = 0 #sometimes we're missing OOS returns\n",
    "meta_info = [ret, ret_nonan, univ, tradeidx]"
   ]
  },
  {
   "cell_type": "code",
   "execution_count": 21,
   "metadata": {},
   "outputs": [
    {
     "name": "stdout",
     "output_type": "stream",
     "text": [
      "-0.31855\n",
      "0.22359\n",
      "0.0008121786494925839\n"
     ]
    }
   ],
   "source": [
    "#Sanity check with Michael's code\n",
    "today = tradeidx[0][0]\n",
    "#print(today)\n",
    "pastPeriod = range(today-1260,today)\n",
    "#print(pastPeriod)\n",
    "investPeriod = range(today, today+21)\n",
    "#print(investPeriod)\n",
    "universe = univ[0, :100]\n",
    "#print(universe)\n",
    "pastData = ret[pastPeriod][:,universe]\n",
    "investData = ret[investPeriod][:,universe]\n",
    "combinedData = np.concatenate((pastData, investData))\n",
    "print(combinedData.min())\n",
    "print(combinedData.max())\n",
    "print(combinedData.mean())"
   ]
  },
  {
   "cell_type": "code",
   "execution_count": 22,
   "metadata": {},
   "outputs": [],
   "source": [
    "np.save(\"pastData\", pastData)"
   ]
  },
  {
   "cell_type": "code",
   "execution_count": 17,
   "metadata": {},
   "outputs": [
    {
     "data": {
      "text/plain": [
       "array([[ 6.33790357e+03,  1.49449866e+02,  1.09006795e+02, ...,\n",
       "         1.54034053e+02,  1.45088615e+02,  4.21312458e+01],\n",
       "       [ 1.49449866e+02,  4.69349211e+03, -1.11100386e+02, ...,\n",
       "         1.13626090e+02,  7.93712805e+00, -3.36640944e+01],\n",
       "       [ 1.09006795e+02, -1.11100386e+02,  8.34575520e+03, ...,\n",
       "        -2.23098926e+02,  1.07829845e+02, -6.41821853e+01],\n",
       "       ...,\n",
       "       [ 1.54034053e+02,  1.13626090e+02, -2.23098926e+02, ...,\n",
       "         5.40271566e+03,  2.19869975e+02,  1.93401044e+02],\n",
       "       [ 1.45088615e+02,  7.93712805e+00,  1.07829845e+02, ...,\n",
       "         2.19869975e+02,  8.86281790e+03, -2.44812433e+02],\n",
       "       [ 4.21312458e+01, -3.36640944e+01, -6.41821853e+01, ...,\n",
       "         1.93401044e+02, -2.44812433e+02,  4.42129062e+03]])"
      ]
     },
     "execution_count": 17,
     "metadata": {},
     "output_type": "execute_result"
    }
   ],
   "source": [
    "np.linalg.inv(shrink_LIN(pastData))"
   ]
  },
  {
   "cell_type": "code",
   "execution_count": 11,
   "metadata": {},
   "outputs": [],
   "source": [
    "def optimal_weights(cov):\n",
    "    n = cov.shape[0]\n",
    "    prec = np.linalg.inv(cov)\n",
    "    denom = np.matmul(np.matmul(np.ones(n), prec), np.ones(n))\n",
    "    return np.matmul(prec, np.ones(n)) / denom"
   ]
  },
  {
   "cell_type": "code",
   "execution_count": 12,
   "metadata": {},
   "outputs": [],
   "source": [
    "def sample_cov_nonan(pastRet):\n",
    "    df = pd.DataFrame(pastRet)\n",
    "    clean_cov = df.cov() #does this by removing nans\n",
    "    if np.count_nonzero(np.isnan(clean_cov)) > 0:\n",
    "        print(\"{} nans in covariance matrix\".format(np.count_nonzero(np.isnan(clean_cov))))\n",
    "        assert False\n",
    "    return clean_cov\n",
    "    #return np.cov(pastRet.T) (this is with numpy)"
   ]
  },
  {
   "cell_type": "code",
   "execution_count": 13,
   "metadata": {},
   "outputs": [],
   "source": [
    "def MTP2_cov(pastRet):\n",
    "    return solver(pastRet)"
   ]
  },
  {
   "cell_type": "code",
   "execution_count": 14,
   "metadata": {},
   "outputs": [],
   "source": [
    "def shrunk_sample_cov(lamb):\n",
    "    return lambda pastRet: (1-lamb) * np.cov(pastRet.T) + np.eye(pastRet.shape[1]) * lamb\n",
    "\n",
    "def equal_weight(pastRet):\n",
    "    _, N = pastRet.shape\n",
    "    return np.eye(N)\n",
    "\n",
    "def shrink_LIN(pastRet):\n",
    "    return estimator(pastRet)"
   ]
  },
  {
   "cell_type": "code",
   "execution_count": 10,
   "metadata": {},
   "outputs": [],
   "source": [
    "def getCumRet_sanity_check(outret):\n",
    "    cum_rets = []\n",
    "    D, N = outret.shape #D is days, N is number of stocks\n",
    "    for i in range(N):\n",
    "        stock_ret = 1.\n",
    "        for d in range(D):\n",
    "            day_ret = outret[d, i]\n",
    "            stock_ret *= (1+day_ret) #day_ret should NOT be in percent\n",
    "        cum_rets.append(stock_ret - 1.) #to convert back to percentage increase\n",
    "    return cum_rets #N for each stock"
   ]
  },
  {
   "cell_type": "code",
   "execution_count": 11,
   "metadata": {},
   "outputs": [],
   "source": [
    "def OOS_rets(w, outret):\n",
    "    assert np.isclose(np.sum(w), 1.0)\n",
    "    total_ret = outret + 1\n",
    "    cum_ret = np.cumprod(total_ret, axis=0)[-1,:]\n",
    "    cum_ret -= 1\n",
    "    return np.dot(w, cum_ret)"
   ]
  },
  {
   "cell_type": "code",
   "execution_count": 13,
   "metadata": {},
   "outputs": [],
   "source": [
    "def get_OOS_rets(cov_estimator, meta_info):\n",
    "    ret, ret_nonan, univ, tradeidx = meta_info\n",
    "    rets = []\n",
    "    opt_rets = []\n",
    "    N = 200 #Number of stocks\n",
    "    T = 1260 #lookback (units of days) --> should be in months though\n",
    "    P = 1 #lookahead (units of months, since we multiply by 20)\n",
    "    print('Lookback window in months', T // 20)\n",
    "    print('Lookback window in years', (T // 20) // (252 / 20))\n",
    "    \n",
    "    start = time.time()\n",
    "    for h in range(5):#len(univ)):\n",
    "        universe = univ[h,:N]\n",
    "        today = tradeidx[h][0]\n",
    "        date = dates.iloc[today].values[0]\n",
    "        pastPeriod_startdate = dates.iloc[today-T].values[0]\n",
    "        #print(\"Past period start date\", pastPeriod_startdate, \"Period start date\", date)\n",
    "\n",
    "        pastPeriod = range(today-T, today)            \n",
    "        pastRet = ret[pastPeriod][:, universe]\n",
    "        \n",
    "        #This is for back when we were worried about nans\n",
    "        #nan_perc = np.isnan(pastRet).sum(axis = 0)  / T\n",
    "        #nan_thres = nan_perc < 0.0025 #only include if less than 2.5% is nan\n",
    "        #new_universe = universe[nan_thres]\n",
    "        #print(\"Number in new universe: {} out of {}\".format(new_universe.shape[0], N))\n",
    "        #pastRet = ret_nonan[pastPeriod][:, new_universe]\n",
    "        \n",
    "        cov = cov_estimator(pastRet)\n",
    "        w = optimal_weights(cov)\n",
    "        \n",
    "        #sns.heatmap(np.cov(pastRet.T))\n",
    "        #S = np.cov(pastRet.T)\n",
    "        #print('Less than 0: ', np.sum(S < 0.))\n",
    "        \n",
    "        #curret = OOS_rets(w, outRet)\n",
    "        investPeriod = range(today, today + P*21)\n",
    "        outRet = ret[investPeriod][:, universe]\n",
    "        #outRet = ret_nonan[investPeriod][:, new_universe] #don't want to include nans\n",
    "        curret = retConstShare(outRet, w)\n",
    "        rets.append(curret)\n",
    "        \n",
    "#         if include_opt:\n",
    "#             #print(sorted(np.linalg.eigvals(np.cov(outRet.T))))\n",
    "#             opt_w = optimal_weights(np.cov(outRet.T))\n",
    "#             opt_curret = retConstShare(outRet, opt_w)\n",
    "#             opt_rets.append(opt_curret)\n",
    "\n",
    "#     if include_opt:\n",
    "#         return rets, opt_rets\n",
    "        end = time.time()\n",
    "        print(end - start)\n",
    "        start = end\n",
    "    return rets"
   ]
  },
  {
   "cell_type": "code",
   "execution_count": 14,
   "metadata": {},
   "outputs": [],
   "source": [
    "def retConstShare(retMat, w):\n",
    "    n, p = retMat.shape\n",
    "    if len(w.shape) == 1:\n",
    "        w = np.expand_dims(w, 1)\n",
    "    assert(w.shape == (p,1))\n",
    "    wSum1 = w/np.sum(w)\n",
    "\n",
    "    totalRetMat = 1 + retMat\n",
    "\n",
    "    cummProdd = np.cumprod(totalRetMat, axis = 0)\n",
    "    navVec = np.matmul(cummProdd, wSum1)\n",
    "\n",
    "    wEnd = cummProdd[n-1, :]\n",
    "    wEnd = np.dot(wEnd, w) #since w is (p,1) but wEnd is (1,p)\n",
    "    wEnd = wEnd/np.sum(wEnd)\n",
    "    wEnd = wEnd.T\n",
    "\n",
    "    navVecTot = np.concatenate((np.ones((1,1)), navVec[:(n-1),]))\n",
    "\n",
    "    totalRetVec = np.divide(navVec, navVecTot)\n",
    "\n",
    "    retVec = totalRetVec - 1\n",
    "    retVec = retVec * np.sum(w)\n",
    "\n",
    "    return np.sum(retVec) #sum of all of the returns"
   ]
  },
  {
   "cell_type": "code",
   "execution_count": 15,
   "metadata": {},
   "outputs": [],
   "source": [
    "def print_normalize(a):\n",
    "    print(np.mean(a) * 252 / 20, np.std(a) * np.sqrt(252 / 20))"
   ]
  },
  {
   "cell_type": "code",
   "execution_count": 16,
   "metadata": {},
   "outputs": [
    {
     "name": "stdout",
     "output_type": "stream",
     "text": [
      "Lookback window in months 63\n",
      "Lookback window in years 5.0\n",
      "0.062419891357421875\n",
      "0.06939911842346191\n",
      "0.06674790382385254\n",
      "0.0717620849609375\n",
      "0.06377100944519043\n"
     ]
    }
   ],
   "source": [
    "equal_rets = get_OOS_rets(equal_weight, meta_info) #covariance matrix is identity"
   ]
  },
  {
   "cell_type": "code",
   "execution_count": 17,
   "metadata": {},
   "outputs": [
    {
     "name": "stdout",
     "output_type": "stream",
     "text": [
      "0.4392591113954154 0.07427618397835759\n"
     ]
    }
   ],
   "source": [
    "print_normalize(equal_rets)"
   ]
  },
  {
   "cell_type": "code",
   "execution_count": 18,
   "metadata": {},
   "outputs": [
    {
     "name": "stdout",
     "output_type": "stream",
     "text": [
      "Lookback window in months 63\n",
      "Lookback window in years 5.0\n",
      "0.4039430618286133\n",
      "0.3930699825286865\n",
      "0.4225599765777588\n",
      "0.399914026260376\n",
      "0.4133110046386719\n"
     ]
    }
   ],
   "source": [
    "shrink_LIN_rets = get_OOS_rets(shrink_LIN, meta_info) #covariance matrix is identity"
   ]
  },
  {
   "cell_type": "code",
   "execution_count": 19,
   "metadata": {},
   "outputs": [
    {
     "name": "stdout",
     "output_type": "stream",
     "text": [
      "0.5610445293944472 0.06327852009388521\n"
     ]
    }
   ],
   "source": [
    "print_normalize(shrink_LIN_rets)"
   ]
  },
  {
   "cell_type": "code",
   "execution_count": null,
   "metadata": {},
   "outputs": [],
   "source": [
    "MTP2_rets = get_OOS_rets(MTP2_cov, meta_info)"
   ]
  },
  {
   "cell_type": "code",
   "execution_count": null,
   "metadata": {},
   "outputs": [],
   "source": [
    "print_normalize(MTP2_rets)"
   ]
  },
  {
   "cell_type": "code",
   "execution_count": 112,
   "metadata": {},
   "outputs": [
    {
     "name": "stdout",
     "output_type": "stream",
     "text": [
      "0.13307000453998713 0.18581436079362454\n",
      "0.11095697546625338 0.11953342106182747\n"
     ]
    }
   ],
   "source": [
    "for a in [equal_rets, \n",
    "          shrink_LIN_rets,\n",
    "         ]:\n",
    "    print_normalize(a)"
   ]
  }
 ],
 "metadata": {
  "kernelspec": {
   "display_name": "Python 3",
   "language": "python",
   "name": "python3"
  },
  "language_info": {
   "codemirror_mode": {
    "name": "ipython",
    "version": 3
   },
   "file_extension": ".py",
   "mimetype": "text/x-python",
   "name": "python",
   "nbconvert_exporter": "python",
   "pygments_lexer": "ipython3",
   "version": "3.6.5"
  }
 },
 "nbformat": 4,
 "nbformat_minor": 2
}
