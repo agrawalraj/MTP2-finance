{
 "cells": [
  {
   "cell_type": "code",
   "execution_count": 232,
   "metadata": {},
   "outputs": [],
   "source": [
    "import pandas as pd\n",
    "import numpy as np\n",
    "import time\n",
    "import matplotlib.pyplot as plt"
   ]
  },
  {
   "cell_type": "code",
   "execution_count": 251,
   "metadata": {},
   "outputs": [],
   "source": [
    "def optimal_weights(cov):\n",
    "    n = cov.shape[0]\n",
    "    prec = np.linalg.inv(cov)\n",
    "    denom = np.matmul(np.matmul(np.ones(n), prec), np.ones(n))\n",
    "    return np.matmul(prec, np.ones(n)) / denom"
   ]
  },
  {
   "cell_type": "code",
   "execution_count": 253,
   "metadata": {},
   "outputs": [],
   "source": [
    "def sample_estimate(pastRet):\n",
    "    return np.cov(pastRet.T)"
   ]
  },
  {
   "cell_type": "code",
   "execution_count": 302,
   "metadata": {},
   "outputs": [],
   "source": [
    "def OOS_rets(w, outret):\n",
    "    total_ret = outret + 1\n",
    "    cum_ret = np.cumprod(total_ret, axis=0)[-1,:]\n",
    "    cum_ret -= 1\n",
    "    #print(np.mean(cum_ret) * 252)\n",
    "    return np.dot(w, cum_ret)"
   ]
  },
  {
   "cell_type": "code",
   "execution_count": 326,
   "metadata": {},
   "outputs": [],
   "source": [
    "def get_OOS_rets(cov_estimator, meta_info):\n",
    "    ret, univ, tradeidx = meta_info\n",
    "    rets = []\n",
    "    for h in range(100):\n",
    "        N = 250 #Number of stocks\n",
    "        T = 500 #lookback\n",
    "        P = 1 #lookahead\n",
    "        universe = univ[h,:N]\n",
    "        today = tradeidx[h][0]\n",
    "        pastPeriod = range(today-T, today)\n",
    "        pastRet = ret[pastPeriod][:, universe]\n",
    "        investPeriod = range(today, today + P)\n",
    "        outRet = ret[investPeriod][:, universe]\n",
    "        \n",
    "        cov = cov_estimator(pastRet)\n",
    "        w = optimal_weights(cov)\n",
    "\n",
    "        curret = OOS_rets(w, outRet) #slightly shrunk sample\n",
    "        \n",
    "        rets.append(curret)\n",
    "    return rets"
   ]
  },
  {
   "cell_type": "code",
   "execution_count": 319,
   "metadata": {},
   "outputs": [],
   "source": [
    "ret = pd.read_csv('ret.csv', header = None).values\n",
    "univ = pd.read_csv('topMV95.csv', header = None).values\n",
    "dates = pd.read_csv('mydatestr.txt', header = None, parse_dates = [0])\n",
    "tradeidx = pd.read_csv('investDateIdx.csv', header = None).values\n",
    "ret[np.isnan(ret)] = 0\n",
    "ret = ret / 100 #I think ret is in percent"
   ]
  },
  {
   "cell_type": "code",
   "execution_count": 323,
   "metadata": {},
   "outputs": [],
   "source": [
    "meta_info = [ret, univ, tradeidx]"
   ]
  },
  {
   "cell_type": "code",
   "execution_count": 314,
   "metadata": {},
   "outputs": [],
   "source": [
    "def shrunk_sample_cov(lamb):\n",
    "    return lambda pastRet: np.cov(pastRet.T) + np.eye(pastRet.shape[1]) * lamb"
   ]
  },
  {
   "cell_type": "code",
   "execution_count": 328,
   "metadata": {},
   "outputs": [],
   "source": [
    "def equal_weight(pastRet):\n",
    "    _, N = pastRet.shape\n",
    "    return np.eye(N)"
   ]
  },
  {
   "cell_type": "code",
   "execution_count": 329,
   "metadata": {},
   "outputs": [],
   "source": [
    "equal_rets = get_OOS_rets(equal_weight, meta_info)"
   ]
  },
  {
   "cell_type": "code",
   "execution_count": 330,
   "metadata": {},
   "outputs": [],
   "source": [
    "shrunk_10 = get_OOS_rets(shrunk_sample_cov(10), meta_info)"
   ]
  },
  {
   "cell_type": "code",
   "execution_count": 331,
   "metadata": {},
   "outputs": [],
   "source": [
    "shrunk_1 = get_OOS_rets(shrunk_sample_cov(1), meta_info)"
   ]
  },
  {
   "cell_type": "code",
   "execution_count": 332,
   "metadata": {},
   "outputs": [
    {
     "name": "stdout",
     "output_type": "stream",
     "text": [
      "-145.94449464000004 20.89745529529402 -698.3840500085474\n",
      "-73.75163033014903 16.13612709400107 -457.05905698752025\n",
      "-131.5955730733105 19.505863099621024 -674.6462455991875\n"
     ]
    }
   ],
   "source": [
    "D = 1\n",
    "for a in [equal_rets, shrunk_1, shrunk_10]:\n",
    "    print(252 / D * np.mean(a) * 100, \n",
    "          np.sqrt(252/D) * np.std(a) * 100, \n",
    "          np.sqrt(252/D) * np.mean(a)/np.std(a) * 100)"
   ]
  },
  {
   "cell_type": "code",
   "execution_count": 309,
   "metadata": {},
   "outputs": [
    {
     "data": {
      "text/plain": [
       "(array([  1.,   0.,   7.,  15.,  47.,  44.,  68., 100.,  16.,   2.]),\n",
       " array([-6.42089640e-04, -5.50186584e-04, -4.58283528e-04, -3.66380472e-04,\n",
       "        -2.74477416e-04, -1.82574360e-04, -9.06713040e-05,  1.23175200e-06,\n",
       "         9.31348080e-05,  1.85037864e-04,  2.76940920e-04]),\n",
       " <a list of 10 Patch objects>)"
      ]
     },
     "execution_count": 309,
     "metadata": {},
     "output_type": "execute_result"
    },
    {
     "data": {
      "image/png": "[encoded data removed]",
      "text/plain": [
       "<Figure size 432x288 with 1 Axes>"
      ]
     },
     "metadata": {},
     "output_type": "display_data"
    }
   ],
   "source": [
    "plt.hist(equal_rets)"
   ]
  },
  {
   "cell_type": "code",
   "execution_count": 148,
   "metadata": {},
   "outputs": [],
   "source": [
    "def retConstShare(retMat, w):\n",
    "    n, p = retMat.shape\n",
    "    assert(w.shape == (p,1))\n",
    "    wSum1 = w/np.sum(w)\n",
    "\n",
    "    totalRetMat = 1 + retMat\n",
    "\n",
    "    cummProdd = np.cumprod(totalRetMat, axis = 0)\n",
    "    navVec = np.matmul(cummProdd, wSum1)\n",
    "\n",
    "    wEnd = cummProdd[n-1, :]\n",
    "    wEnd = np.dot(wEnd, w) #since w is (p,1) but wEnd is (1,p)\n",
    "    wEnd = wEnd/np.sum(wEnd)\n",
    "    wEnd = wEnd.T\n",
    "\n",
    "    navVecTot = np.concatenate((np.ones((1,1)), navVec[:(n-1),]))\n",
    "\n",
    "    totalRetVec = np.divide(navVec, navVecTot)\n",
    "\n",
    "    retVec = totalRetVec - 1\n",
    "    retVec = retVec * np.sum(w)\n",
    "\n",
    "    return retVec"
   ]
  }
 ],
 "metadata": {
  "kernelspec": {
   "display_name": "Python 3",
   "language": "python",
   "name": "python3"
  },
  "language_info": {
   "codemirror_mode": {
    "name": "ipython",
    "version": 3
   },
   "file_extension": ".py",
   "mimetype": "text/x-python",
   "name": "python",
   "nbconvert_exporter": "python",
   "pygments_lexer": "ipython3",
   "version": "3.6.5"
  }
 },
 "nbformat": 4,
 "nbformat_minor": 2
}
