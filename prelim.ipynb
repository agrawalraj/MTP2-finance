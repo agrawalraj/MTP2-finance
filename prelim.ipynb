{
 "cells": [
  {
   "cell_type": "code",
   "execution_count": 39,
   "metadata": {},
   "outputs": [],
   "source": [
    "import pandas as pd\n",
    "import numpy as np\n",
    "import time\n",
    "import matplotlib.pyplot as plt\n",
    "import seaborn as sns"
   ]
  },
  {
   "cell_type": "code",
   "execution_count": 104,
   "metadata": {},
   "outputs": [],
   "source": [
    "def inner_prod(A,B):\n",
    "    p_n, _ = A.shape\n",
    "    return 1./p_n * np.trace(A.dot(B.T))\n",
    "\n",
    "def norm(A):\n",
    "    return inner_prod(A,A)\n",
    "\n",
    "def estimator(X):\n",
    "    S = np.cov(X.T)\n",
    "    n, p = X.shape\n",
    "    m = inner_prod(S, np.eye(p))\n",
    "    d = norm(S - m * np.eye(p))\n",
    "\n",
    "    bar_b = 0\n",
    "    for x in X:\n",
    "        xk = np.reshape(x, (p,1))\n",
    "        bar_b += norm(xk.dot(xk.T) - S)\n",
    "    bar_b = bar_b / n**2\n",
    "    b = min(bar_b, d)\n",
    "    a = d - b\n",
    "\n",
    "    S_hat = b/d*m*np.eye(p) + a/d*S\n",
    "    return S_hat"
   ]
  },
  {
   "cell_type": "code",
   "execution_count": 75,
   "metadata": {},
   "outputs": [],
   "source": [
    "ret = pd.read_csv('data/ret.csv', header = None).values \n",
    "#ret.shape = (10344, 3251), (day, stock)\n",
    "univ = pd.read_csv('data/topMV95.csv', header = None).values \n",
    "univ -= 1 #because Matlab is 1 indexed\n",
    "#univ.shape = (360, 1000), (OOS month, sorted list of stocks to consider for that period)\n",
    "dates = pd.read_csv('data/mydatestr.txt', header = None, parse_dates = [0]) \n",
    "#dates.shape = (10344, 1), date for each day in return (not a numpy array, but a dataframe with DT objects)\n",
    "tradeidx = pd.read_csv('data/investDateIdx.csv', header = None).values \n",
    "tradeidx -= 1 #because Matlab is 1 indexed!\n",
    "#tradeidx.shape = (360, 1), (row of univ -> index in ret matrix)\n",
    "ret[ret == -500] = np.nan\n",
    "ret = ret / 100 #ret is in percent\n",
    "ret_nonan = ret.copy()\n",
    "ret_nonan[np.isnan(ret)] = 0\n",
    "#ret[np.isnan(ret)] = 0 #sometimes we're missing OOS returns\n",
    "meta_info = [ret, ret_nonan, univ, tradeidx]"
   ]
  },
  {
   "cell_type": "code",
   "execution_count": 83,
   "metadata": {},
   "outputs": [
    {
     "name": "stdout",
     "output_type": "stream",
     "text": [
      "-0.37255000000000005\n",
      "0.5163399999999999\n",
      "0.0009156416596409057\n"
     ]
    }
   ],
   "source": [
    "#Sanity check with Michael's code\n",
    "today = tradeidx[0][0]\n",
    "#print(today)\n",
    "pastPeriod = range(today-1260,today)\n",
    "#print(pastPeriod)\n",
    "investPeriod = range(today, today+21)\n",
    "#print(investPeriod)\n",
    "universe = univ[0, :500]\n",
    "#print(universe)\n",
    "pastData = ret[pastPeriod][:,universe]\n",
    "investData = ret[investPeriod][:,universe]\n",
    "combinedData = np.concatenate((pastData, investData))\n",
    "print(combinedData.min())\n",
    "print(combinedData.max())\n",
    "print(combinedData.mean())"
   ]
  },
  {
   "cell_type": "code",
   "execution_count": 14,
   "metadata": {},
   "outputs": [],
   "source": [
    "def optimal_weights(cov):\n",
    "    n = cov.shape[0]\n",
    "    prec = np.linalg.inv(cov)\n",
    "    denom = np.matmul(np.matmul(np.ones(n), prec), np.ones(n))\n",
    "    return np.matmul(prec, np.ones(n)) / denom"
   ]
  },
  {
   "cell_type": "code",
   "execution_count": 15,
   "metadata": {},
   "outputs": [],
   "source": [
    "def sample_cov_nonan(pastRet):\n",
    "    df = pd.DataFrame(pastRet)\n",
    "    clean_cov = df.cov() #does this by removing nans\n",
    "    if np.count_nonzero(np.isnan(clean_cov)) > 0:\n",
    "        print(\"{} nans in covariance matrix\".format(np.count_nonzero(np.isnan(clean_cov))))\n",
    "        assert False\n",
    "    return clean_cov\n",
    "    #return np.cov(pastRet.T) (this is with numpy)"
   ]
  },
  {
   "cell_type": "code",
   "execution_count": 101,
   "metadata": {},
   "outputs": [],
   "source": [
    "def shrunk_sample_cov(lamb):\n",
    "    return lambda pastRet: (1-lamb) * np.cov(pastRet.T) + np.eye(pastRet.shape[1]) * lamb\n",
    "\n",
    "def equal_weight(pastRet):\n",
    "    _, N = pastRet.shape\n",
    "    return np.eye(N)\n",
    "\n",
    "def shrink_LIN(pastRet):\n",
    "    return estimator(pastRet)"
   ]
  },
  {
   "cell_type": "code",
   "execution_count": 102,
   "metadata": {},
   "outputs": [],
   "source": [
    "def getCumRet_sanity_check(outret):\n",
    "    cum_rets = []\n",
    "    D, N = outret.shape #D is days, N is number of stocks\n",
    "    for i in range(N):\n",
    "        stock_ret = 1.\n",
    "        for d in range(D):\n",
    "            day_ret = outret[d, i]\n",
    "            stock_ret *= (1+day_ret) #day_ret should NOT be in percent\n",
    "        cum_rets.append(stock_ret - 1.) #to convert back to percentage increase\n",
    "    return cum_rets #N for each stock"
   ]
  },
  {
   "cell_type": "code",
   "execution_count": 103,
   "metadata": {},
   "outputs": [],
   "source": [
    "def OOS_rets(w, outret):\n",
    "    assert np.isclose(np.sum(w), 1.0)\n",
    "    total_ret = outret + 1\n",
    "    cum_ret = np.cumprod(total_ret, axis=0)[-1,:]\n",
    "    cum_ret -= 1\n",
    "    return np.dot(w, cum_ret)"
   ]
  },
  {
   "cell_type": "code",
   "execution_count": 95,
   "metadata": {},
   "outputs": [],
   "source": [
    "def get_OOS_rets(cov_estimator, meta_info):\n",
    "    ret, ret_nonan, univ, tradeidx = meta_info\n",
    "    rets = []\n",
    "    opt_rets = []\n",
    "    N = 200 #Number of stocks\n",
    "    T = 1260 #lookback (units of days) --> should be in months though\n",
    "    P = 1 #lookahead (units of months, since we multiply by 20)\n",
    "    print('Lookback window in months', T // 20)\n",
    "    print('Lookback window in years', (T // 20) // (252 / 20))\n",
    "    \n",
    "    for h in range(len(univ)):#len(univ)):\n",
    "\n",
    "        universe = univ[h,:N]\n",
    "        today = tradeidx[h][0]\n",
    "        date = dates.iloc[today].values[0]\n",
    "        pastPeriod_startdate = dates.iloc[today-T].values[0]\n",
    "        #print(\"Past period start date\", pastPeriod_startdate, \"Period start date\", date)\n",
    "\n",
    "        pastPeriod = range(today-T, today)            \n",
    "        pastRet = ret[pastPeriod][:, universe]\n",
    "        \n",
    "        #This is for back when we were worried about nans\n",
    "        #nan_perc = np.isnan(pastRet).sum(axis = 0)  / T\n",
    "        #nan_thres = nan_perc < 0.0025 #only include if less than 2.5% is nan\n",
    "        #new_universe = universe[nan_thres]\n",
    "        #print(\"Number in new universe: {} out of {}\".format(new_universe.shape[0], N))\n",
    "        #pastRet = ret_nonan[pastPeriod][:, new_universe]\n",
    "\n",
    "        cov = cov_estimator(pastRet)\n",
    "        w = optimal_weights(cov)\n",
    "        \n",
    "        #sns.heatmap(np.cov(pastRet.T))\n",
    "        #S = np.cov(pastRet.T)\n",
    "        #print('Less than 0: ', np.sum(S < 0.))\n",
    "        \n",
    "        #curret = OOS_rets(w, outRet)\n",
    "        investPeriod = range(today, today + P*21)\n",
    "        outRet = ret[investPeriod][:, universe]\n",
    "        #outRet = ret_nonan[investPeriod][:, new_universe] #don't want to include nans\n",
    "        curret = retConstShare(outRet, w)\n",
    "        rets.append(curret)\n",
    "        \n",
    "#         if include_opt:\n",
    "#             #print(sorted(np.linalg.eigvals(np.cov(outRet.T))))\n",
    "#             opt_w = optimal_weights(np.cov(outRet.T))\n",
    "#             opt_curret = retConstShare(outRet, opt_w)\n",
    "#             opt_rets.append(opt_curret)\n",
    "\n",
    "#     if include_opt:\n",
    "#         return rets, opt_rets\n",
    "    \n",
    "    return rets"
   ]
  },
  {
   "cell_type": "code",
   "execution_count": 96,
   "metadata": {},
   "outputs": [],
   "source": [
    "def retConstShare(retMat, w):\n",
    "    n, p = retMat.shape\n",
    "    if len(w.shape) == 1:\n",
    "        w = np.expand_dims(w, 1)\n",
    "    assert(w.shape == (p,1))\n",
    "    wSum1 = w/np.sum(w)\n",
    "\n",
    "    totalRetMat = 1 + retMat\n",
    "\n",
    "    cummProdd = np.cumprod(totalRetMat, axis = 0)\n",
    "    navVec = np.matmul(cummProdd, wSum1)\n",
    "\n",
    "    wEnd = cummProdd[n-1, :]\n",
    "    wEnd = np.dot(wEnd, w) #since w is (p,1) but wEnd is (1,p)\n",
    "    wEnd = wEnd/np.sum(wEnd)\n",
    "    wEnd = wEnd.T\n",
    "\n",
    "    navVecTot = np.concatenate((np.ones((1,1)), navVec[:(n-1),]))\n",
    "\n",
    "    totalRetVec = np.divide(navVec, navVecTot)\n",
    "\n",
    "    retVec = totalRetVec - 1\n",
    "    retVec = retVec * np.sum(w)\n",
    "\n",
    "    return np.sum(retVec) #sum of all of the returns"
   ]
  },
  {
   "cell_type": "code",
   "execution_count": 93,
   "metadata": {},
   "outputs": [],
   "source": [
    "def print_normalize(a):\n",
    "    print(np.mean(a) * 252 / 20, np.std(a) * np.sqrt(252 / 20))"
   ]
  },
  {
   "cell_type": "code",
   "execution_count": 97,
   "metadata": {},
   "outputs": [
    {
     "name": "stdout",
     "output_type": "stream",
     "text": [
      "Lookback window in months 63\n",
      "Lookback window in years 5.0\n"
     ]
    }
   ],
   "source": [
    "equal_rets = get_OOS_rets(equal_weight, meta_info) #covariance matrix is identity"
   ]
  },
  {
   "cell_type": "code",
   "execution_count": 105,
   "metadata": {},
   "outputs": [
    {
     "name": "stdout",
     "output_type": "stream",
     "text": [
      "0.13307000453998713 0.18581436079362454\n"
     ]
    }
   ],
   "source": [
    "print_normalize(equal_rets)"
   ]
  },
  {
   "cell_type": "code",
   "execution_count": 106,
   "metadata": {},
   "outputs": [
    {
     "name": "stdout",
     "output_type": "stream",
     "text": [
      "Lookback window in months 63\n",
      "Lookback window in years 5.0\n"
     ]
    }
   ],
   "source": [
    "shrink_LIN_rets = get_OOS_rets(shrink_LIN, meta_info) #covariance matrix is identity"
   ]
  },
  {
   "cell_type": "code",
   "execution_count": 107,
   "metadata": {},
   "outputs": [
    {
     "name": "stdout",
     "output_type": "stream",
     "text": [
      "0.11095697546625338 0.11953342106182747\n"
     ]
    }
   ],
   "source": [
    "print_normalize(shrink_LIN_rets)"
   ]
  },
  {
   "cell_type": "code",
   "execution_count": 112,
   "metadata": {},
   "outputs": [
    {
     "name": "stdout",
     "output_type": "stream",
     "text": [
      "0.13307000453998713 0.18581436079362454\n",
      "0.11095697546625338 0.11953342106182747\n"
     ]
    }
   ],
   "source": [
    "for a in [equal_rets, \n",
    "          shrink_LIN_rets,\n",
    "         ]:\n",
    "    print_normalize(a)"
   ]
  }
 ],
 "metadata": {
  "kernelspec": {
   "display_name": "Python 3",
   "language": "python",
   "name": "python3"
  },
  "language_info": {
   "codemirror_mode": {
    "name": "ipython",
    "version": 3
   },
   "file_extension": ".py",
   "mimetype": "text/x-python",
   "name": "python",
   "nbconvert_exporter": "python",
   "pygments_lexer": "ipython3",
   "version": "3.6.5"
  }
 },
 "nbformat": 4,
 "nbformat_minor": 2
}
