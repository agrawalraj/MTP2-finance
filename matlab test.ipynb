{
 "cells": [
  {
   "cell_type": "code",
   "execution_count": 43,
   "metadata": {},
   "outputs": [],
   "source": [
    "import os\n",
    "import scipy\n",
    "import numpy as np\n",
    "import scipy.io\n",
    "import pandas as pd\n",
    "import time"
   ]
  },
  {
   "cell_type": "code",
   "execution_count": 22,
   "metadata": {},
   "outputs": [],
   "source": [
    "def format_appro(f, data_folder = 'data', ext = '.mat'):\n",
    "    if not '/' in f:\n",
    "        f = os.path.join('./' + data_folder, f)\n",
    "    if not f.endswith('.mat'):\n",
    "        f = f + '.mat'\n",
    "    return f\n",
    "\n",
    "def construct_command(f, o, data_folder = 'data/'):\n",
    "    f = format_appro(f, data_folder)\n",
    "    o = format_appro(o, data_folder)\n",
    "    return \"computecov '{}' '{}'\".format(f, o)"
   ]
  },
  {
   "cell_type": "code",
   "execution_count": 34,
   "metadata": {},
   "outputs": [],
   "source": [
    "def construct_string_commands(clist):\n",
    "    string = \"matlab -nodisplay -nodesktop -r \\\"\"\n",
    "    for c in clist:\n",
    "        string += \"{}; \".format(c)\n",
    "    string += \"exit;\\\"\"\n",
    "    return string"
   ]
  },
  {
   "cell_type": "code",
   "execution_count": 3,
   "metadata": {},
   "outputs": [],
   "source": [
    "#To generate fake data\n",
    "ogcwd = os.getcwd()\n",
    "os.chdir('./matlab/data')\n",
    "for i in range(2):\n",
    "    mdict = {'S': np.eye(3) + np.random.random((3,3)) * 0.1}\n",
    "    scipy.io.savemat('testS{}.mat'.format(i), mdict)\n",
    "os.chdir(ogcwd)"
   ]
  },
  {
   "cell_type": "code",
   "execution_count": 4,
   "metadata": {},
   "outputs": [],
   "source": [
    "c1 = construct_command('testS0.mat', 'testOut0.mat')\n",
    "c2 = construct_command('testS1.mat', 'testOut1.mat')"
   ]
  },
  {
   "cell_type": "code",
   "execution_count": 5,
   "metadata": {},
   "outputs": [],
   "source": [
    "string = \"matlab -nodisplay -nodesktop -r \\\"{}; {}; exit;\\\"\".format(c1, c2)"
   ]
  },
  {
   "cell_type": "code",
   "execution_count": 6,
   "metadata": {},
   "outputs": [
    {
     "data": {
      "text/plain": [
       "'matlab -nodisplay -nodesktop -r \"computecov \\'./data/testS0.mat\\' \\'./data/testOut0.mat\\'; computecov \\'./data/testS1.mat\\' \\'./data/testOut1.mat\\'; exit;\"'"
      ]
     },
     "execution_count": 6,
     "metadata": {},
     "output_type": "execute_result"
    }
   ],
   "source": [
    "string"
   ]
  },
  {
   "cell_type": "code",
   "execution_count": 35,
   "metadata": {},
   "outputs": [
    {
     "data": {
      "text/plain": [
       "'matlab -nodisplay -nodesktop -r \"computecov \\'./data/testS0.mat\\' \\'./data/testOut0.mat\\'; computecov \\'./data/testS1.mat\\' \\'./data/testOut1.mat\\'; exit;\"'"
      ]
     },
     "execution_count": 35,
     "metadata": {},
     "output_type": "execute_result"
    }
   ],
   "source": [
    "construct_string_commands([c1,c2])"
   ]
  },
  {
   "cell_type": "code",
   "execution_count": 8,
   "metadata": {},
   "outputs": [],
   "source": [
    "ogcwd = os.getcwd()\n",
    "os.chdir('./matlab')\n",
    "os.system(string)\n",
    "os.chdir(ogcwd)"
   ]
  },
  {
   "cell_type": "code",
   "execution_count": 27,
   "metadata": {},
   "outputs": [
    {
     "name": "stdout",
     "output_type": "stream",
     "text": [
      "[[1.02009569 0.05214497 0.01695453]\n",
      " [0.05214497 1.06811428 0.04147603]\n",
      " [0.01695453 0.04147603 1.0043045 ]]\n",
      "[[1.09284461 0.08821154 0.01536312]\n",
      " [0.08821154 1.09078149 0.06647691]\n",
      " [0.01536312 0.06647691 1.0078532 ]]\n"
     ]
    }
   ],
   "source": [
    "for i in range(2):\n",
    "    fname = format_appro('testOut{}'.format(i), data_folder = 'matlab/data')\n",
    "    Sigma = scipy.io.loadmat(fname)['Sigma']\n",
    "    print(Sigma)"
   ]
  },
  {
   "cell_type": "code",
   "execution_count": 29,
   "metadata": {},
   "outputs": [],
   "source": [
    "ret = pd.read_csv('data/ret.csv', header = None).values \n",
    "#ret.shape = (10344, 3251), (day, stock)\n",
    "univ = pd.read_csv('data/topMV95.csv', header = None).values \n",
    "univ -= 1 #because Matlab is 1 indexed\n",
    "#univ.shape = (360, 1000), (OOS month, sorted list of stocks to consider for that period)\n",
    "dates = pd.read_csv('data/mydatestr.txt', header = None, parse_dates = [0]) \n",
    "#dates.shape = (10344, 1), date for each day in return (not a numpy array, but a dataframe with DT objects)\n",
    "tradeidx = pd.read_csv('data/investDateIdx.csv', header = None).values \n",
    "tradeidx -= 1 #because Matlab is 1 indexed!\n",
    "#tradeidx.shape = (360, 1), (row of univ -> index in ret matrix)\n",
    "ret[ret == -500] = np.nan\n",
    "ret = ret / 100 #ret is in percent\n",
    "ret_nonan = ret.copy()\n",
    "ret_nonan[np.isnan(ret)] = 0\n",
    "#ret[np.isnan(ret)] = 0 #sometimes we're missing OOS returns\n",
    "meta_info = [ret, ret_nonan, univ, tradeidx]"
   ]
  },
  {
   "cell_type": "code",
   "execution_count": 30,
   "metadata": {},
   "outputs": [],
   "source": [
    "#Populates with real data\n",
    "ogcwd = os.getcwd()\n",
    "os.chdir('./matlab/data')\n",
    "\n",
    "\n",
    "N = 200 #Number of stocks\n",
    "T = 1260 #lookback (units of days) --> should be in months though\n",
    "\n",
    "for h in range(len(univ)):#len(univ)):\n",
    "    universe = univ[h,:N]\n",
    "    today = tradeidx[h][0]\n",
    "    date = dates.iloc[today].values[0]\n",
    "    pastPeriod_startdate = dates.iloc[today-T].values[0]\n",
    "    #print(\"Past period start date\", pastPeriod_startdate, \"Period start date\", date)\n",
    "\n",
    "    pastPeriod = range(today-T, today)            \n",
    "    pastRet = ret[pastPeriod][:, universe]\n",
    "    S = np.cov(pastRet.T) #sample covariance\n",
    "    mdict = {'S': S}\n",
    "    scipy.io.savemat('N_{}_T_{}_unividx_{}.mat'.format(N, T, h), mdict)\n",
    "os.chdir(ogcwd)"
   ]
  },
  {
   "cell_type": "code",
   "execution_count": 36,
   "metadata": {},
   "outputs": [],
   "source": [
    "all_commands = []\n",
    "for h in range(len(univ)):\n",
    "    c = construct_command('N_{}_T_{}_unividx_{}.mat'.format(N, T, h), 'out_N_{}_T_{}_unividx_{}.mat'.format(N, T, h))\n",
    "    all_commands.append(c)"
   ]
  },
  {
   "cell_type": "code",
   "execution_count": 37,
   "metadata": {},
   "outputs": [
    {
     "name": "stdout",
     "output_type": "stream",
     "text": [
      "[\"computecov './data/N_200_T_1260_unividx_0.mat' './data/out_N_200_T_1260_unividx_0.mat'\", \"computecov './data/N_200_T_1260_unividx_1.mat' './data/out_N_200_T_1260_unividx_1.mat'\", \"computecov './data/N_200_T_1260_unividx_2.mat' './data/out_N_200_T_1260_unividx_2.mat'\", \"computecov './data/N_200_T_1260_unividx_3.mat' './data/out_N_200_T_1260_unividx_3.mat'\", \"computecov './data/N_200_T_1260_unividx_4.mat' './data/out_N_200_T_1260_unividx_4.mat'\", \"computecov './data/N_200_T_1260_unividx_5.mat' './data/out_N_200_T_1260_unividx_5.mat'\", \"computecov './data/N_200_T_1260_unividx_6.mat' './data/out_N_200_T_1260_unividx_6.mat'\", \"computecov './data/N_200_T_1260_unividx_7.mat' './data/out_N_200_T_1260_unividx_7.mat'\", \"computecov './data/N_200_T_1260_unividx_8.mat' './data/out_N_200_T_1260_unividx_8.mat'\", \"computecov './data/N_200_T_1260_unividx_9.mat' './data/out_N_200_T_1260_unividx_9.mat'\", \"computecov './data/N_200_T_1260_unividx_10.mat' './data/out_N_200_T_1260_unividx_10.mat'\", \"computecov './data/N_200_T_1260_unividx_11.mat' './data/out_N_200_T_1260_unividx_11.mat'\", \"computecov './data/N_200_T_1260_unividx_12.mat' './data/out_N_200_T_1260_unividx_12.mat'\", \"computecov './data/N_200_T_1260_unividx_13.mat' './data/out_N_200_T_1260_unividx_13.mat'\", \"computecov './data/N_200_T_1260_unividx_14.mat' './data/out_N_200_T_1260_unividx_14.mat'\", \"computecov './data/N_200_T_1260_unividx_15.mat' './data/out_N_200_T_1260_unividx_15.mat'\", \"computecov './data/N_200_T_1260_unividx_16.mat' './data/out_N_200_T_1260_unividx_16.mat'\", \"computecov './data/N_200_T_1260_unividx_17.mat' './data/out_N_200_T_1260_unividx_17.mat'\", \"computecov './data/N_200_T_1260_unividx_18.mat' './data/out_N_200_T_1260_unividx_18.mat'\", \"computecov './data/N_200_T_1260_unividx_19.mat' './data/out_N_200_T_1260_unividx_19.mat'\", \"computecov './data/N_200_T_1260_unividx_20.mat' './data/out_N_200_T_1260_unividx_20.mat'\", \"computecov './data/N_200_T_1260_unividx_21.mat' './data/out_N_200_T_1260_unividx_21.mat'\", \"computecov './data/N_200_T_1260_unividx_22.mat' './data/out_N_200_T_1260_unividx_22.mat'\", \"computecov './data/N_200_T_1260_unividx_23.mat' './data/out_N_200_T_1260_unividx_23.mat'\", \"computecov './data/N_200_T_1260_unividx_24.mat' './data/out_N_200_T_1260_unividx_24.mat'\", \"computecov './data/N_200_T_1260_unividx_25.mat' './data/out_N_200_T_1260_unividx_25.mat'\", \"computecov './data/N_200_T_1260_unividx_26.mat' './data/out_N_200_T_1260_unividx_26.mat'\", \"computecov './data/N_200_T_1260_unividx_27.mat' './data/out_N_200_T_1260_unividx_27.mat'\", \"computecov './data/N_200_T_1260_unividx_28.mat' './data/out_N_200_T_1260_unividx_28.mat'\", \"computecov './data/N_200_T_1260_unividx_29.mat' './data/out_N_200_T_1260_unividx_29.mat'\", \"computecov './data/N_200_T_1260_unividx_30.mat' './data/out_N_200_T_1260_unividx_30.mat'\", \"computecov './data/N_200_T_1260_unividx_31.mat' './data/out_N_200_T_1260_unividx_31.mat'\", \"computecov './data/N_200_T_1260_unividx_32.mat' './data/out_N_200_T_1260_unividx_32.mat'\", \"computecov './data/N_200_T_1260_unividx_33.mat' './data/out_N_200_T_1260_unividx_33.mat'\", \"computecov './data/N_200_T_1260_unividx_34.mat' './data/out_N_200_T_1260_unividx_34.mat'\", \"computecov './data/N_200_T_1260_unividx_35.mat' './data/out_N_200_T_1260_unividx_35.mat'\", \"computecov './data/N_200_T_1260_unividx_36.mat' './data/out_N_200_T_1260_unividx_36.mat'\", \"computecov './data/N_200_T_1260_unividx_37.mat' './data/out_N_200_T_1260_unividx_37.mat'\", \"computecov './data/N_200_T_1260_unividx_38.mat' './data/out_N_200_T_1260_unividx_38.mat'\", \"computecov './data/N_200_T_1260_unividx_39.mat' './data/out_N_200_T_1260_unividx_39.mat'\", \"computecov './data/N_200_T_1260_unividx_40.mat' './data/out_N_200_T_1260_unividx_40.mat'\", \"computecov './data/N_200_T_1260_unividx_41.mat' './data/out_N_200_T_1260_unividx_41.mat'\", \"computecov './data/N_200_T_1260_unividx_42.mat' './data/out_N_200_T_1260_unividx_42.mat'\", \"computecov './data/N_200_T_1260_unividx_43.mat' './data/out_N_200_T_1260_unividx_43.mat'\", \"computecov './data/N_200_T_1260_unividx_44.mat' './data/out_N_200_T_1260_unividx_44.mat'\", \"computecov './data/N_200_T_1260_unividx_45.mat' './data/out_N_200_T_1260_unividx_45.mat'\", \"computecov './data/N_200_T_1260_unividx_46.mat' './data/out_N_200_T_1260_unividx_46.mat'\", \"computecov './data/N_200_T_1260_unividx_47.mat' './data/out_N_200_T_1260_unividx_47.mat'\", \"computecov './data/N_200_T_1260_unividx_48.mat' './data/out_N_200_T_1260_unividx_48.mat'\", \"computecov './data/N_200_T_1260_unividx_49.mat' './data/out_N_200_T_1260_unividx_49.mat'\", \"computecov './data/N_200_T_1260_unividx_50.mat' './data/out_N_200_T_1260_unividx_50.mat'\", \"computecov './data/N_200_T_1260_unividx_51.mat' './data/out_N_200_T_1260_unividx_51.mat'\", \"computecov './data/N_200_T_1260_unividx_52.mat' './data/out_N_200_T_1260_unividx_52.mat'\", \"computecov './data/N_200_T_1260_unividx_53.mat' './data/out_N_200_T_1260_unividx_53.mat'\", \"computecov './data/N_200_T_1260_unividx_54.mat' './data/out_N_200_T_1260_unividx_54.mat'\", \"computecov './data/N_200_T_1260_unividx_55.mat' './data/out_N_200_T_1260_unividx_55.mat'\", \"computecov './data/N_200_T_1260_unividx_56.mat' './data/out_N_200_T_1260_unividx_56.mat'\", \"computecov './data/N_200_T_1260_unividx_57.mat' './data/out_N_200_T_1260_unividx_57.mat'\", \"computecov './data/N_200_T_1260_unividx_58.mat' './data/out_N_200_T_1260_unividx_58.mat'\", \"computecov './data/N_200_T_1260_unividx_59.mat' './data/out_N_200_T_1260_unividx_59.mat'\", \"computecov './data/N_200_T_1260_unividx_60.mat' './data/out_N_200_T_1260_unividx_60.mat'\", \"computecov './data/N_200_T_1260_unividx_61.mat' './data/out_N_200_T_1260_unividx_61.mat'\", \"computecov './data/N_200_T_1260_unividx_62.mat' './data/out_N_200_T_1260_unividx_62.mat'\", \"computecov './data/N_200_T_1260_unividx_63.mat' './data/out_N_200_T_1260_unividx_63.mat'\", \"computecov './data/N_200_T_1260_unividx_64.mat' './data/out_N_200_T_1260_unividx_64.mat'\", \"computecov './data/N_200_T_1260_unividx_65.mat' './data/out_N_200_T_1260_unividx_65.mat'\", \"computecov './data/N_200_T_1260_unividx_66.mat' './data/out_N_200_T_1260_unividx_66.mat'\", \"computecov './data/N_200_T_1260_unividx_67.mat' './data/out_N_200_T_1260_unividx_67.mat'\", \"computecov './data/N_200_T_1260_unividx_68.mat' './data/out_N_200_T_1260_unividx_68.mat'\", \"computecov './data/N_200_T_1260_unividx_69.mat' './data/out_N_200_T_1260_unividx_69.mat'\", \"computecov './data/N_200_T_1260_unividx_70.mat' './data/out_N_200_T_1260_unividx_70.mat'\", \"computecov './data/N_200_T_1260_unividx_71.mat' './data/out_N_200_T_1260_unividx_71.mat'\", \"computecov './data/N_200_T_1260_unividx_72.mat' './data/out_N_200_T_1260_unividx_72.mat'\", \"computecov './data/N_200_T_1260_unividx_73.mat' './data/out_N_200_T_1260_unividx_73.mat'\", \"computecov './data/N_200_T_1260_unividx_74.mat' './data/out_N_200_T_1260_unividx_74.mat'\", \"computecov './data/N_200_T_1260_unividx_75.mat' './data/out_N_200_T_1260_unividx_75.mat'\", \"computecov './data/N_200_T_1260_unividx_76.mat' './data/out_N_200_T_1260_unividx_76.mat'\", \"computecov './data/N_200_T_1260_unividx_77.mat' './data/out_N_200_T_1260_unividx_77.mat'\", \"computecov './data/N_200_T_1260_unividx_78.mat' './data/out_N_200_T_1260_unividx_78.mat'\", \"computecov './data/N_200_T_1260_unividx_79.mat' './data/out_N_200_T_1260_unividx_79.mat'\", \"computecov './data/N_200_T_1260_unividx_80.mat' './data/out_N_200_T_1260_unividx_80.mat'\", \"computecov './data/N_200_T_1260_unividx_81.mat' './data/out_N_200_T_1260_unividx_81.mat'\", \"computecov './data/N_200_T_1260_unividx_82.mat' './data/out_N_200_T_1260_unividx_82.mat'\", \"computecov './data/N_200_T_1260_unividx_83.mat' './data/out_N_200_T_1260_unividx_83.mat'\", \"computecov './data/N_200_T_1260_unividx_84.mat' './data/out_N_200_T_1260_unividx_84.mat'\", \"computecov './data/N_200_T_1260_unividx_85.mat' './data/out_N_200_T_1260_unividx_85.mat'\", \"computecov './data/N_200_T_1260_unividx_86.mat' './data/out_N_200_T_1260_unividx_86.mat'\", \"computecov './data/N_200_T_1260_unividx_87.mat' './data/out_N_200_T_1260_unividx_87.mat'\", \"computecov './data/N_200_T_1260_unividx_88.mat' './data/out_N_200_T_1260_unividx_88.mat'\", \"computecov './data/N_200_T_1260_unividx_89.mat' './data/out_N_200_T_1260_unividx_89.mat'\", \"computecov './data/N_200_T_1260_unividx_90.mat' './data/out_N_200_T_1260_unividx_90.mat'\", \"computecov './data/N_200_T_1260_unividx_91.mat' './data/out_N_200_T_1260_unividx_91.mat'\", \"computecov './data/N_200_T_1260_unividx_92.mat' './data/out_N_200_T_1260_unividx_92.mat'\", \"computecov './data/N_200_T_1260_unividx_93.mat' './data/out_N_200_T_1260_unividx_93.mat'\", \"computecov './data/N_200_T_1260_unividx_94.mat' './data/out_N_200_T_1260_unividx_94.mat'\", \"computecov './data/N_200_T_1260_unividx_95.mat' './data/out_N_200_T_1260_unividx_95.mat'\", \"computecov './data/N_200_T_1260_unividx_96.mat' './data/out_N_200_T_1260_unividx_96.mat'\", \"computecov './data/N_200_T_1260_unividx_97.mat' './data/out_N_200_T_1260_unividx_97.mat'\", \"computecov './data/N_200_T_1260_unividx_98.mat' './data/out_N_200_T_1260_unividx_98.mat'\", \"computecov './data/N_200_T_1260_unividx_99.mat' './data/out_N_200_T_1260_unividx_99.mat'\", \"computecov './data/N_200_T_1260_unividx_100.mat' './data/out_N_200_T_1260_unividx_100.mat'\", \"computecov './data/N_200_T_1260_unividx_101.mat' './data/out_N_200_T_1260_unividx_101.mat'\", \"computecov './data/N_200_T_1260_unividx_102.mat' './data/out_N_200_T_1260_unividx_102.mat'\", \"computecov './data/N_200_T_1260_unividx_103.mat' './data/out_N_200_T_1260_unividx_103.mat'\", \"computecov './data/N_200_T_1260_unividx_104.mat' './data/out_N_200_T_1260_unividx_104.mat'\", \"computecov './data/N_200_T_1260_unividx_105.mat' './data/out_N_200_T_1260_unividx_105.mat'\", \"computecov './data/N_200_T_1260_unividx_106.mat' './data/out_N_200_T_1260_unividx_106.mat'\", \"computecov './data/N_200_T_1260_unividx_107.mat' './data/out_N_200_T_1260_unividx_107.mat'\", \"computecov './data/N_200_T_1260_unividx_108.mat' './data/out_N_200_T_1260_unividx_108.mat'\", \"computecov './data/N_200_T_1260_unividx_109.mat' './data/out_N_200_T_1260_unividx_109.mat'\", \"computecov './data/N_200_T_1260_unividx_110.mat' './data/out_N_200_T_1260_unividx_110.mat'\", \"computecov './data/N_200_T_1260_unividx_111.mat' './data/out_N_200_T_1260_unividx_111.mat'\", \"computecov './data/N_200_T_1260_unividx_112.mat' './data/out_N_200_T_1260_unividx_112.mat'\", \"computecov './data/N_200_T_1260_unividx_113.mat' './data/out_N_200_T_1260_unividx_113.mat'\", \"computecov './data/N_200_T_1260_unividx_114.mat' './data/out_N_200_T_1260_unividx_114.mat'\", \"computecov './data/N_200_T_1260_unividx_115.mat' './data/out_N_200_T_1260_unividx_115.mat'\", \"computecov './data/N_200_T_1260_unividx_116.mat' './data/out_N_200_T_1260_unividx_116.mat'\", \"computecov './data/N_200_T_1260_unividx_117.mat' './data/out_N_200_T_1260_unividx_117.mat'\", \"computecov './data/N_200_T_1260_unividx_118.mat' './data/out_N_200_T_1260_unividx_118.mat'\", \"computecov './data/N_200_T_1260_unividx_119.mat' './data/out_N_200_T_1260_unividx_119.mat'\", \"computecov './data/N_200_T_1260_unividx_120.mat' './data/out_N_200_T_1260_unividx_120.mat'\", \"computecov './data/N_200_T_1260_unividx_121.mat' './data/out_N_200_T_1260_unividx_121.mat'\", \"computecov './data/N_200_T_1260_unividx_122.mat' './data/out_N_200_T_1260_unividx_122.mat'\", \"computecov './data/N_200_T_1260_unividx_123.mat' './data/out_N_200_T_1260_unividx_123.mat'\", \"computecov './data/N_200_T_1260_unividx_124.mat' './data/out_N_200_T_1260_unividx_124.mat'\", \"computecov './data/N_200_T_1260_unividx_125.mat' './data/out_N_200_T_1260_unividx_125.mat'\", \"computecov './data/N_200_T_1260_unividx_126.mat' './data/out_N_200_T_1260_unividx_126.mat'\", \"computecov './data/N_200_T_1260_unividx_127.mat' './data/out_N_200_T_1260_unividx_127.mat'\", \"computecov './data/N_200_T_1260_unividx_128.mat' './data/out_N_200_T_1260_unividx_128.mat'\", \"computecov './data/N_200_T_1260_unividx_129.mat' './data/out_N_200_T_1260_unividx_129.mat'\", \"computecov './data/N_200_T_1260_unividx_130.mat' './data/out_N_200_T_1260_unividx_130.mat'\", \"computecov './data/N_200_T_1260_unividx_131.mat' './data/out_N_200_T_1260_unividx_131.mat'\", \"computecov './data/N_200_T_1260_unividx_132.mat' './data/out_N_200_T_1260_unividx_132.mat'\", \"computecov './data/N_200_T_1260_unividx_133.mat' './data/out_N_200_T_1260_unividx_133.mat'\", \"computecov './data/N_200_T_1260_unividx_134.mat' './data/out_N_200_T_1260_unividx_134.mat'\", \"computecov './data/N_200_T_1260_unividx_135.mat' './data/out_N_200_T_1260_unividx_135.mat'\", \"computecov './data/N_200_T_1260_unividx_136.mat' './data/out_N_200_T_1260_unividx_136.mat'\", \"computecov './data/N_200_T_1260_unividx_137.mat' './data/out_N_200_T_1260_unividx_137.mat'\", \"computecov './data/N_200_T_1260_unividx_138.mat' './data/out_N_200_T_1260_unividx_138.mat'\", \"computecov './data/N_200_T_1260_unividx_139.mat' './data/out_N_200_T_1260_unividx_139.mat'\", \"computecov './data/N_200_T_1260_unividx_140.mat' './data/out_N_200_T_1260_unividx_140.mat'\", \"computecov './data/N_200_T_1260_unividx_141.mat' './data/out_N_200_T_1260_unividx_141.mat'\", \"computecov './data/N_200_T_1260_unividx_142.mat' './data/out_N_200_T_1260_unividx_142.mat'\", \"computecov './data/N_200_T_1260_unividx_143.mat' './data/out_N_200_T_1260_unividx_143.mat'\", \"computecov './data/N_200_T_1260_unividx_144.mat' './data/out_N_200_T_1260_unividx_144.mat'\", \"computecov './data/N_200_T_1260_unividx_145.mat' './data/out_N_200_T_1260_unividx_145.mat'\", \"computecov './data/N_200_T_1260_unividx_146.mat' './data/out_N_200_T_1260_unividx_146.mat'\", \"computecov './data/N_200_T_1260_unividx_147.mat' './data/out_N_200_T_1260_unividx_147.mat'\", \"computecov './data/N_200_T_1260_unividx_148.mat' './data/out_N_200_T_1260_unividx_148.mat'\", \"computecov './data/N_200_T_1260_unividx_149.mat' './data/out_N_200_T_1260_unividx_149.mat'\", \"computecov './data/N_200_T_1260_unividx_150.mat' './data/out_N_200_T_1260_unividx_150.mat'\", \"computecov './data/N_200_T_1260_unividx_151.mat' './data/out_N_200_T_1260_unividx_151.mat'\", \"computecov './data/N_200_T_1260_unividx_152.mat' './data/out_N_200_T_1260_unividx_152.mat'\", \"computecov './data/N_200_T_1260_unividx_153.mat' './data/out_N_200_T_1260_unividx_153.mat'\", \"computecov './data/N_200_T_1260_unividx_154.mat' './data/out_N_200_T_1260_unividx_154.mat'\", \"computecov './data/N_200_T_1260_unividx_155.mat' './data/out_N_200_T_1260_unividx_155.mat'\", \"computecov './data/N_200_T_1260_unividx_156.mat' './data/out_N_200_T_1260_unividx_156.mat'\", \"computecov './data/N_200_T_1260_unividx_157.mat' './data/out_N_200_T_1260_unividx_157.mat'\", \"computecov './data/N_200_T_1260_unividx_158.mat' './data/out_N_200_T_1260_unividx_158.mat'\", \"computecov './data/N_200_T_1260_unividx_159.mat' './data/out_N_200_T_1260_unividx_159.mat'\", \"computecov './data/N_200_T_1260_unividx_160.mat' './data/out_N_200_T_1260_unividx_160.mat'\", \"computecov './data/N_200_T_1260_unividx_161.mat' './data/out_N_200_T_1260_unividx_161.mat'\", \"computecov './data/N_200_T_1260_unividx_162.mat' './data/out_N_200_T_1260_unividx_162.mat'\", \"computecov './data/N_200_T_1260_unividx_163.mat' './data/out_N_200_T_1260_unividx_163.mat'\", \"computecov './data/N_200_T_1260_unividx_164.mat' './data/out_N_200_T_1260_unividx_164.mat'\", \"computecov './data/N_200_T_1260_unividx_165.mat' './data/out_N_200_T_1260_unividx_165.mat'\", \"computecov './data/N_200_T_1260_unividx_166.mat' './data/out_N_200_T_1260_unividx_166.mat'\", \"computecov './data/N_200_T_1260_unividx_167.mat' './data/out_N_200_T_1260_unividx_167.mat'\", \"computecov './data/N_200_T_1260_unividx_168.mat' './data/out_N_200_T_1260_unividx_168.mat'\", \"computecov './data/N_200_T_1260_unividx_169.mat' './data/out_N_200_T_1260_unividx_169.mat'\", \"computecov './data/N_200_T_1260_unividx_170.mat' './data/out_N_200_T_1260_unividx_170.mat'\", \"computecov './data/N_200_T_1260_unividx_171.mat' './data/out_N_200_T_1260_unividx_171.mat'\", \"computecov './data/N_200_T_1260_unividx_172.mat' './data/out_N_200_T_1260_unividx_172.mat'\", \"computecov './data/N_200_T_1260_unividx_173.mat' './data/out_N_200_T_1260_unividx_173.mat'\", \"computecov './data/N_200_T_1260_unividx_174.mat' './data/out_N_200_T_1260_unividx_174.mat'\", \"computecov './data/N_200_T_1260_unividx_175.mat' './data/out_N_200_T_1260_unividx_175.mat'\", \"computecov './data/N_200_T_1260_unividx_176.mat' './data/out_N_200_T_1260_unividx_176.mat'\", \"computecov './data/N_200_T_1260_unividx_177.mat' './data/out_N_200_T_1260_unividx_177.mat'\", \"computecov './data/N_200_T_1260_unividx_178.mat' './data/out_N_200_T_1260_unividx_178.mat'\", \"computecov './data/N_200_T_1260_unividx_179.mat' './data/out_N_200_T_1260_unividx_179.mat'\", \"computecov './data/N_200_T_1260_unividx_180.mat' './data/out_N_200_T_1260_unividx_180.mat'\", \"computecov './data/N_200_T_1260_unividx_181.mat' './data/out_N_200_T_1260_unividx_181.mat'\", \"computecov './data/N_200_T_1260_unividx_182.mat' './data/out_N_200_T_1260_unividx_182.mat'\", \"computecov './data/N_200_T_1260_unividx_183.mat' './data/out_N_200_T_1260_unividx_183.mat'\", \"computecov './data/N_200_T_1260_unividx_184.mat' './data/out_N_200_T_1260_unividx_184.mat'\", \"computecov './data/N_200_T_1260_unividx_185.mat' './data/out_N_200_T_1260_unividx_185.mat'\", \"computecov './data/N_200_T_1260_unividx_186.mat' './data/out_N_200_T_1260_unividx_186.mat'\", \"computecov './data/N_200_T_1260_unividx_187.mat' './data/out_N_200_T_1260_unividx_187.mat'\", \"computecov './data/N_200_T_1260_unividx_188.mat' './data/out_N_200_T_1260_unividx_188.mat'\", \"computecov './data/N_200_T_1260_unividx_189.mat' './data/out_N_200_T_1260_unividx_189.mat'\", \"computecov './data/N_200_T_1260_unividx_190.mat' './data/out_N_200_T_1260_unividx_190.mat'\", \"computecov './data/N_200_T_1260_unividx_191.mat' './data/out_N_200_T_1260_unividx_191.mat'\", \"computecov './data/N_200_T_1260_unividx_192.mat' './data/out_N_200_T_1260_unividx_192.mat'\", \"computecov './data/N_200_T_1260_unividx_193.mat' './data/out_N_200_T_1260_unividx_193.mat'\", \"computecov './data/N_200_T_1260_unividx_194.mat' './data/out_N_200_T_1260_unividx_194.mat'\", \"computecov './data/N_200_T_1260_unividx_195.mat' './data/out_N_200_T_1260_unividx_195.mat'\", \"computecov './data/N_200_T_1260_unividx_196.mat' './data/out_N_200_T_1260_unividx_196.mat'\", \"computecov './data/N_200_T_1260_unividx_197.mat' './data/out_N_200_T_1260_unividx_197.mat'\", \"computecov './data/N_200_T_1260_unividx_198.mat' './data/out_N_200_T_1260_unividx_198.mat'\", \"computecov './data/N_200_T_1260_unividx_199.mat' './data/out_N_200_T_1260_unividx_199.mat'\", \"computecov './data/N_200_T_1260_unividx_200.mat' './data/out_N_200_T_1260_unividx_200.mat'\", \"computecov './data/N_200_T_1260_unividx_201.mat' './data/out_N_200_T_1260_unividx_201.mat'\", \"computecov './data/N_200_T_1260_unividx_202.mat' './data/out_N_200_T_1260_unividx_202.mat'\", \"computecov './data/N_200_T_1260_unividx_203.mat' './data/out_N_200_T_1260_unividx_203.mat'\", \"computecov './data/N_200_T_1260_unividx_204.mat' './data/out_N_200_T_1260_unividx_204.mat'\", \"computecov './data/N_200_T_1260_unividx_205.mat' './data/out_N_200_T_1260_unividx_205.mat'\", \"computecov './data/N_200_T_1260_unividx_206.mat' './data/out_N_200_T_1260_unividx_206.mat'\", \"computecov './data/N_200_T_1260_unividx_207.mat' './data/out_N_200_T_1260_unividx_207.mat'\", \"computecov './data/N_200_T_1260_unividx_208.mat' './data/out_N_200_T_1260_unividx_208.mat'\", \"computecov './data/N_200_T_1260_unividx_209.mat' './data/out_N_200_T_1260_unividx_209.mat'\", \"computecov './data/N_200_T_1260_unividx_210.mat' './data/out_N_200_T_1260_unividx_210.mat'\", \"computecov './data/N_200_T_1260_unividx_211.mat' './data/out_N_200_T_1260_unividx_211.mat'\", \"computecov './data/N_200_T_1260_unividx_212.mat' './data/out_N_200_T_1260_unividx_212.mat'\", \"computecov './data/N_200_T_1260_unividx_213.mat' './data/out_N_200_T_1260_unividx_213.mat'\", \"computecov './data/N_200_T_1260_unividx_214.mat' './data/out_N_200_T_1260_unividx_214.mat'\", \"computecov './data/N_200_T_1260_unividx_215.mat' './data/out_N_200_T_1260_unividx_215.mat'\", \"computecov './data/N_200_T_1260_unividx_216.mat' './data/out_N_200_T_1260_unividx_216.mat'\", \"computecov './data/N_200_T_1260_unividx_217.mat' './data/out_N_200_T_1260_unividx_217.mat'\", \"computecov './data/N_200_T_1260_unividx_218.mat' './data/out_N_200_T_1260_unividx_218.mat'\", \"computecov './data/N_200_T_1260_unividx_219.mat' './data/out_N_200_T_1260_unividx_219.mat'\", \"computecov './data/N_200_T_1260_unividx_220.mat' './data/out_N_200_T_1260_unividx_220.mat'\", \"computecov './data/N_200_T_1260_unividx_221.mat' './data/out_N_200_T_1260_unividx_221.mat'\", \"computecov './data/N_200_T_1260_unividx_222.mat' './data/out_N_200_T_1260_unividx_222.mat'\", \"computecov './data/N_200_T_1260_unividx_223.mat' './data/out_N_200_T_1260_unividx_223.mat'\", \"computecov './data/N_200_T_1260_unividx_224.mat' './data/out_N_200_T_1260_unividx_224.mat'\", \"computecov './data/N_200_T_1260_unividx_225.mat' './data/out_N_200_T_1260_unividx_225.mat'\", \"computecov './data/N_200_T_1260_unividx_226.mat' './data/out_N_200_T_1260_unividx_226.mat'\", \"computecov './data/N_200_T_1260_unividx_227.mat' './data/out_N_200_T_1260_unividx_227.mat'\", \"computecov './data/N_200_T_1260_unividx_228.mat' './data/out_N_200_T_1260_unividx_228.mat'\", \"computecov './data/N_200_T_1260_unividx_229.mat' './data/out_N_200_T_1260_unividx_229.mat'\", \"computecov './data/N_200_T_1260_unividx_230.mat' './data/out_N_200_T_1260_unividx_230.mat'\", \"computecov './data/N_200_T_1260_unividx_231.mat' './data/out_N_200_T_1260_unividx_231.mat'\", \"computecov './data/N_200_T_1260_unividx_232.mat' './data/out_N_200_T_1260_unividx_232.mat'\", \"computecov './data/N_200_T_1260_unividx_233.mat' './data/out_N_200_T_1260_unividx_233.mat'\", \"computecov './data/N_200_T_1260_unividx_234.mat' './data/out_N_200_T_1260_unividx_234.mat'\", \"computecov './data/N_200_T_1260_unividx_235.mat' './data/out_N_200_T_1260_unividx_235.mat'\", \"computecov './data/N_200_T_1260_unividx_236.mat' './data/out_N_200_T_1260_unividx_236.mat'\", \"computecov './data/N_200_T_1260_unividx_237.mat' './data/out_N_200_T_1260_unividx_237.mat'\", \"computecov './data/N_200_T_1260_unividx_238.mat' './data/out_N_200_T_1260_unividx_238.mat'\", \"computecov './data/N_200_T_1260_unividx_239.mat' './data/out_N_200_T_1260_unividx_239.mat'\", \"computecov './data/N_200_T_1260_unividx_240.mat' './data/out_N_200_T_1260_unividx_240.mat'\", \"computecov './data/N_200_T_1260_unividx_241.mat' './data/out_N_200_T_1260_unividx_241.mat'\", \"computecov './data/N_200_T_1260_unividx_242.mat' './data/out_N_200_T_1260_unividx_242.mat'\", \"computecov './data/N_200_T_1260_unividx_243.mat' './data/out_N_200_T_1260_unividx_243.mat'\", \"computecov './data/N_200_T_1260_unividx_244.mat' './data/out_N_200_T_1260_unividx_244.mat'\", \"computecov './data/N_200_T_1260_unividx_245.mat' './data/out_N_200_T_1260_unividx_245.mat'\", \"computecov './data/N_200_T_1260_unividx_246.mat' './data/out_N_200_T_1260_unividx_246.mat'\", \"computecov './data/N_200_T_1260_unividx_247.mat' './data/out_N_200_T_1260_unividx_247.mat'\", \"computecov './data/N_200_T_1260_unividx_248.mat' './data/out_N_200_T_1260_unividx_248.mat'\", \"computecov './data/N_200_T_1260_unividx_249.mat' './data/out_N_200_T_1260_unividx_249.mat'\", \"computecov './data/N_200_T_1260_unividx_250.mat' './data/out_N_200_T_1260_unividx_250.mat'\", \"computecov './data/N_200_T_1260_unividx_251.mat' './data/out_N_200_T_1260_unividx_251.mat'\", \"computecov './data/N_200_T_1260_unividx_252.mat' './data/out_N_200_T_1260_unividx_252.mat'\", \"computecov './data/N_200_T_1260_unividx_253.mat' './data/out_N_200_T_1260_unividx_253.mat'\", \"computecov './data/N_200_T_1260_unividx_254.mat' './data/out_N_200_T_1260_unividx_254.mat'\", \"computecov './data/N_200_T_1260_unividx_255.mat' './data/out_N_200_T_1260_unividx_255.mat'\", \"computecov './data/N_200_T_1260_unividx_256.mat' './data/out_N_200_T_1260_unividx_256.mat'\", \"computecov './data/N_200_T_1260_unividx_257.mat' './data/out_N_200_T_1260_unividx_257.mat'\", \"computecov './data/N_200_T_1260_unividx_258.mat' './data/out_N_200_T_1260_unividx_258.mat'\", \"computecov './data/N_200_T_1260_unividx_259.mat' './data/out_N_200_T_1260_unividx_259.mat'\", \"computecov './data/N_200_T_1260_unividx_260.mat' './data/out_N_200_T_1260_unividx_260.mat'\", \"computecov './data/N_200_T_1260_unividx_261.mat' './data/out_N_200_T_1260_unividx_261.mat'\", \"computecov './data/N_200_T_1260_unividx_262.mat' './data/out_N_200_T_1260_unividx_262.mat'\", \"computecov './data/N_200_T_1260_unividx_263.mat' './data/out_N_200_T_1260_unividx_263.mat'\", \"computecov './data/N_200_T_1260_unividx_264.mat' './data/out_N_200_T_1260_unividx_264.mat'\", \"computecov './data/N_200_T_1260_unividx_265.mat' './data/out_N_200_T_1260_unividx_265.mat'\", \"computecov './data/N_200_T_1260_unividx_266.mat' './data/out_N_200_T_1260_unividx_266.mat'\", \"computecov './data/N_200_T_1260_unividx_267.mat' './data/out_N_200_T_1260_unividx_267.mat'\", \"computecov './data/N_200_T_1260_unividx_268.mat' './data/out_N_200_T_1260_unividx_268.mat'\", \"computecov './data/N_200_T_1260_unividx_269.mat' './data/out_N_200_T_1260_unividx_269.mat'\", \"computecov './data/N_200_T_1260_unividx_270.mat' './data/out_N_200_T_1260_unividx_270.mat'\", \"computecov './data/N_200_T_1260_unividx_271.mat' './data/out_N_200_T_1260_unividx_271.mat'\", \"computecov './data/N_200_T_1260_unividx_272.mat' './data/out_N_200_T_1260_unividx_272.mat'\", \"computecov './data/N_200_T_1260_unividx_273.mat' './data/out_N_200_T_1260_unividx_273.mat'\", \"computecov './data/N_200_T_1260_unividx_274.mat' './data/out_N_200_T_1260_unividx_274.mat'\", \"computecov './data/N_200_T_1260_unividx_275.mat' './data/out_N_200_T_1260_unividx_275.mat'\", \"computecov './data/N_200_T_1260_unividx_276.mat' './data/out_N_200_T_1260_unividx_276.mat'\", \"computecov './data/N_200_T_1260_unividx_277.mat' './data/out_N_200_T_1260_unividx_277.mat'\", \"computecov './data/N_200_T_1260_unividx_278.mat' './data/out_N_200_T_1260_unividx_278.mat'\", \"computecov './data/N_200_T_1260_unividx_279.mat' './data/out_N_200_T_1260_unividx_279.mat'\", \"computecov './data/N_200_T_1260_unividx_280.mat' './data/out_N_200_T_1260_unividx_280.mat'\", \"computecov './data/N_200_T_1260_unividx_281.mat' './data/out_N_200_T_1260_unividx_281.mat'\", \"computecov './data/N_200_T_1260_unividx_282.mat' './data/out_N_200_T_1260_unividx_282.mat'\", \"computecov './data/N_200_T_1260_unividx_283.mat' './data/out_N_200_T_1260_unividx_283.mat'\", \"computecov './data/N_200_T_1260_unividx_284.mat' './data/out_N_200_T_1260_unividx_284.mat'\", \"computecov './data/N_200_T_1260_unividx_285.mat' './data/out_N_200_T_1260_unividx_285.mat'\", \"computecov './data/N_200_T_1260_unividx_286.mat' './data/out_N_200_T_1260_unividx_286.mat'\", \"computecov './data/N_200_T_1260_unividx_287.mat' './data/out_N_200_T_1260_unividx_287.mat'\", \"computecov './data/N_200_T_1260_unividx_288.mat' './data/out_N_200_T_1260_unividx_288.mat'\", \"computecov './data/N_200_T_1260_unividx_289.mat' './data/out_N_200_T_1260_unividx_289.mat'\", \"computecov './data/N_200_T_1260_unividx_290.mat' './data/out_N_200_T_1260_unividx_290.mat'\", \"computecov './data/N_200_T_1260_unividx_291.mat' './data/out_N_200_T_1260_unividx_291.mat'\", \"computecov './data/N_200_T_1260_unividx_292.mat' './data/out_N_200_T_1260_unividx_292.mat'\", \"computecov './data/N_200_T_1260_unividx_293.mat' './data/out_N_200_T_1260_unividx_293.mat'\", \"computecov './data/N_200_T_1260_unividx_294.mat' './data/out_N_200_T_1260_unividx_294.mat'\", \"computecov './data/N_200_T_1260_unividx_295.mat' './data/out_N_200_T_1260_unividx_295.mat'\", \"computecov './data/N_200_T_1260_unividx_296.mat' './data/out_N_200_T_1260_unividx_296.mat'\", \"computecov './data/N_200_T_1260_unividx_297.mat' './data/out_N_200_T_1260_unividx_297.mat'\", \"computecov './data/N_200_T_1260_unividx_298.mat' './data/out_N_200_T_1260_unividx_298.mat'\", \"computecov './data/N_200_T_1260_unividx_299.mat' './data/out_N_200_T_1260_unividx_299.mat'\", \"computecov './data/N_200_T_1260_unividx_300.mat' './data/out_N_200_T_1260_unividx_300.mat'\", \"computecov './data/N_200_T_1260_unividx_301.mat' './data/out_N_200_T_1260_unividx_301.mat'\", \"computecov './data/N_200_T_1260_unividx_302.mat' './data/out_N_200_T_1260_unividx_302.mat'\", \"computecov './data/N_200_T_1260_unividx_303.mat' './data/out_N_200_T_1260_unividx_303.mat'\", \"computecov './data/N_200_T_1260_unividx_304.mat' './data/out_N_200_T_1260_unividx_304.mat'\", \"computecov './data/N_200_T_1260_unividx_305.mat' './data/out_N_200_T_1260_unividx_305.mat'\", \"computecov './data/N_200_T_1260_unividx_306.mat' './data/out_N_200_T_1260_unividx_306.mat'\", \"computecov './data/N_200_T_1260_unividx_307.mat' './data/out_N_200_T_1260_unividx_307.mat'\", \"computecov './data/N_200_T_1260_unividx_308.mat' './data/out_N_200_T_1260_unividx_308.mat'\", \"computecov './data/N_200_T_1260_unividx_309.mat' './data/out_N_200_T_1260_unividx_309.mat'\", \"computecov './data/N_200_T_1260_unividx_310.mat' './data/out_N_200_T_1260_unividx_310.mat'\", \"computecov './data/N_200_T_1260_unividx_311.mat' './data/out_N_200_T_1260_unividx_311.mat'\", \"computecov './data/N_200_T_1260_unividx_312.mat' './data/out_N_200_T_1260_unividx_312.mat'\", \"computecov './data/N_200_T_1260_unividx_313.mat' './data/out_N_200_T_1260_unividx_313.mat'\", \"computecov './data/N_200_T_1260_unividx_314.mat' './data/out_N_200_T_1260_unividx_314.mat'\", \"computecov './data/N_200_T_1260_unividx_315.mat' './data/out_N_200_T_1260_unividx_315.mat'\", \"computecov './data/N_200_T_1260_unividx_316.mat' './data/out_N_200_T_1260_unividx_316.mat'\", \"computecov './data/N_200_T_1260_unividx_317.mat' './data/out_N_200_T_1260_unividx_317.mat'\", \"computecov './data/N_200_T_1260_unividx_318.mat' './data/out_N_200_T_1260_unividx_318.mat'\", \"computecov './data/N_200_T_1260_unividx_319.mat' './data/out_N_200_T_1260_unividx_319.mat'\", \"computecov './data/N_200_T_1260_unividx_320.mat' './data/out_N_200_T_1260_unividx_320.mat'\", \"computecov './data/N_200_T_1260_unividx_321.mat' './data/out_N_200_T_1260_unividx_321.mat'\", \"computecov './data/N_200_T_1260_unividx_322.mat' './data/out_N_200_T_1260_unividx_322.mat'\", \"computecov './data/N_200_T_1260_unividx_323.mat' './data/out_N_200_T_1260_unividx_323.mat'\", \"computecov './data/N_200_T_1260_unividx_324.mat' './data/out_N_200_T_1260_unividx_324.mat'\", \"computecov './data/N_200_T_1260_unividx_325.mat' './data/out_N_200_T_1260_unividx_325.mat'\", \"computecov './data/N_200_T_1260_unividx_326.mat' './data/out_N_200_T_1260_unividx_326.mat'\", \"computecov './data/N_200_T_1260_unividx_327.mat' './data/out_N_200_T_1260_unividx_327.mat'\", \"computecov './data/N_200_T_1260_unividx_328.mat' './data/out_N_200_T_1260_unividx_328.mat'\", \"computecov './data/N_200_T_1260_unividx_329.mat' './data/out_N_200_T_1260_unividx_329.mat'\", \"computecov './data/N_200_T_1260_unividx_330.mat' './data/out_N_200_T_1260_unividx_330.mat'\", \"computecov './data/N_200_T_1260_unividx_331.mat' './data/out_N_200_T_1260_unividx_331.mat'\", \"computecov './data/N_200_T_1260_unividx_332.mat' './data/out_N_200_T_1260_unividx_332.mat'\", \"computecov './data/N_200_T_1260_unividx_333.mat' './data/out_N_200_T_1260_unividx_333.mat'\", \"computecov './data/N_200_T_1260_unividx_334.mat' './data/out_N_200_T_1260_unividx_334.mat'\", \"computecov './data/N_200_T_1260_unividx_335.mat' './data/out_N_200_T_1260_unividx_335.mat'\", \"computecov './data/N_200_T_1260_unividx_336.mat' './data/out_N_200_T_1260_unividx_336.mat'\", \"computecov './data/N_200_T_1260_unividx_337.mat' './data/out_N_200_T_1260_unividx_337.mat'\", \"computecov './data/N_200_T_1260_unividx_338.mat' './data/out_N_200_T_1260_unividx_338.mat'\", \"computecov './data/N_200_T_1260_unividx_339.mat' './data/out_N_200_T_1260_unividx_339.mat'\", \"computecov './data/N_200_T_1260_unividx_340.mat' './data/out_N_200_T_1260_unividx_340.mat'\", \"computecov './data/N_200_T_1260_unividx_341.mat' './data/out_N_200_T_1260_unividx_341.mat'\", \"computecov './data/N_200_T_1260_unividx_342.mat' './data/out_N_200_T_1260_unividx_342.mat'\", \"computecov './data/N_200_T_1260_unividx_343.mat' './data/out_N_200_T_1260_unividx_343.mat'\", \"computecov './data/N_200_T_1260_unividx_344.mat' './data/out_N_200_T_1260_unividx_344.mat'\", \"computecov './data/N_200_T_1260_unividx_345.mat' './data/out_N_200_T_1260_unividx_345.mat'\", \"computecov './data/N_200_T_1260_unividx_346.mat' './data/out_N_200_T_1260_unividx_346.mat'\", \"computecov './data/N_200_T_1260_unividx_347.mat' './data/out_N_200_T_1260_unividx_347.mat'\", \"computecov './data/N_200_T_1260_unividx_348.mat' './data/out_N_200_T_1260_unividx_348.mat'\", \"computecov './data/N_200_T_1260_unividx_349.mat' './data/out_N_200_T_1260_unividx_349.mat'\", \"computecov './data/N_200_T_1260_unividx_350.mat' './data/out_N_200_T_1260_unividx_350.mat'\", \"computecov './data/N_200_T_1260_unividx_351.mat' './data/out_N_200_T_1260_unividx_351.mat'\", \"computecov './data/N_200_T_1260_unividx_352.mat' './data/out_N_200_T_1260_unividx_352.mat'\", \"computecov './data/N_200_T_1260_unividx_353.mat' './data/out_N_200_T_1260_unividx_353.mat'\", \"computecov './data/N_200_T_1260_unividx_354.mat' './data/out_N_200_T_1260_unividx_354.mat'\", \"computecov './data/N_200_T_1260_unividx_355.mat' './data/out_N_200_T_1260_unividx_355.mat'\", \"computecov './data/N_200_T_1260_unividx_356.mat' './data/out_N_200_T_1260_unividx_356.mat'\", \"computecov './data/N_200_T_1260_unividx_357.mat' './data/out_N_200_T_1260_unividx_357.mat'\", \"computecov './data/N_200_T_1260_unividx_358.mat' './data/out_N_200_T_1260_unividx_358.mat'\", \"computecov './data/N_200_T_1260_unividx_359.mat' './data/out_N_200_T_1260_unividx_359.mat'\"]\n"
     ]
    }
   ],
   "source": [
    "print(all_commands)"
   ]
  },
  {
   "cell_type": "code",
   "execution_count": 45,
   "metadata": {},
   "outputs": [],
   "source": [
    "string = construct_string_commands(all_commands)"
   ]
  },
  {
   "cell_type": "code",
   "execution_count": null,
   "metadata": {},
   "outputs": [],
   "source": [
    "start = time.time()\n",
    "ogcwd = os.getcwd()\n",
    "os.chdir('./matlab')\n",
    "os.system(string)\n",
    "os.chdir(ogcwd)\n",
    "print(time.time() - start)"
   ]
  },
  {
   "cell_type": "code",
   "execution_count": null,
   "metadata": {},
   "outputs": [],
   "source": [
    "def retConstShare(retMat, w):\n",
    "    n, p = retMat.shape\n",
    "    if len(w.shape) == 1:\n",
    "        w = np.expand_dims(w, 1)\n",
    "    assert(w.shape == (p,1))\n",
    "    wSum1 = w/np.sum(w)\n",
    "\n",
    "    totalRetMat = 1 + retMat\n",
    "\n",
    "    cummProdd = np.cumprod(totalRetMat, axis = 0)\n",
    "    navVec = np.matmul(cummProdd, wSum1)\n",
    "\n",
    "    wEnd = cummProdd[n-1, :]\n",
    "    wEnd = np.dot(wEnd, w) #since w is (p,1) but wEnd is (1,p)\n",
    "    wEnd = wEnd/np.sum(wEnd)\n",
    "    wEnd = wEnd.T\n",
    "\n",
    "    navVecTot = np.concatenate((np.ones((1,1)), navVec[:(n-1),]))\n",
    "\n",
    "    totalRetVec = np.divide(navVec, navVecTot)\n",
    "\n",
    "    retVec = totalRetVec - 1\n",
    "    retVec = retVec * np.sum(w)\n",
    "\n",
    "    return np.sum(retVec) #sum of all of the returns\n",
    "\n",
    "def get_OOS_rets(meta_info):\n",
    "    ret, _, univ, tradeidx = meta_info\n",
    "    rets = []\n",
    "    opt_rets = []\n",
    "    N = 200 #Number of stocks\n",
    "    T = 1260 #lookback (units of days) --> should be in months though\n",
    "    P = 1 #lookahead (units of months, since we multiply by 20)\n",
    "    \n",
    "    for h in range(len(univ)):#len(univ)):\n",
    "        universe = univ[h,:N]\n",
    "        today = tradeidx[h][0]\n",
    "        cov = scipy.io.loadmat(format_appro('out_N_{}_T_{}_unividx_{}.mat'.format(N, T, h), 'matlab/data'))\n",
    "        cov = cov['Sigma']\n",
    "        w = optimal_weights(cov)\n",
    "        investPeriod = range(today, today + P*21)\n",
    "        outRet = ret[investPeriod][:, universe]\n",
    "        curret = retConstShare(outRet, w)\n",
    "        rets.append(curret)\n",
    "    return rets\n",
    "\n",
    "def print_normalize(a):\n",
    "    print(np.mean(a) * 252 / 20, np.std(a) * np.sqrt(252 / 20))"
   ]
  },
  {
   "cell_type": "code",
   "execution_count": null,
   "metadata": {},
   "outputs": [],
   "source": [
    "MTP2_rets = get_OOS_rets(meta_info)\n",
    "print_normalize(MTP2_rets)"
   ]
  }
 ],
 "metadata": {
  "kernelspec": {
   "display_name": "Python 3",
   "language": "python",
   "name": "python3"
  },
  "language_info": {
   "codemirror_mode": {
    "name": "ipython",
    "version": 3
   },
   "file_extension": ".py",
   "mimetype": "text/x-python",
   "name": "python",
   "nbconvert_exporter": "python",
   "pygments_lexer": "ipython3",
   "version": "3.6.5"
  }
 },
 "nbformat": 4,
 "nbformat_minor": 2
}
