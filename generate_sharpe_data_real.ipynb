{
 "cells": [
  {
   "cell_type": "code",
   "execution_count": 1,
   "metadata": {},
   "outputs": [
    {
     "name": "stdout",
     "output_type": "stream",
     "text": [
      "hi\n"
     ]
    }
   ],
   "source": [
    "%load_ext autoreload\n",
    "%autoreload 2\n",
    "import numpy as np\n",
    "import pandas as pd\n",
    "import scipy.linalg\n",
    "import linear_shrinkage\n",
    "import Util\n",
    "from Util import evaluate_curret, get_invest_period\n",
    "from os.path import join\n",
    "from generating_MTP import generate_mat as generate_MTP2\n",
    "import os\n",
    "import time\n",
    "import sklearn.covariance\n",
    "import pickle\n",
    "from collections import namedtuple, defaultdict\n",
    "from subprocess import Popen\n",
    "from multiprocessing import Pool"
   ]
  },
  {
   "cell_type": "code",
   "execution_count": 2,
   "metadata": {},
   "outputs": [],
   "source": [
    "util_loaded_data = Util.load_data()\n",
    "ret, ret_nonan, univ, tradeidx, dates = util_loaded_data"
   ]
  },
  {
   "cell_type": "markdown",
   "metadata": {},
   "source": [
    "## For saving to pastRets (pastRet and KTcov) and outRets"
   ]
  },
  {
   "cell_type": "code",
   "execution_count": 4,
   "metadata": {},
   "outputs": [],
   "source": [
    "assert os.path.exists('./pastRets')\n",
    "assert os.path.exists('./outRets')"
   ]
  },
  {
   "cell_type": "code",
   "execution_count": 5,
   "metadata": {},
   "outputs": [],
   "source": [
    "def save_past_information(T, N, util_loaded_data, save_KT = True):\n",
    "    ret, ret_nonan, univ, tradeidx, dates = util_loaded_data\n",
    "    pastRets = []\n",
    "    KT_covs = []\n",
    "    \n",
    "    KT_time = 0\n",
    "    for h in range(len(univ)):\n",
    "        print(h, end = ' ')\n",
    "        \n",
    "        pastRet = Util.get_past_period(h, T, N, univ, tradeidx, ret)\n",
    "        pastRetFileName = \"pastRets/{}_{}_{}_pastRet.pkl\".format(T, N, h)\n",
    "        with open(pastRetFileName, 'wb') as f:\n",
    "            pickle.dump(pastRet, f)\n",
    "        pastRets.append(pastRet)\n",
    "        \n",
    "        if save_KT:\n",
    "            #start = time.time()\n",
    "            KT_cov = Util.kendall_cov(pastRet)\n",
    "            KT_cov_file_name =  \"pastRets/{}_{}_{}_KTcov.pkl\".format(T, N, h)\n",
    "            with open(KT_cov_file_name, 'wb') as f:\n",
    "                pickle.dump(KT_cov, f)\n",
    "            KT_covs.append(KT_cov)\n",
    "            end = time.time()\n",
    "            #print(end-start)\n",
    "    \n",
    "    with open(\"pastRets/{}_{}_pastRets.pkl\".format(T,N), 'wb') as f:\n",
    "        pickle.dump(pastRets, f)\n",
    "\n",
    "    if save_KT:\n",
    "        with open(\"pastRets/{}_{}_KTcovs.pkl\".format(T,N), 'wb') as f:\n",
    "            pickle.dump(KT_covs, f)"
   ]
  },
  {
   "cell_type": "code",
   "execution_count": 6,
   "metadata": {},
   "outputs": [],
   "source": [
    "#for old purposes\n",
    "# for T in [25, 50, 100, 200, 500, 1260]:\n",
    "#     for N in [25, 50, 100, 200, 500, 1000]:\n",
    "#         save_past_information(T, N, util_loaded_data, save_KT = False)"
   ]
  },
  {
   "cell_type": "code",
   "execution_count": 7,
   "metadata": {
    "collapsed": true
   },
   "outputs": [
    {
     "name": "stdout",
     "output_type": "stream",
     "text": [
      "0 1 "
     ]
    },
    {
     "ename": "KeyboardInterrupt",
     "evalue": "",
     "output_type": "error",
     "traceback": [
      "\u001b[0;31m---------------------------------------------------------------------------\u001b[0m",
      "\u001b[0;31mKeyboardInterrupt\u001b[0m                         Traceback (most recent call last)",
      "\u001b[0;32m<ipython-input-7-ff424b549e4a>\u001b[0m in \u001b[0;36m<module>\u001b[0;34m()\u001b[0m\n\u001b[1;32m      1\u001b[0m \u001b[0;31m#for one-off\u001b[0m\u001b[0;34m\u001b[0m\u001b[0;34m\u001b[0m\u001b[0m\n\u001b[0;32m----> 2\u001b[0;31m \u001b[0msave_past_information\u001b[0m\u001b[0;34m(\u001b[0m\u001b[0;36m1260\u001b[0m\u001b[0;34m,\u001b[0m\u001b[0;36m200\u001b[0m\u001b[0;34m,\u001b[0m \u001b[0mutil_loaded_data\u001b[0m\u001b[0;34m,\u001b[0m \u001b[0msave_KT\u001b[0m\u001b[0;34m=\u001b[0m\u001b[0;32mTrue\u001b[0m\u001b[0;34m)\u001b[0m\u001b[0;34m\u001b[0m\u001b[0m\n\u001b[0m",
      "\u001b[0;32m<ipython-input-5-7abd9f46a0be>\u001b[0m in \u001b[0;36msave_past_information\u001b[0;34m(T, N, util_loaded_data, save_KT)\u001b[0m\n\u001b[1;32m     16\u001b[0m         \u001b[0;32mif\u001b[0m \u001b[0msave_KT\u001b[0m\u001b[0;34m:\u001b[0m\u001b[0;34m\u001b[0m\u001b[0m\n\u001b[1;32m     17\u001b[0m             \u001b[0;31m#start = time.time()\u001b[0m\u001b[0;34m\u001b[0m\u001b[0;34m\u001b[0m\u001b[0m\n\u001b[0;32m---> 18\u001b[0;31m             \u001b[0mKT_cov\u001b[0m \u001b[0;34m=\u001b[0m \u001b[0mUtil\u001b[0m\u001b[0;34m.\u001b[0m\u001b[0mkendall_cov\u001b[0m\u001b[0;34m(\u001b[0m\u001b[0mpastRet\u001b[0m\u001b[0;34m)\u001b[0m\u001b[0;34m\u001b[0m\u001b[0m\n\u001b[0m\u001b[1;32m     19\u001b[0m             \u001b[0mKT_cov_file_name\u001b[0m \u001b[0;34m=\u001b[0m  \u001b[0;34m\"pastRets/{}_{}_{}_KTcov.pkl\"\u001b[0m\u001b[0;34m.\u001b[0m\u001b[0mformat\u001b[0m\u001b[0;34m(\u001b[0m\u001b[0mT\u001b[0m\u001b[0;34m,\u001b[0m \u001b[0mN\u001b[0m\u001b[0;34m,\u001b[0m \u001b[0mh\u001b[0m\u001b[0;34m)\u001b[0m\u001b[0;34m\u001b[0m\u001b[0m\n\u001b[1;32m     20\u001b[0m             \u001b[0;32mwith\u001b[0m \u001b[0mopen\u001b[0m\u001b[0;34m(\u001b[0m\u001b[0mKT_cov_file_name\u001b[0m\u001b[0;34m,\u001b[0m \u001b[0;34m'wb'\u001b[0m\u001b[0;34m)\u001b[0m \u001b[0;32mas\u001b[0m \u001b[0mf\u001b[0m\u001b[0;34m:\u001b[0m\u001b[0;34m\u001b[0m\u001b[0m\n",
      "\u001b[0;32m~/Documents/meng/MTP2-finance/Util.py\u001b[0m in \u001b[0;36mkendall_cov\u001b[0;34m(data)\u001b[0m\n\u001b[1;32m     68\u001b[0m \u001b[0;32mdef\u001b[0m \u001b[0mkendall_cov\u001b[0m\u001b[0;34m(\u001b[0m\u001b[0mdata\u001b[0m\u001b[0;34m)\u001b[0m\u001b[0;34m:\u001b[0m\u001b[0;34m\u001b[0m\u001b[0m\n\u001b[1;32m     69\u001b[0m         \u001b[0mdf\u001b[0m \u001b[0;34m=\u001b[0m \u001b[0mpd\u001b[0m\u001b[0;34m.\u001b[0m\u001b[0mDataFrame\u001b[0m\u001b[0;34m(\u001b[0m\u001b[0mdata\u001b[0m\u001b[0;34m)\u001b[0m\u001b[0;34m\u001b[0m\u001b[0m\n\u001b[0;32m---> 70\u001b[0;31m         \u001b[0mkendall_corr_mat\u001b[0m \u001b[0;34m=\u001b[0m \u001b[0mdf\u001b[0m\u001b[0;34m.\u001b[0m\u001b[0mcorr\u001b[0m\u001b[0;34m(\u001b[0m\u001b[0mmethod\u001b[0m\u001b[0;34m=\u001b[0m\u001b[0;34m'kendall'\u001b[0m\u001b[0;34m)\u001b[0m\u001b[0;34m.\u001b[0m\u001b[0mvalues\u001b[0m\u001b[0;34m\u001b[0m\u001b[0m\n\u001b[0m\u001b[1;32m     71\u001b[0m         \u001b[0mcorr_mat\u001b[0m \u001b[0;34m=\u001b[0m \u001b[0mnp\u001b[0m\u001b[0;34m.\u001b[0m\u001b[0msin\u001b[0m\u001b[0;34m(\u001b[0m\u001b[0;36m0.5\u001b[0m \u001b[0;34m*\u001b[0m \u001b[0mnp\u001b[0m\u001b[0;34m.\u001b[0m\u001b[0mpi\u001b[0m \u001b[0;34m*\u001b[0m \u001b[0mkendall_corr_mat\u001b[0m\u001b[0;34m)\u001b[0m\u001b[0;34m\u001b[0m\u001b[0m\n\u001b[1;32m     72\u001b[0m         \u001b[0mstdmat\u001b[0m \u001b[0;34m=\u001b[0m \u001b[0mnp\u001b[0m\u001b[0;34m.\u001b[0m\u001b[0mdiag\u001b[0m\u001b[0;34m(\u001b[0m\u001b[0mnp\u001b[0m\u001b[0;34m.\u001b[0m\u001b[0msqrt\u001b[0m\u001b[0;34m(\u001b[0m\u001b[0mnp\u001b[0m\u001b[0;34m.\u001b[0m\u001b[0mdiag\u001b[0m\u001b[0;34m(\u001b[0m\u001b[0mnp\u001b[0m\u001b[0;34m.\u001b[0m\u001b[0mcov\u001b[0m\u001b[0;34m(\u001b[0m\u001b[0mdata\u001b[0m\u001b[0;34m.\u001b[0m\u001b[0mT\u001b[0m\u001b[0;34m)\u001b[0m\u001b[0;34m)\u001b[0m\u001b[0;34m)\u001b[0m\u001b[0;34m)\u001b[0m\u001b[0;34m\u001b[0m\u001b[0m\n",
      "\u001b[0;32m/usr/local/lib/python3.6/site-packages/pandas/core/frame.py\u001b[0m in \u001b[0;36mcorr\u001b[0;34m(self, method, min_periods)\u001b[0m\n\u001b[1;32m   5513\u001b[0m                         \u001b[0mc\u001b[0m \u001b[0;34m=\u001b[0m \u001b[0mcorrf\u001b[0m\u001b[0;34m(\u001b[0m\u001b[0mac\u001b[0m\u001b[0;34m[\u001b[0m\u001b[0mvalid\u001b[0m\u001b[0;34m]\u001b[0m\u001b[0;34m,\u001b[0m \u001b[0mbc\u001b[0m\u001b[0;34m[\u001b[0m\u001b[0mvalid\u001b[0m\u001b[0;34m]\u001b[0m\u001b[0;34m)\u001b[0m\u001b[0;34m\u001b[0m\u001b[0m\n\u001b[1;32m   5514\u001b[0m                     \u001b[0;32melse\u001b[0m\u001b[0;34m:\u001b[0m\u001b[0;34m\u001b[0m\u001b[0m\n\u001b[0;32m-> 5515\u001b[0;31m                         \u001b[0mc\u001b[0m \u001b[0;34m=\u001b[0m \u001b[0mcorrf\u001b[0m\u001b[0;34m(\u001b[0m\u001b[0mac\u001b[0m\u001b[0;34m,\u001b[0m \u001b[0mbc\u001b[0m\u001b[0;34m)\u001b[0m\u001b[0;34m\u001b[0m\u001b[0m\n\u001b[0m\u001b[1;32m   5516\u001b[0m                     \u001b[0mcorrel\u001b[0m\u001b[0;34m[\u001b[0m\u001b[0mi\u001b[0m\u001b[0;34m,\u001b[0m \u001b[0mj\u001b[0m\u001b[0;34m]\u001b[0m \u001b[0;34m=\u001b[0m \u001b[0mc\u001b[0m\u001b[0;34m\u001b[0m\u001b[0m\n\u001b[1;32m   5517\u001b[0m                     \u001b[0mcorrel\u001b[0m\u001b[0;34m[\u001b[0m\u001b[0mj\u001b[0m\u001b[0;34m,\u001b[0m \u001b[0mi\u001b[0m\u001b[0;34m]\u001b[0m \u001b[0;34m=\u001b[0m \u001b[0mc\u001b[0m\u001b[0;34m\u001b[0m\u001b[0m\n",
      "\u001b[0;32m/usr/local/lib/python3.6/site-packages/pandas/core/nanops.py\u001b[0m in \u001b[0;36m_kendall\u001b[0;34m(a, b)\u001b[0m\n\u001b[1;32m    768\u001b[0m \u001b[0;34m\u001b[0m\u001b[0m\n\u001b[1;32m    769\u001b[0m     \u001b[0;32mdef\u001b[0m \u001b[0m_kendall\u001b[0m\u001b[0;34m(\u001b[0m\u001b[0ma\u001b[0m\u001b[0;34m,\u001b[0m \u001b[0mb\u001b[0m\u001b[0;34m)\u001b[0m\u001b[0;34m:\u001b[0m\u001b[0;34m\u001b[0m\u001b[0m\n\u001b[0;32m--> 770\u001b[0;31m         \u001b[0mrs\u001b[0m \u001b[0;34m=\u001b[0m \u001b[0mkendalltau\u001b[0m\u001b[0;34m(\u001b[0m\u001b[0ma\u001b[0m\u001b[0;34m,\u001b[0m \u001b[0mb\u001b[0m\u001b[0;34m)\u001b[0m\u001b[0;34m\u001b[0m\u001b[0m\n\u001b[0m\u001b[1;32m    771\u001b[0m         \u001b[0;32mif\u001b[0m \u001b[0misinstance\u001b[0m\u001b[0;34m(\u001b[0m\u001b[0mrs\u001b[0m\u001b[0;34m,\u001b[0m \u001b[0mtuple\u001b[0m\u001b[0;34m)\u001b[0m\u001b[0;34m:\u001b[0m\u001b[0;34m\u001b[0m\u001b[0m\n\u001b[1;32m    772\u001b[0m             \u001b[0;32mreturn\u001b[0m \u001b[0mrs\u001b[0m\u001b[0;34m[\u001b[0m\u001b[0;36m0\u001b[0m\u001b[0;34m]\u001b[0m\u001b[0;34m\u001b[0m\u001b[0m\n",
      "\u001b[0;32m/usr/local/lib/python3.6/site-packages/scipy/stats/stats.py\u001b[0m in \u001b[0;36mkendalltau\u001b[0;34m(x, y, initial_lexsort, nan_policy)\u001b[0m\n\u001b[1;32m   3529\u001b[0m \u001b[0;34m\u001b[0m\u001b[0m\n\u001b[1;32m   3530\u001b[0m     \u001b[0;31m# stable sort on x and convert x to dense ranks\u001b[0m\u001b[0;34m\u001b[0m\u001b[0;34m\u001b[0m\u001b[0m\n\u001b[0;32m-> 3531\u001b[0;31m     \u001b[0mperm\u001b[0m \u001b[0;34m=\u001b[0m \u001b[0mnp\u001b[0m\u001b[0;34m.\u001b[0m\u001b[0margsort\u001b[0m\u001b[0;34m(\u001b[0m\u001b[0mx\u001b[0m\u001b[0;34m,\u001b[0m \u001b[0mkind\u001b[0m\u001b[0;34m=\u001b[0m\u001b[0;34m'mergesort'\u001b[0m\u001b[0;34m)\u001b[0m\u001b[0;34m\u001b[0m\u001b[0m\n\u001b[0m\u001b[1;32m   3532\u001b[0m     \u001b[0mx\u001b[0m\u001b[0;34m,\u001b[0m \u001b[0my\u001b[0m \u001b[0;34m=\u001b[0m \u001b[0mx\u001b[0m\u001b[0;34m[\u001b[0m\u001b[0mperm\u001b[0m\u001b[0;34m]\u001b[0m\u001b[0;34m,\u001b[0m \u001b[0my\u001b[0m\u001b[0;34m[\u001b[0m\u001b[0mperm\u001b[0m\u001b[0;34m]\u001b[0m\u001b[0;34m\u001b[0m\u001b[0m\n\u001b[1;32m   3533\u001b[0m     \u001b[0mx\u001b[0m \u001b[0;34m=\u001b[0m \u001b[0mnp\u001b[0m\u001b[0;34m.\u001b[0m\u001b[0mr_\u001b[0m\u001b[0;34m[\u001b[0m\u001b[0;32mTrue\u001b[0m\u001b[0;34m,\u001b[0m \u001b[0mx\u001b[0m\u001b[0;34m[\u001b[0m\u001b[0;36m1\u001b[0m\u001b[0;34m:\u001b[0m\u001b[0;34m]\u001b[0m \u001b[0;34m!=\u001b[0m \u001b[0mx\u001b[0m\u001b[0;34m[\u001b[0m\u001b[0;34m:\u001b[0m\u001b[0;34m-\u001b[0m\u001b[0;36m1\u001b[0m\u001b[0;34m]\u001b[0m\u001b[0;34m]\u001b[0m\u001b[0;34m.\u001b[0m\u001b[0mcumsum\u001b[0m\u001b[0;34m(\u001b[0m\u001b[0mdtype\u001b[0m\u001b[0;34m=\u001b[0m\u001b[0mnp\u001b[0m\u001b[0;34m.\u001b[0m\u001b[0mintp\u001b[0m\u001b[0;34m)\u001b[0m\u001b[0;34m\u001b[0m\u001b[0m\n",
      "\u001b[0;32m/usr/local/lib/python3.6/site-packages/numpy/core/fromnumeric.py\u001b[0m in \u001b[0;36margsort\u001b[0;34m(a, axis, kind, order)\u001b[0m\n\u001b[1;32m   1032\u001b[0m \u001b[0;34m\u001b[0m\u001b[0m\n\u001b[1;32m   1033\u001b[0m     \"\"\"\n\u001b[0;32m-> 1034\u001b[0;31m     \u001b[0;32mreturn\u001b[0m \u001b[0m_wrapfunc\u001b[0m\u001b[0;34m(\u001b[0m\u001b[0ma\u001b[0m\u001b[0;34m,\u001b[0m \u001b[0;34m'argsort'\u001b[0m\u001b[0;34m,\u001b[0m \u001b[0maxis\u001b[0m\u001b[0;34m=\u001b[0m\u001b[0maxis\u001b[0m\u001b[0;34m,\u001b[0m \u001b[0mkind\u001b[0m\u001b[0;34m=\u001b[0m\u001b[0mkind\u001b[0m\u001b[0;34m,\u001b[0m \u001b[0morder\u001b[0m\u001b[0;34m=\u001b[0m\u001b[0morder\u001b[0m\u001b[0;34m)\u001b[0m\u001b[0;34m\u001b[0m\u001b[0m\n\u001b[0m\u001b[1;32m   1035\u001b[0m \u001b[0;34m\u001b[0m\u001b[0m\n\u001b[1;32m   1036\u001b[0m \u001b[0;34m\u001b[0m\u001b[0m\n",
      "\u001b[0;32m/usr/local/lib/python3.6/site-packages/numpy/core/fromnumeric.py\u001b[0m in \u001b[0;36m_wrapfunc\u001b[0;34m(obj, method, *args, **kwds)\u001b[0m\n\u001b[1;32m     54\u001b[0m \u001b[0;32mdef\u001b[0m \u001b[0m_wrapfunc\u001b[0m\u001b[0;34m(\u001b[0m\u001b[0mobj\u001b[0m\u001b[0;34m,\u001b[0m \u001b[0mmethod\u001b[0m\u001b[0;34m,\u001b[0m \u001b[0;34m*\u001b[0m\u001b[0margs\u001b[0m\u001b[0;34m,\u001b[0m \u001b[0;34m**\u001b[0m\u001b[0mkwds\u001b[0m\u001b[0;34m)\u001b[0m\u001b[0;34m:\u001b[0m\u001b[0;34m\u001b[0m\u001b[0m\n\u001b[1;32m     55\u001b[0m     \u001b[0;32mtry\u001b[0m\u001b[0;34m:\u001b[0m\u001b[0;34m\u001b[0m\u001b[0m\n\u001b[0;32m---> 56\u001b[0;31m         \u001b[0;32mreturn\u001b[0m \u001b[0mgetattr\u001b[0m\u001b[0;34m(\u001b[0m\u001b[0mobj\u001b[0m\u001b[0;34m,\u001b[0m \u001b[0mmethod\u001b[0m\u001b[0;34m)\u001b[0m\u001b[0;34m(\u001b[0m\u001b[0;34m*\u001b[0m\u001b[0margs\u001b[0m\u001b[0;34m,\u001b[0m \u001b[0;34m**\u001b[0m\u001b[0mkwds\u001b[0m\u001b[0;34m)\u001b[0m\u001b[0;34m\u001b[0m\u001b[0m\n\u001b[0m\u001b[1;32m     57\u001b[0m \u001b[0;34m\u001b[0m\u001b[0m\n\u001b[1;32m     58\u001b[0m     \u001b[0;31m# An AttributeError occurs if the object does not have\u001b[0m\u001b[0;34m\u001b[0m\u001b[0;34m\u001b[0m\u001b[0m\n",
      "\u001b[0;31mKeyboardInterrupt\u001b[0m: "
     ]
    }
   ],
   "source": [
    "#for one-off\n",
    "save_past_information(1260,200, util_loaded_data, save_KT=True)"
   ]
  },
  {
   "cell_type": "code",
   "execution_count": 9,
   "metadata": {},
   "outputs": [
    {
     "name": "stdout",
     "output_type": "stream",
     "text": [
      "302\n",
      "290\n",
      "314\n",
      "326\n",
      "350\n",
      "338\n",
      "66.83202981948853\n",
      "351\n",
      "67.26308679580688\n",
      "315\n",
      "67.41494822502136\n",
      "291\n",
      "67.55869388580322\n",
      "339\n",
      "67.59805917739868\n",
      "303\n",
      "67.60312795639038\n",
      "327\n",
      "72.60824799537659\n",
      "352\n",
      "72.53743004798889\n",
      "292\n",
      "72.85452198982239\n",
      "316\n",
      "72.74070715904236\n",
      "304\n",
      "72.92232394218445\n",
      "340\n",
      "73.15842890739441\n",
      "328\n",
      "70.96964406967163\n",
      "353\n",
      "70.84678387641907\n",
      "293\n",
      "71.04621696472168\n",
      "317\n",
      "71.05210614204407\n",
      "305\n",
      "71.33685088157654\n",
      "341\n",
      "71.40234327316284\n",
      "329\n",
      "71.16410970687866\n",
      "354\n",
      "70.74974179267883\n",
      "318\n",
      "71.3763039112091\n",
      "294\n",
      "71.38018584251404\n",
      "306\n",
      "71.06614899635315\n",
      "342\n",
      "71.37782192230225\n",
      "330\n",
      "71.7751202583313\n",
      "355\n",
      "71.50338315963745\n",
      "319\n",
      "71.5138931274414\n",
      "295\n",
      "71.44897413253784\n",
      "343\n",
      "71.61617803573608\n",
      "307\n",
      "72.0990378856659\n",
      "331\n",
      "71.09482502937317\n",
      "320\n",
      "71.43590688705444\n",
      "356\n",
      "71.00619006156921\n",
      "308\n",
      "71.73735523223877\n",
      "296\n",
      "71.16443204879761\n",
      "344\n",
      "71.5461859703064\n",
      "332\n",
      "71.7401978969574\n",
      "321\n",
      "70.85062289237976\n",
      "297\n",
      "72.02067732810974\n",
      "357\n",
      "71.4175009727478\n",
      "345\n",
      "72.03820490837097\n",
      "309\n",
      "72.1158549785614\n",
      "333\n",
      "70.7034420967102\n",
      "322\n",
      "70.79375386238098\n",
      "298\n",
      "71.0884096622467\n",
      "358\n",
      "71.04445385932922\n",
      "346\n",
      "70.74011492729187\n",
      "310\n",
      "71.28416776657104\n",
      "334\n",
      "72.23696780204773\n",
      "299\n",
      "72.38110494613647\n",
      "323\n",
      "71.72362804412842\n",
      "347\n",
      "72.47013926506042\n",
      "359\n",
      "72.26616430282593\n",
      "311\n",
      "73.2407579421997\n",
      "335\n",
      "74.78353595733643\n",
      "74.98513913154602\n",
      "75.43363308906555\n",
      "74.78223419189453\n",
      "75.15924406051636\n",
      "73.34819912910461\n"
     ]
    }
   ],
   "source": [
    "#for saving KT covs in parallel\n",
    "def save_KT_cov(h):\n",
    "    KT_cov_file_name =  \"pastRets/{}_{}_{}_KTcov.pkl\".format(T, N, h)\n",
    "    if os.path.exists(KT_cov_file_name):\n",
    "        return\n",
    "    print(h)\n",
    "    if h == 0:\n",
    "        print(\"N={}, T={}\".format(N,T))\n",
    "    start = time.time()\n",
    "    ret, ret_nonan, univ, tradeidx, dates = util_loaded_data\n",
    "    pastRet = Util.get_past_period(h, T, N, univ, tradeidx, ret)\n",
    "    KT_cov = Util.kendall_cov(pastRet)\n",
    "    KT_cov_file_name =  \"pastRets/{}_{}_{}_KTcov.pkl\".format(T, N, h)\n",
    "    with open(KT_cov_file_name, 'wb') as f:\n",
    "        pickle.dump(KT_cov, f)\n",
    "    end = time.time()\n",
    "    print(end-start)\n",
    "\n",
    "def consolidate_KT_cov(N,T):\n",
    "    KT_covs = []\n",
    "    for h in range(360):\n",
    "        fname = \"pastRets/{}_{}_{}_KTcov.pkl\".format(T, N, h)\n",
    "        with open(fname, 'rb') as f:\n",
    "            cov = pickle.load(f)\n",
    "            KT_covs.append(cov)\n",
    "    with open(\"pastRets/{}_{}_KTcovs.pkl\".format(T,N), 'wb') as f:\n",
    "            pickle.dump(KT_covs, f)\n",
    "\n",
    "for N, T in [(500,500)]:\n",
    "    pool = Pool(8)\n",
    "    pool.map(save_KT_cov,range(360))\n",
    "    consolidate_KT_cov(N,T)"
   ]
  },
  {
   "cell_type": "markdown",
   "metadata": {},
   "source": [
    "## After this point is the algorithms and experiments, above was just generating data"
   ]
  },
  {
   "cell_type": "code",
   "execution_count": 9,
   "metadata": {},
   "outputs": [],
   "source": [
    "from estimators import (MTP2_wrapper, MTP2_cov_wrapper,\n",
    "                        LRPS_wrapper,\n",
    "                        CLIME_wrapper, CLIME_cov_wrapper,\n",
    "                        old_LS_wrapper, LS_wrapper, NLS_wrapper,\n",
    "                        POET_wrapper, POET_5_wrapper,\n",
    "                        glasso_wrapper,\n",
    "                        get_AFM_estimator)"
   ]
  },
  {
   "cell_type": "code",
   "execution_count": 15,
   "metadata": {},
   "outputs": [],
   "source": [
    "all_methods = { #all time estimates for N = 100\n",
    "    'MTP2_KT': MTP2_cov_wrapper,\n",
    "    # 'CLIME_KT': CLIME_cov_wrapper\n",
    "    #'glasso': glasso_wrapper, #2 seconds\n",
    "    # 'MTP2': MTP2_wrapper, #25 seconds\n",
    "    # 'CLIME': CLIME_wrapper,\n",
    "    #'LS': LS_wrapper, #0.5 seconds\n",
    "    #'old_LS_cov': old_LS_cov_wrapper,\n",
    "    #'old_LS': old_LS_wrapper,\n",
    "    #'NLS':  NLS_wrapper, #5 seconds\n",
    "    #'LRPS': LRPS_wrapper, #7 seconds\n",
    "    #'AFM_NL': get_AFM_estimator(5, 'NLS', tradeidx), #4 seconds\n",
    "    #'AFM_LS': get_AFM_estimator(5, 'LS', tradeidx), #0.5 seconds\n",
    "    #'POET': POET_wrapper,\n",
    "    #'POET_5': POET_5_wrapper,\n",
    "    #'AFM_POET': None,\n",
    "    #'equiweight': None,\n",
    "    #'POET': POET_wrapper\n",
    "}"
   ]
  },
  {
   "cell_type": "code",
   "execution_count": null,
   "metadata": {},
   "outputs": [],
   "source": [
    "# For CLIME KT\n",
    "100 is 8 seconds\n",
    "200 is 88 seconds\n",
    "500 is 88 * (500/200)**2 * (88/(8*4)) = 1512 seconds = 25 minutes...\n",
    "25 * 360 / 7 = "
   ]
  },
  {
   "cell_type": "code",
   "execution_count": null,
   "metadata": {},
   "outputs": [],
   "source": [
    "# MTP KT is for N=500 is:\n",
    "1 min (55 seconds) => 6 hrs"
   ]
  },
  {
   "cell_type": "markdown",
   "metadata": {},
   "source": [
    "### Time estimate"
   ]
  },
  {
   "cell_type": "code",
   "execution_count": 16,
   "metadata": {
    "scrolled": true
   },
   "outputs": [
    {
     "name": "stdout",
     "output_type": "stream",
     "text": [
      "MTP2_KT 56.22209286689758\n"
     ]
    }
   ],
   "source": [
    "T = 1260\n",
    "N = 500\n",
    "with open('pastRets/{}_{}_KTcovs.pkl'.format(T,N), 'rb') as f:\n",
    "    pastRets = pickle.load(f)\n",
    "    \n",
    "timing_dict = {}\n",
    "for method_name, m_func in all_methods.items():\n",
    "    h = 0\n",
    "    print(method_name, end = ' ')\n",
    "    args = []\n",
    "    if method_name == \"CLIME_KT\":\n",
    "        args = [T]\n",
    "    start = time.time()\n",
    "    cov = m_func(pastRets[h], *args)\n",
    "    end = time.time()\n",
    "    print(end-start)\n",
    "    timing_dict[method_name] = end-start"
   ]
  },
  {
   "cell_type": "code",
   "execution_count": null,
   "metadata": {},
   "outputs": [],
   "source": [
    "print(timing_dict.items())\n",
    "print(\"Total hours: \", sum(timing_dict.values()))"
   ]
  },
  {
   "cell_type": "markdown",
   "metadata": {},
   "source": [
    "### Run versions"
   ]
  },
  {
   "cell_type": "code",
   "execution_count": 17,
   "metadata": {},
   "outputs": [],
   "source": [
    "assert os.path.exists(\"./pickle\")"
   ]
  },
  {
   "cell_type": "code",
   "execution_count": null,
   "metadata": {
    "scrolled": true
   },
   "outputs": [
    {
     "name": "stdout",
     "output_type": "stream",
     "text": [
      "500 1260\n",
      "500 1260\n",
      "WORKING ON h=13\n",
      "WORKING ON h=26\n",
      "WORKING ON h=39\n",
      "WORKING ON h=0\n",
      "WORKING ON h=52\n",
      "WORKING ON h=65\n",
      "WORKING ON h=78\n",
      "WORKING ON h=14\n",
      "WORKING ON h=1\n",
      "WORKING ON h=27\n",
      "WORKING ON h=79\n",
      "WORKING ON h=40\n",
      "WORKING ON h=53\n",
      "WORKING ON h=66\n"
     ]
    }
   ],
   "source": [
    "N_T_list = [(500,1260)]\n",
    "\n",
    "for N, T in N_T_list:\n",
    "    print(N,T)\n",
    "    if os.path.isfile('pastRets/{}_{}_KTcovs.pkl'.format(T,N)):\n",
    "        with open('pastRets/{}_{}_KTcovs.pkl'.format(T,N), 'rb') as f:\n",
    "            pastCovs = pickle.load(f)\n",
    "    else:\n",
    "        assert False\n",
    "    \n",
    "run_name = \"first_server_run\"\n",
    "KT_or_not = False\n",
    "for N, T in N_T_list:\n",
    "    print(N,T)\n",
    "    with open('pastRets/{}_{}_pastRets.pkl'.format(T,N), 'rb') as f:\n",
    "        pastRets = pickle.load(f)\n",
    "        assert len(pastRets) == 360\n",
    "\n",
    "    def get_covs_all_methods(h):\n",
    "        print(\"WORKING ON h={}\".format(h))\n",
    "        for method_name, method in all_methods.items():\n",
    "            args = []\n",
    "            if method_name == 'CLIME_KT':\n",
    "                args = [T]\n",
    "            cov = method(cov=pastCovs[h], *args)\n",
    "            fname = 'pickle/{}_{}_{}_{}_{}_{}_covEst.pkl'.format(T, N, h, method_name, KT_or_not, run_name)\n",
    "            with open(fname, 'wb') as f:\n",
    "                pickle.dump(cov, f)\n",
    "    \n",
    "    pool = Pool(7)\n",
    "    pool.map(get_covs_all_methods, range(360))"
   ]
  },
  {
   "cell_type": "code",
   "execution_count": null,
   "metadata": {},
   "outputs": [],
   "source": [
    "def get_portfolio_to_period(end_h, all_methods, T, N, KT_or_not, run_name):\n",
    "    with open('outRets/{}_outRets.pkl'.format(N), 'rb') as f:\n",
    "        outRets = pickle.load(f)\n",
    "    for h in range(end_h):\n",
    "        print(h, end= ' ')\n",
    "        m = get_momentum_signal(h, N, univ, tradeidx, ret)\n",
    "        b = np.mean(m)\n",
    "        for method_name in iter_method_names:\n",
    "            if h == 0:\n",
    "                print('pickle/{}_{}_{}_{}_{}_{}_covEst.pkl'.format(T, N, h, method_name, KT_or_not, run_name))\n",
    "            with open('pickle/{}_{}_{}_{}_{}_{}_covEst.pkl'.format(T, N, h, method_name, KT_or_not, run_name), 'rb') as f:\n",
    "                cov = pickle.load(f)\n",
    "            if cov is None or cov == 'FAIL':\n",
    "                curret = None\n",
    "            else:\n",
    "                w = optimal_weights_momentum(m, cov, b)\n",
    "                curret = retConstShare(outRets[h], w)\n",
    "            method_to_portfolio[method_name].append(curret)\n",
    "    return method_to_portfolio"
   ]
  },
  {
   "cell_type": "code",
   "execution_count": null,
   "metadata": {},
   "outputs": [],
   "source": [
    "method_to_portfolio = get_portfolio_to_period(360, all_methods, 1260, 500, False, \"first_server_run\")\n",
    "pname = 'portfolios_IR/{}_{}_{}_{}_{}'.format(T,N,method_name,KT_or_not,run_name)\n",
    "with open(pname.format(1260,500,\"MTP2_KT\", False, \"first_server_run\"), \"wb\") as f:\n",
    "    pickle.dump(method_to_portfolio['MTP2_KT'], f)\n",
    "with open(pname.format(1260,500,\"CLIME_KT\", False, \"first_server_run\"), \"wb\") as f:\n",
    "    pickle.dump(method_to_portfolio['CLIME_KT'], f)"
   ]
  }
 ],
 "metadata": {
  "kernelspec": {
   "display_name": "Python 3",
   "language": "python",
   "name": "python3"
  }
 },
 "nbformat": 4,
 "nbformat_minor": 2
}
