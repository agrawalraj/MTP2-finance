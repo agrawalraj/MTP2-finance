{
 "cells": [
  {
   "cell_type": "code",
   "execution_count": 1,
   "metadata": {},
   "outputs": [],
   "source": [
    "%load_ext autoreload\n",
    "%autoreload 2\n",
    "import numpy as np\n",
    "import pandas as pd\n",
    "import matplotlib.pyplot as plt\n",
    "from Util import evaluate_curret, get_invest_period\n",
    "from os.path import join\n",
    "import os\n",
    "import time\n",
    "import sklearn.covariance\n",
    "import pickle\n",
    "from collections import namedtuple, defaultdict\n",
    "from subprocess import Popen\n",
    "import pandas as pd"
   ]
  },
  {
   "cell_type": "code",
   "execution_count": 2,
   "metadata": {},
   "outputs": [],
   "source": [
    "#matrix to send Lauritzen computation\n",
    "T = 500\n",
    "N = 1000\n",
    "with open('pastRets/{}_{}_pastRets.pkl'.format(T,N), 'rb') as f:\n",
    "    pastRets = pickle.load(f)\n",
    "#np.save('large_data_matrix.npy', pastRets[0])\n",
    "#np.save('large_cov_matrix.npy', np.cov(pastRets[0].T))\n",
    "from estimators import MTP2_wrapper\n",
    "start = time.time()\n",
    "print(start)\n",
    "MTP2_wrapper(pastRets[0])\n",
    "print(time.time()-start)"
   ]
  },
  {
   "cell_type": "code",
   "execution_count": 2,
   "metadata": {},
   "outputs": [],
   "source": [
    "run_name='KT_table'\n",
    "T = 1260\n",
    "N = 200\n",
    "KT_or_not = True"
   ]
  },
  {
   "cell_type": "code",
   "execution_count": 74,
   "metadata": {},
   "outputs": [],
   "source": [
    "all_methods = [\n",
    "    'glasso',\n",
    "    'MTP2',\n",
    "    'LS',\n",
    "    'old_LS',\n",
    "    'NLS',\n",
    "    'LRPS',\n",
    "    'AFM_NL',\n",
    "    'AFM_LS',\n",
    "    'equiweight',\n",
    "    'POET'\n",
    "]"
   ]
  },
  {
   "cell_type": "code",
   "execution_count": 36,
   "metadata": {},
   "outputs": [],
   "source": [
    "def get_portfolio_to_period(end_h, all_methods, T, N, KT_or_not, run_name):\n",
    "    with open('outRets/{}_outRets.pkl'.format(N), 'rb') as f:\n",
    "        outRets = pickle.load(f)\n",
    "    method_to_portfolio = defaultdict(list)\n",
    "    for h in range(end_h):\n",
    "        print(h, end= ' ')\n",
    "        for method_name in all_methods:\n",
    "            if h == 0:\n",
    "                print('pickle/{}_{}_{}_{}_{}_{}_covEst.pkl'.format(T, N, h, method_name, KT_or_not, run_name))\n",
    "            try:\n",
    "                if method_name == 'equiweight':\n",
    "                    cov = np.eye(N)\n",
    "                else:\n",
    "                    with open('pickle/{}_{}_{}_{}_{}_{}_covEst.pkl'.format(T, N, h, method_name, KT_or_not, run_name), 'rb') as f:\n",
    "                        cov = pickle.load(f)\n",
    "            except Exception as e:\n",
    "                print(e)\n",
    "                print(\"COULD NOT FINISH h={} for method {}\".format(h, method_name))\n",
    "            #print(cov.shape)\n",
    "            #print(outRets[h].shape)\n",
    "            curret = evaluate_curret(cov, outRets[h])\n",
    "            method_to_portfolio[method_name].append(curret)\n",
    "    return method_to_portfolio"
   ]
  },
  {
   "cell_type": "code",
   "execution_count": 46,
   "metadata": {},
   "outputs": [
    {
     "name": "stdout",
     "output_type": "stream",
     "text": [
      "0 pickle/1260_100_0_CLIME_False_test_run_new_covEst.pkl\n",
      "pickle/1260_100_0_NLS_False_test_run_new_covEst.pkl\n",
      "pickle/1260_100_0_AFM_LS_False_test_run_new_covEst.pkl\n",
      "pickle/1260_100_0_POET_False_test_run_new_covEst.pkl\n",
      "1 2 3 4 5 6 7 8 9 10 11 12 13 14 15 "
     ]
    }
   ],
   "source": [
    "all_methods = ['CLIME', 'NLS', 'AFM_LS', 'POET']\n",
    "res = {}\n",
    "for N, T in [(100, 1260)]:\n",
    "    method_to_portfolio = get_portfolio_to_period(16, all_methods, T, N, False, 'test_run_new')\n",
    "    res[(N,T)] = method_to_portfolio"
   ]
  },
  {
   "cell_type": "code",
   "execution_count": 53,
   "metadata": {},
   "outputs": [
    {
     "name": "stdout",
     "output_type": "stream",
     "text": [
      "N: 100, T: 1260\n",
      "CLIME 13.252743300174648\n",
      "NLS 10.718512743136502\n",
      "AFM_LS 10.860846221830062\n",
      "POET 10.93952951819718\n"
     ]
    }
   ],
   "source": [
    "for (N,T), method_to_portfolio in res.items():\n",
    "    print(\"N: {}, T: {}\".format(N,T))\n",
    "    for method, portfolio in method_to_portfolio.items():\n",
    "        print(method, get_std(portfolio))"
   ]
  },
  {
   "cell_type": "code",
   "execution_count": 27,
   "metadata": {},
   "outputs": [
    {
     "name": "stdout",
     "output_type": "stream",
     "text": [
      "MTP2 (9.786770303853176, 11.802609922505646, 0.829203910669911)\n",
      "MTP2_cov (10.627872425898833, 11.904656872721702, 0.8927491602258197)\n"
     ]
    }
   ],
   "source": [
    "from Util import get_IR, get_std\n",
    "for method_name, portfolio in method_to_portfolio.items():\n",
    "    print(method_name, get_IR(portfolio))"
   ]
  },
  {
   "cell_type": "code",
   "execution_count": 47,
   "metadata": {},
   "outputs": [],
   "source": [
    "def initialize_df():\n",
    "    N_t_tuples = [(100,50),(100,200),(200,100),(200,400),(500,250),(500,1000)]\n",
    "    idx = pd.MultiIndex.from_tuples(N_t_tuples, names=[\"N\\n(number of assets)\", \"T\\n(lookback period)\"])\n",
    "    col = ['MTP2', 'MTP2_cov']\n",
    "    df = pd.DataFrame('-', idx, col)\n",
    "    return df"
   ]
  },
  {
   "cell_type": "code",
   "execution_count": 48,
   "metadata": {},
   "outputs": [],
   "source": [
    "df = initialize_df()"
   ]
  },
  {
   "cell_type": "code",
   "execution_count": 49,
   "metadata": {},
   "outputs": [],
   "source": [
    "for N, T in [(100,50),(100,200),(200,100),(200,400),(500,250),(500,1000)]:\n",
    "    for method in ['MTP2', 'MTP2_cov']:\n",
    "        if (N,T) not in res:\n",
    "            continue\n",
    "        portfolio = res[(N,T)][method]\n",
    "        if len(portfolio) == 0:\n",
    "            print(N,T, method)\n",
    "            continue\n",
    "        std = get_std(portfolio)\n",
    "        df.at[(N,T), method] = \"{0:.3f}\".format(std)"
   ]
  },
  {
   "cell_type": "code",
   "execution_count": 50,
   "metadata": {},
   "outputs": [
    {
     "data": {
      "text/html": [
       "<div>\n",
       "<style scoped>\n",
       "    .dataframe tbody tr th:only-of-type {\n",
       "        vertical-align: middle;\n",
       "    }\n",
       "\n",
       "    .dataframe tbody tr th {\n",
       "        vertical-align: top;\n",
       "    }\n",
       "\n",
       "    .dataframe thead th {\n",
       "        text-align: right;\n",
       "    }\n",
       "</style>\n",
       "<table border=\"1\" class=\"dataframe\">\n",
       "  <thead>\n",
       "    <tr style=\"text-align: right;\">\n",
       "      <th></th>\n",
       "      <th></th>\n",
       "      <th>MTP2</th>\n",
       "      <th>MTP2_cov</th>\n",
       "    </tr>\n",
       "    <tr>\n",
       "      <th>N\n",
       "(number of assets)</th>\n",
       "      <th>T\n",
       "(lookback period)</th>\n",
       "      <th></th>\n",
       "      <th></th>\n",
       "    </tr>\n",
       "  </thead>\n",
       "  <tbody>\n",
       "    <tr>\n",
       "      <th rowspan=\"2\" valign=\"top\">100</th>\n",
       "      <th>50</th>\n",
       "      <td>-</td>\n",
       "      <td>-</td>\n",
       "    </tr>\n",
       "    <tr>\n",
       "      <th>200</th>\n",
       "      <td>-</td>\n",
       "      <td>-</td>\n",
       "    </tr>\n",
       "    <tr>\n",
       "      <th rowspan=\"2\" valign=\"top\">200</th>\n",
       "      <th>100</th>\n",
       "      <td>-</td>\n",
       "      <td>-</td>\n",
       "    </tr>\n",
       "    <tr>\n",
       "      <th>400</th>\n",
       "      <td>-</td>\n",
       "      <td>-</td>\n",
       "    </tr>\n",
       "    <tr>\n",
       "      <th rowspan=\"2\" valign=\"top\">500</th>\n",
       "      <th>250</th>\n",
       "      <td>-</td>\n",
       "      <td>-</td>\n",
       "    </tr>\n",
       "    <tr>\n",
       "      <th>1000</th>\n",
       "      <td>-</td>\n",
       "      <td>-</td>\n",
       "    </tr>\n",
       "  </tbody>\n",
       "</table>\n",
       "</div>"
      ],
      "text/plain": [
       "                                           MTP2 MTP2_cov\n",
       "N\\n(number of assets) T\\n(lookback period)              \n",
       "100                   50                      -        -\n",
       "                      200                     -        -\n",
       "200                   100                     -        -\n",
       "                      400                     -        -\n",
       "500                   250                     -        -\n",
       "                      1000                    -        -"
      ]
     },
     "execution_count": 50,
     "metadata": {},
     "output_type": "execute_result"
    }
   ],
   "source": [
    "df"
   ]
  },
  {
   "cell_type": "code",
   "execution_count": null,
   "metadata": {},
   "outputs": [],
   "source": []
  }
 ],
 "metadata": {
  "kernelspec": {
   "display_name": "Python 3",
   "language": "python",
   "name": "python3"
  },
  "language_info": {
   "codemirror_mode": {
    "name": "ipython",
    "version": 3
   },
   "file_extension": ".py",
   "mimetype": "text/x-python",
   "name": "python",
   "nbconvert_exporter": "python",
   "pygments_lexer": "ipython3",
   "version": "3.6.5"
  }
 },
 "nbformat": 4,
 "nbformat_minor": 2
}
