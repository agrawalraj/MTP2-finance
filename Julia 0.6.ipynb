{
 "cells": [
  {
   "cell_type": "code",
   "execution_count": 18,
   "metadata": {},
   "outputs": [],
   "source": [
    "using Convex\n",
    "using NPZ\n",
    "using SCS"
   ]
  },
  {
   "cell_type": "code",
   "execution_count": 2,
   "metadata": {},
   "outputs": [
    {
     "data": {
      "text/plain": [
       "MTP2CovEstimator (generic function with 1 method)"
      ]
     },
     "execution_count": 2,
     "metadata": {},
     "output_type": "execute_result"
    }
   ],
   "source": [
    "include(\"mtp2_cov_solver.jl\")"
   ]
  },
  {
   "cell_type": "code",
   "execution_count": 45,
   "metadata": {},
   "outputs": [
    {
     "data": {
      "text/plain": [
       "1260×100 Array{Float64,2}:\n",
       "  0.002252  -0.001488   0.002681  …   0.0        0.004484  -0.002575\n",
       " -0.006742  -0.031297   0.02139       0.0       -0.008929  -0.006522\n",
       "  0.004525   0.009231  -0.010471     -0.020513   0.006757   0.002188\n",
       " -0.018018   0.016768   0.0          -0.005236  -0.006711  -0.004367\n",
       " -0.004587   0.002999  -0.010582     -0.036842   0.002252  -0.017544\n",
       " -0.013825   0.011958  -0.02139   …  -0.010929   0.024719  -0.004464\n",
       "  0.0       -0.001477  -0.038251      0.0        0.0       -0.006726\n",
       " -0.009346   0.007396  -0.008523     -0.005525   0.010965   0.0     \n",
       "  0.002358   0.01909   -0.005731      0.0       -0.006508   0.004515\n",
       "  0.028235   0.020173   0.008646      0.0        0.017467   0.008989\n",
       "  0.01373   -0.016949  -0.014286  …   0.011111  -0.004292  -0.002227\n",
       "  0.020316   0.00431    0.008696     -0.021978   0.012931  -0.011161\n",
       "  0.022124  -0.010014   0.005747      0.0       -0.014894   0.002257\n",
       "  ⋮                               ⋱                                 \n",
       " -0.010309   0.013514   0.0           0.002252   0.009524  -0.008824\n",
       "  0.005208  -0.002857   0.013177     -0.004494   0.011321  -0.005935\n",
       " -0.015544  -0.005731   0.049133  …  -0.006772  -0.011194  -0.044776\n",
       " -0.003509  -0.009606  -0.022039      0.0       -0.003774  -0.00625 \n",
       "  0.019366   0.014549   0.0          -0.009091  -0.003788   0.0     \n",
       " -0.010363   0.023901   0.005634      0.006881   0.01711    0.037736\n",
       " -0.015707   0.014006   0.008403      0.01139    0.001869   0.015152\n",
       "  0.005319  -0.023941  -0.018056  …   0.0        0.0        0.002985\n",
       "  0.03351   -0.00283    0.0          -0.004505  -0.01306   -0.011905\n",
       "  0.023891   0.002838   0.007072      0.002262   0.00189    0.0     \n",
       " -0.003333   0.010377   0.011236     -0.002889  -0.011321   0.009036\n",
       " -0.020067   0.034547   0.034722      0.022883   0.007634   0.002985"
      ]
     },
     "execution_count": 45,
     "metadata": {},
     "output_type": "execute_result"
    }
   ],
   "source": [
    "y = npzread(\"pastData.npy\")"
   ]
  },
  {
   "cell_type": "code",
   "execution_count": 54,
   "metadata": {},
   "outputs": [
    {
     "data": {
      "text/plain": [
       "3×3 Array{Float64,2}:\n",
       " 0.0163414  0.217162  0.0948157\n",
       " 0.113259   0.768108  0.782905 \n",
       " 0.286462   0.890234  0.729786 "
      ]
     },
     "execution_count": 54,
     "metadata": {},
     "output_type": "execute_result"
    }
   ],
   "source": [
    "X = rand(3,3)"
   ]
  },
  {
   "cell_type": "code",
   "execution_count": 46,
   "metadata": {},
   "outputs": [
    {
     "data": {
      "text/plain": [
       "MTP2CovEstimator (generic function with 1 method)"
      ]
     },
     "execution_count": 46,
     "metadata": {},
     "output_type": "execute_result"
    }
   ],
   "source": [
    "function MTP2CovEstimator(data)\n",
    "    N = size(data)[1] # Number of samples\n",
    "    p = size(data)[2] # Number of variables\n",
    "    cov_mat = (transpose(data) * data) / N\n",
    "    K = Semidefinite(p, p)\n",
    "    off_diag_vars = [K[i, j] for i in 1:p for j in 1:p if i > j] # Entries above diagonal            \n",
    "    problem = maximize(logdet(K) - trace(K * cov_mat), off_diag_vars .<= 0)\n",
    "    solve!(problem, SCSSolver(max_iters=500))\n",
    "    return K.value\n",
    "end"
   ]
  },
  {
   "cell_type": "code",
   "execution_count": 56,
   "metadata": {},
   "outputs": [
    {
     "name": "stderr",
     "output_type": "stream",
     "text": [
      "\u001b[1m\u001b[33mWARNING: \u001b[39m\u001b[22m\u001b[33mArray(::Type{T}, m::Int) where T is deprecated, use Array{T}(m) instead.\u001b[39m\n",
      "Stacktrace:\n",
      " [1] \u001b[1mdepwarn\u001b[22m\u001b[22m\u001b[1m(\u001b[22m\u001b[22m::String, ::Symbol\u001b[1m)\u001b[22m\u001b[22m at \u001b[1m./deprecated.jl:70\u001b[22m\u001b[22m\n",
      " [2] \u001b[1mArray\u001b[22m\u001b[22m\u001b[1m(\u001b[22m\u001b[22m::Type{DataStructures.OrderedDict{UInt64,Tuple{Union{AbstractArray, Number},Union{AbstractArray, Number}}}}, ::Int64\u001b[1m)\u001b[22m\u001b[22m at \u001b[1m./deprecated.jl:57\u001b[22m\u001b[22m\n",
      " [3] \u001b[1mconic_form!\u001b[22m\u001b[22m\u001b[1m(\u001b[22m\u001b[22m::Convex.ExpConstraint, ::Convex.UniqueConicForms\u001b[1m)\u001b[22m\u001b[22m at \u001b[1m/Users/umaroy/.julia/v0.6/Convex/src/constraints/exp_constraints.jl:52\u001b[22m\u001b[22m\n",
      " [4] \u001b[1mconic_form!\u001b[22m\u001b[22m\u001b[1m(\u001b[22m\u001b[22m::Convex.LogAtom, ::Convex.UniqueConicForms\u001b[1m)\u001b[22m\u001b[22m at \u001b[1m/Users/umaroy/.julia/v0.6/Convex/src/atoms/exp_cone/log.jl:55\u001b[22m\u001b[22m\n",
      " [5] \u001b[1mconic_form!\u001b[22m\u001b[22m\u001b[1m(\u001b[22m\u001b[22m::Convex.SumAtom, ::Convex.UniqueConicForms\u001b[1m)\u001b[22m\u001b[22m at \u001b[1m/Users/umaroy/.julia/v0.6/Convex/src/atoms/affine/sum.jl:48\u001b[22m\u001b[22m\n",
      " [6] \u001b[1mconic_form!\u001b[22m\u001b[22m\u001b[1m(\u001b[22m\u001b[22m::Convex.LogDetAtom, ::Convex.UniqueConicForms\u001b[1m)\u001b[22m\u001b[22m at \u001b[1m/Users/umaroy/.julia/v0.6/Convex/src/atoms/exp_+_sdp_cone/logdet.jl:38\u001b[22m\u001b[22m\n",
      " [7] \u001b[1mconic_form!\u001b[22m\u001b[22m\u001b[1m(\u001b[22m\u001b[22m::Convex.AdditionAtom, ::Convex.UniqueConicForms\u001b[1m)\u001b[22m\u001b[22m at \u001b[1m/Users/umaroy/.julia/v0.6/Convex/src/atoms/affine/add_subtract.jl:108\u001b[22m\u001b[22m\n",
      " [8] \u001b[1mconic_form!\u001b[22m\u001b[22m\u001b[1m(\u001b[22m\u001b[22m::Convex.EqConstraint, ::Convex.UniqueConicForms\u001b[1m)\u001b[22m\u001b[22m at \u001b[1m/Users/umaroy/.julia/v0.6/Convex/src/constraints/constraints.jl:43\u001b[22m\u001b[22m\n",
      " [9] \u001b[1mconic_form!\u001b[22m\u001b[22m\u001b[1m(\u001b[22m\u001b[22m::Convex.Problem, ::Convex.UniqueConicForms\u001b[1m)\u001b[22m\u001b[22m at \u001b[1m/Users/umaroy/.julia/v0.6/Convex/src/problems.jl:99\u001b[22m\u001b[22m\n",
      " [10] \u001b[1mconic_problem\u001b[22m\u001b[22m\u001b[1m(\u001b[22m\u001b[22m::Convex.Problem\u001b[1m)\u001b[22m\u001b[22m at \u001b[1m/Users/umaroy/.julia/v0.6/Convex/src/problems.jl:124\u001b[22m\u001b[22m\n",
      " [11] \u001b[1m#solve!#25\u001b[22m\u001b[22m\u001b[1m(\u001b[22m\u001b[22m::Bool, ::Bool, ::Bool, ::Function, ::Convex.Problem\u001b[1m)\u001b[22m\u001b[22m at \u001b[1m/Users/umaroy/.julia/v0.6/Convex/src/solution.jl:25\u001b[22m\u001b[22m\n",
      " [12] \u001b[1m#solve!#24\u001b[22m\u001b[22m\u001b[1m(\u001b[22m\u001b[22m::Array{Any,1}, ::Function, ::Convex.Problem, ::SCS.SCSSolver\u001b[1m)\u001b[22m\u001b[22m at \u001b[1m/Users/umaroy/.julia/v0.6/Convex/src/solution.jl:13\u001b[22m\u001b[22m\n",
      " [13] \u001b[1mMTP2CovEstimator\u001b[22m\u001b[22m\u001b[1m(\u001b[22m\u001b[22m::Array{Float64,2}\u001b[1m)\u001b[22m\u001b[22m at \u001b[1m./In[46]:8\u001b[22m\u001b[22m\n",
      " [14] \u001b[1minclude_string\u001b[22m\u001b[22m\u001b[1m(\u001b[22m\u001b[22m::String, ::String\u001b[1m)\u001b[22m\u001b[22m at \u001b[1m./loading.jl:522\u001b[22m\u001b[22m\n",
      " [15] \u001b[1mexecute_request\u001b[22m\u001b[22m\u001b[1m(\u001b[22m\u001b[22m::ZMQ.Socket, ::IJulia.Msg\u001b[1m)\u001b[22m\u001b[22m at \u001b[1m/Users/umaroy/.julia/v0.6/IJulia/src/execute_request.jl:193\u001b[22m\u001b[22m\n",
      " [16] \u001b[1m(::Compat.#inner#6{Array{Any,1},IJulia.#execute_request,Tuple{ZMQ.Socket,IJulia.Msg}})\u001b[22m\u001b[22m\u001b[1m(\u001b[22m\u001b[22m\u001b[1m)\u001b[22m\u001b[22m at \u001b[1m/Users/umaroy/.julia/v0.6/Compat/src/Compat.jl:189\u001b[22m\u001b[22m\n",
      " [17] \u001b[1meventloop\u001b[22m\u001b[22m\u001b[1m(\u001b[22m\u001b[22m::ZMQ.Socket\u001b[1m)\u001b[22m\u001b[22m at \u001b[1m/Users/umaroy/.julia/v0.6/IJulia/src/eventloop.jl:8\u001b[22m\u001b[22m\n",
      " [18] \u001b[1m(::IJulia.##13#16)\u001b[22m\u001b[22m\u001b[1m(\u001b[22m\u001b[22m\u001b[1m)\u001b[22m\u001b[22m at \u001b[1m./task.jl:335\u001b[22m\u001b[22m\n",
      "while loading In[56], in expression starting on line 2\n",
      "\u001b[1m\u001b[33mWARNING: \u001b[39m\u001b[22m\u001b[33mArray(::Type{T}, m::Int) where T is deprecated, use Array{T}(m) instead.\u001b[39m\n",
      "Stacktrace:\n",
      " [1] \u001b[1mdepwarn\u001b[22m\u001b[22m\u001b[1m(\u001b[22m\u001b[22m::String, ::Symbol\u001b[1m)\u001b[22m\u001b[22m at \u001b[1m./deprecated.jl:70\u001b[22m\u001b[22m\n",
      " [2] \u001b[1mArray\u001b[22m\u001b[22m\u001b[1m(\u001b[22m\u001b[22m::Type{Int64}, ::Int64\u001b[1m)\u001b[22m\u001b[22m at \u001b[1m./deprecated.jl:57\u001b[22m\u001b[22m\n",
      " [3] \u001b[1mconic_form!\u001b[22m\u001b[22m\u001b[1m(\u001b[22m\u001b[22m::Convex.IndexAtom, ::Convex.UniqueConicForms\u001b[1m)\u001b[22m\u001b[22m at \u001b[1m/Users/umaroy/.julia/v0.6/Convex/src/atoms/affine/index.jl:57\u001b[22m\u001b[22m\n",
      " [4] \u001b[1mconic_form!\u001b[22m\u001b[22m\u001b[1m(\u001b[22m\u001b[22m::Convex.ExpConstraint, ::Convex.UniqueConicForms\u001b[1m)\u001b[22m\u001b[22m at \u001b[1m/Users/umaroy/.julia/v0.6/Convex/src/constraints/exp_constraints.jl:54\u001b[22m\u001b[22m\n",
      " [5] \u001b[1mconic_form!\u001b[22m\u001b[22m\u001b[1m(\u001b[22m\u001b[22m::Convex.LogAtom, ::Convex.UniqueConicForms\u001b[1m)\u001b[22m\u001b[22m at \u001b[1m/Users/umaroy/.julia/v0.6/Convex/src/atoms/exp_cone/log.jl:55\u001b[22m\u001b[22m\n",
      " [6] \u001b[1mconic_form!\u001b[22m\u001b[22m\u001b[1m(\u001b[22m\u001b[22m::Convex.SumAtom, ::Convex.UniqueConicForms\u001b[1m)\u001b[22m\u001b[22m at \u001b[1m/Users/umaroy/.julia/v0.6/Convex/src/atoms/affine/sum.jl:48\u001b[22m\u001b[22m\n",
      " [7] \u001b[1mconic_form!\u001b[22m\u001b[22m\u001b[1m(\u001b[22m\u001b[22m::Convex.LogDetAtom, ::Convex.UniqueConicForms\u001b[1m)\u001b[22m\u001b[22m at \u001b[1m/Users/umaroy/.julia/v0.6/Convex/src/atoms/exp_+_sdp_cone/logdet.jl:38\u001b[22m\u001b[22m\n",
      " [8] \u001b[1mconic_form!\u001b[22m\u001b[22m\u001b[1m(\u001b[22m\u001b[22m::Convex.AdditionAtom, ::Convex.UniqueConicForms\u001b[1m)\u001b[22m\u001b[22m at \u001b[1m/Users/umaroy/.julia/v0.6/Convex/src/atoms/affine/add_subtract.jl:108\u001b[22m\u001b[22m\n",
      " [9] \u001b[1mconic_form!\u001b[22m\u001b[22m\u001b[1m(\u001b[22m\u001b[22m::Convex.EqConstraint, ::Convex.UniqueConicForms\u001b[1m)\u001b[22m\u001b[22m at \u001b[1m/Users/umaroy/.julia/v0.6/Convex/src/constraints/constraints.jl:43\u001b[22m\u001b[22m\n",
      " [10] \u001b[1mconic_form!\u001b[22m\u001b[22m\u001b[1m(\u001b[22m\u001b[22m::Convex.Problem, ::Convex.UniqueConicForms\u001b[1m)\u001b[22m\u001b[22m at \u001b[1m/Users/umaroy/.julia/v0.6/Convex/src/problems.jl:99\u001b[22m\u001b[22m\n",
      " [11] \u001b[1mconic_problem\u001b[22m\u001b[22m\u001b[1m(\u001b[22m\u001b[22m::Convex.Problem\u001b[1m)\u001b[22m\u001b[22m at \u001b[1m/Users/umaroy/.julia/v0.6/Convex/src/problems.jl:124\u001b[22m\u001b[22m\n",
      " [12] \u001b[1m#solve!#25\u001b[22m\u001b[22m\u001b[1m(\u001b[22m\u001b[22m::Bool, ::Bool, ::Bool, ::Function, ::Convex.Problem\u001b[1m)\u001b[22m\u001b[22m at \u001b[1m/Users/umaroy/.julia/v0.6/Convex/src/solution.jl:25\u001b[22m\u001b[22m\n",
      " [13] \u001b[1m#solve!#24\u001b[22m\u001b[22m\u001b[1m(\u001b[22m\u001b[22m::Array{Any,1}, ::Function, ::Convex.Problem, ::SCS.SCSSolver\u001b[1m)\u001b[22m\u001b[22m at \u001b[1m/Users/umaroy/.julia/v0.6/Convex/src/solution.jl:13\u001b[22m\u001b[22m\n",
      " [14] \u001b[1mMTP2CovEstimator\u001b[22m\u001b[22m\u001b[1m(\u001b[22m\u001b[22m::Array{Float64,2}\u001b[1m)\u001b[22m\u001b[22m at \u001b[1m./In[46]:8\u001b[22m\u001b[22m\n",
      " [15] \u001b[1minclude_string\u001b[22m\u001b[22m\u001b[1m(\u001b[22m\u001b[22m::String, ::String\u001b[1m)\u001b[22m\u001b[22m at \u001b[1m./loading.jl:522\u001b[22m\u001b[22m\n",
      " [16] \u001b[1mexecute_request\u001b[22m\u001b[22m\u001b[1m(\u001b[22m\u001b[22m::ZMQ.Socket, ::IJulia.Msg\u001b[1m)\u001b[22m\u001b[22m at \u001b[1m/Users/umaroy/.julia/v0.6/IJulia/src/execute_request.jl:193\u001b[22m\u001b[22m\n",
      " [17] \u001b[1m(::Compat.#inner#6{Array{Any,1},IJulia.#execute_request,Tuple{ZMQ.Socket,IJulia.Msg}})\u001b[22m\u001b[22m\u001b[1m(\u001b[22m\u001b[22m\u001b[1m)\u001b[22m\u001b[22m at \u001b[1m/Users/umaroy/.julia/v0.6/Compat/src/Compat.jl:189\u001b[22m\u001b[22m\n",
      " [18] \u001b[1meventloop\u001b[22m\u001b[22m\u001b[1m(\u001b[22m\u001b[22m::ZMQ.Socket\u001b[1m)\u001b[22m\u001b[22m at \u001b[1m/Users/umaroy/.julia/v0.6/IJulia/src/eventloop.jl:8\u001b[22m\u001b[22m\n",
      " [19] \u001b[1m(::IJulia.##13#16)\u001b[22m\u001b[22m\u001b[1m(\u001b[22m\u001b[22m\u001b[1m)\u001b[22m\u001b[22m at \u001b[1m./task.jl:335\u001b[22m\u001b[22m\n",
      "while loading In[56], in expression starting on line 2\n",
      "\u001b[1m\u001b[33mWARNING: \u001b[39m\u001b[22m\u001b[33mArray(::Type{T}, m::Int) where T is deprecated, use Array{T}(m) instead.\u001b[39m\n",
      "Stacktrace:\n",
      " [1] \u001b[1mdepwarn\u001b[22m\u001b[22m\u001b[1m(\u001b[22m\u001b[22m::String, ::Symbol\u001b[1m)\u001b[22m\u001b[22m at \u001b[1m./deprecated.jl:70\u001b[22m\u001b[22m\n",
      " [2] \u001b[1mArray\u001b[22m\u001b[22m\u001b[1m(\u001b[22m\u001b[22m::Type{Int64}, ::Int64\u001b[1m)\u001b[22m\u001b[22m at \u001b[1m./deprecated.jl:57\u001b[22m\u001b[22m\n",
      " [3] \u001b[1mconic_form!\u001b[22m\u001b[22m\u001b[1m(\u001b[22m\u001b[22m::Convex.SDPConstraint, ::Convex.UniqueConicForms\u001b[1m)\u001b[22m\u001b[22m at \u001b[1m/Users/umaroy/.julia/v0.6/Convex/src/constraints/sdp_constraints.jl:52\u001b[22m\u001b[22m\n",
      " [4] \u001b[1mconic_form!\u001b[22m\u001b[22m\u001b[1m(\u001b[22m\u001b[22m::Convex.LogDetAtom, ::Convex.UniqueConicForms\u001b[1m)\u001b[22m\u001b[22m at \u001b[1m/Users/umaroy/.julia/v0.6/Convex/src/atoms/exp_+_sdp_cone/logdet.jl:56\u001b[22m\u001b[22m\n",
      " [5] \u001b[1mconic_form!\u001b[22m\u001b[22m\u001b[1m(\u001b[22m\u001b[22m::Convex.AdditionAtom, ::Convex.UniqueConicForms\u001b[1m)\u001b[22m\u001b[22m at \u001b[1m/Users/umaroy/.julia/v0.6/Convex/src/atoms/affine/add_subtract.jl:108\u001b[22m\u001b[22m\n",
      " [6] \u001b[1mconic_form!\u001b[22m\u001b[22m\u001b[1m(\u001b[22m\u001b[22m::Convex.EqConstraint, ::Convex.UniqueConicForms\u001b[1m)\u001b[22m\u001b[22m at \u001b[1m/Users/umaroy/.julia/v0.6/Convex/src/constraints/constraints.jl:43\u001b[22m\u001b[22m\n",
      " [7] \u001b[1mconic_form!\u001b[22m\u001b[22m\u001b[1m(\u001b[22m\u001b[22m::Convex.Problem, ::Convex.UniqueConicForms\u001b[1m)\u001b[22m\u001b[22m at \u001b[1m/Users/umaroy/.julia/v0.6/Convex/src/problems.jl:99\u001b[22m\u001b[22m\n",
      " [8] \u001b[1mconic_problem\u001b[22m\u001b[22m\u001b[1m(\u001b[22m\u001b[22m::Convex.Problem\u001b[1m)\u001b[22m\u001b[22m at \u001b[1m/Users/umaroy/.julia/v0.6/Convex/src/problems.jl:124\u001b[22m\u001b[22m\n",
      " [9] \u001b[1m#solve!#25\u001b[22m\u001b[22m\u001b[1m(\u001b[22m\u001b[22m::Bool, ::Bool, ::Bool, ::Function, ::Convex.Problem\u001b[1m)\u001b[22m\u001b[22m at \u001b[1m/Users/umaroy/.julia/v0.6/Convex/src/solution.jl:25\u001b[22m\u001b[22m\n",
      " [10] \u001b[1m#solve!#24\u001b[22m\u001b[22m\u001b[1m(\u001b[22m\u001b[22m::Array{Any,1}, ::Function, ::Convex.Problem, ::SCS.SCSSolver\u001b[1m)\u001b[22m\u001b[22m at \u001b[1m/Users/umaroy/.julia/v0.6/Convex/src/solution.jl:13\u001b[22m\u001b[22m\n",
      " [11] \u001b[1mMTP2CovEstimator\u001b[22m\u001b[22m\u001b[1m(\u001b[22m\u001b[22m::Array{Float64,2}\u001b[1m)\u001b[22m\u001b[22m at \u001b[1m./In[46]:8\u001b[22m\u001b[22m\n",
      " [12] \u001b[1minclude_string\u001b[22m\u001b[22m\u001b[1m(\u001b[22m\u001b[22m::String, ::String\u001b[1m)\u001b[22m\u001b[22m at \u001b[1m./loading.jl:522\u001b[22m\u001b[22m\n",
      " [13] \u001b[1mexecute_request\u001b[22m\u001b[22m\u001b[1m(\u001b[22m\u001b[22m::ZMQ.Socket, ::IJulia.Msg\u001b[1m)\u001b[22m\u001b[22m at \u001b[1m/Users/umaroy/.julia/v0.6/IJulia/src/execute_request.jl:193\u001b[22m\u001b[22m\n",
      " [14] \u001b[1m(::Compat.#inner#6{Array{Any,1},IJulia.#execute_request,Tuple{ZMQ.Socket,IJulia.Msg}})\u001b[22m\u001b[22m\u001b[1m(\u001b[22m\u001b[22m\u001b[1m)\u001b[22m\u001b[22m at \u001b[1m/Users/umaroy/.julia/v0.6/Compat/src/Compat.jl:189\u001b[22m\u001b[22m\n",
      " [15] \u001b[1meventloop\u001b[22m\u001b[22m\u001b[1m(\u001b[22m\u001b[22m::ZMQ.Socket\u001b[1m)\u001b[22m\u001b[22m at \u001b[1m/Users/umaroy/.julia/v0.6/IJulia/src/eventloop.jl:8\u001b[22m\u001b[22m\n",
      " [16] \u001b[1m(::IJulia.##13#16)\u001b[22m\u001b[22m\u001b[1m(\u001b[22m\u001b[22m\u001b[1m)\u001b[22m\u001b[22m at \u001b[1m./task.jl:335\u001b[22m\u001b[22m\n",
      "while loading In[56], in expression starting on line 2\n",
      "\u001b[1m\u001b[33mWARNING: \u001b[39m\u001b[22m\u001b[33mArray(::Type{T}, m::Int) where T is deprecated, use Array{T}(m) instead.\u001b[39m\n",
      "Stacktrace:\n",
      " [1] \u001b[1mdepwarn\u001b[22m\u001b[22m\u001b[1m(\u001b[22m\u001b[22m::String, ::Symbol\u001b[1m)\u001b[22m\u001b[22m at \u001b[1m./deprecated.jl:70\u001b[22m\u001b[22m\n",
      " [2] \u001b[1mArray\u001b[22m\u001b[22m\u001b[1m(\u001b[22m\u001b[22m::Type{Int64}, ::Int64\u001b[1m)\u001b[22m\u001b[22m at \u001b[1m./deprecated.jl:57\u001b[22m\u001b[22m\n",
      " [3] \u001b[1mconic_form!\u001b[22m\u001b[22m\u001b[1m(\u001b[22m\u001b[22m::Convex.SDPConstraint, ::Convex.UniqueConicForms\u001b[1m)\u001b[22m\u001b[22m at \u001b[1m/Users/umaroy/.julia/v0.6/Convex/src/constraints/sdp_constraints.jl:53\u001b[22m\u001b[22m\n",
      " [4] \u001b[1mconic_form!\u001b[22m\u001b[22m\u001b[1m(\u001b[22m\u001b[22m::Convex.LogDetAtom, ::Convex.UniqueConicForms\u001b[1m)\u001b[22m\u001b[22m at \u001b[1m/Users/umaroy/.julia/v0.6/Convex/src/atoms/exp_+_sdp_cone/logdet.jl:56\u001b[22m\u001b[22m\n",
      " [5] \u001b[1mconic_form!\u001b[22m\u001b[22m\u001b[1m(\u001b[22m\u001b[22m::Convex.AdditionAtom, ::Convex.UniqueConicForms\u001b[1m)\u001b[22m\u001b[22m at \u001b[1m/Users/umaroy/.julia/v0.6/Convex/src/atoms/affine/add_subtract.jl:108\u001b[22m\u001b[22m\n",
      " [6] \u001b[1mconic_form!\u001b[22m\u001b[22m\u001b[1m(\u001b[22m\u001b[22m::Convex.EqConstraint, ::Convex.UniqueConicForms\u001b[1m)\u001b[22m\u001b[22m at \u001b[1m/Users/umaroy/.julia/v0.6/Convex/src/constraints/constraints.jl:43\u001b[22m\u001b[22m\n",
      " [7] \u001b[1mconic_form!\u001b[22m\u001b[22m\u001b[1m(\u001b[22m\u001b[22m::Convex.Problem, ::Convex.UniqueConicForms\u001b[1m)\u001b[22m\u001b[22m at \u001b[1m/Users/umaroy/.julia/v0.6/Convex/src/problems.jl:99\u001b[22m\u001b[22m\n",
      " [8] \u001b[1mconic_problem\u001b[22m\u001b[22m\u001b[1m(\u001b[22m\u001b[22m::Convex.Problem\u001b[1m)\u001b[22m\u001b[22m at \u001b[1m/Users/umaroy/.julia/v0.6/Convex/src/problems.jl:124\u001b[22m\u001b[22m\n",
      " [9] \u001b[1m#solve!#25\u001b[22m\u001b[22m\u001b[1m(\u001b[22m\u001b[22m::Bool, ::Bool, ::Bool, ::Function, ::Convex.Problem\u001b[1m)\u001b[22m\u001b[22m at \u001b[1m/Users/umaroy/.julia/v0.6/Convex/src/solution.jl:25\u001b[22m\u001b[22m\n",
      " [10] \u001b[1m#solve!#24\u001b[22m\u001b[22m\u001b[1m(\u001b[22m\u001b[22m::Array{Any,1}, ::Function, ::Convex.Problem, ::SCS.SCSSolver\u001b[1m)\u001b[22m\u001b[22m at \u001b[1m/Users/umaroy/.julia/v0.6/Convex/src/solution.jl:13\u001b[22m\u001b[22m\n",
      " [11] \u001b[1mMTP2CovEstimator\u001b[22m\u001b[22m\u001b[1m(\u001b[22m\u001b[22m::Array{Float64,2}\u001b[1m)\u001b[22m\u001b[22m at \u001b[1m./In[46]:8\u001b[22m\u001b[22m\n",
      " [12] \u001b[1minclude_string\u001b[22m\u001b[22m\u001b[1m(\u001b[22m\u001b[22m::String, ::String\u001b[1m)\u001b[22m\u001b[22m at \u001b[1m./loading.jl:522\u001b[22m\u001b[22m\n",
      " [13] \u001b[1mexecute_request\u001b[22m\u001b[22m\u001b[1m(\u001b[22m\u001b[22m::ZMQ.Socket, ::IJulia.Msg\u001b[1m)\u001b[22m\u001b[22m at \u001b[1m/Users/umaroy/.julia/v0.6/IJulia/src/execute_request.jl:193\u001b[22m\u001b[22m\n",
      " [14] \u001b[1m(::Compat.#inner#6{Array{Any,1},IJulia.#execute_request,Tuple{ZMQ.Socket,IJulia.Msg}})\u001b[22m\u001b[22m\u001b[1m(\u001b[22m\u001b[22m\u001b[1m)\u001b[22m\u001b[22m at \u001b[1m/Users/umaroy/.julia/v0.6/Compat/src/Compat.jl:189\u001b[22m\u001b[22m\n",
      " [15] \u001b[1meventloop\u001b[22m\u001b[22m\u001b[1m(\u001b[22m\u001b[22m::ZMQ.Socket\u001b[1m)\u001b[22m\u001b[22m at \u001b[1m/Users/umaroy/.julia/v0.6/IJulia/src/eventloop.jl:8\u001b[22m\u001b[22m\n",
      " [16] \u001b[1m(::IJulia.##13#16)\u001b[22m\u001b[22m\u001b[1m(\u001b[22m\u001b[22m\u001b[1m)\u001b[22m\u001b[22m at \u001b[1m./task.jl:335\u001b[22m\u001b[22m\n",
      "while loading In[56], in expression starting on line 2\n",
      "\u001b[1m\u001b[33mWARNING: \u001b[39m\u001b[22m\u001b[33mArray(::Type{T}, m::Int) where T is deprecated, use Array{T}(m) instead.\u001b[39m\n",
      "Stacktrace:\n",
      " [1] \u001b[1mdepwarn\u001b[22m\u001b[22m\u001b[1m(\u001b[22m\u001b[22m::String, ::Symbol\u001b[1m)\u001b[22m\u001b[22m at \u001b[1m./deprecated.jl:70\u001b[22m\u001b[22m\n",
      " [2] \u001b[1mArray\u001b[22m\u001b[22m\u001b[1m(\u001b[22m\u001b[22m::Type{Int64}, ::Int64\u001b[1m)\u001b[22m\u001b[22m at \u001b[1m./deprecated.jl:57\u001b[22m\u001b[22m\n",
      " [3] \u001b[1mconic_form!\u001b[22m\u001b[22m\u001b[1m(\u001b[22m\u001b[22m::Convex.TransposeAtom, ::Convex.UniqueConicForms\u001b[1m)\u001b[22m\u001b[22m at \u001b[1m/Users/umaroy/.julia/v0.6/Convex/src/atoms/affine/transpose.jl:51\u001b[22m\u001b[22m\n",
      " [4] \u001b[1mconic_form!\u001b[22m\u001b[22m\u001b[1m(\u001b[22m\u001b[22m::Convex.HcatAtom, ::Convex.UniqueConicForms\u001b[1m)\u001b[22m\u001b[22m at \u001b[1m/Users/umaroy/.julia/v0.6/Convex/src/atoms/affine/stack.jl:47\u001b[22m\u001b[22m\n",
      " [5] \u001b[1mconic_form!\u001b[22m\u001b[22m\u001b[1m(\u001b[22m\u001b[22m::Convex.TransposeAtom, ::Convex.UniqueConicForms\u001b[1m)\u001b[22m\u001b[22m at \u001b[1m/Users/umaroy/.julia/v0.6/Convex/src/atoms/affine/transpose.jl:44\u001b[22m\u001b[22m\n",
      " [6] \u001b[1mconic_form!\u001b[22m\u001b[22m\u001b[1m(\u001b[22m\u001b[22m::Convex.DotMultiplyAtom, ::Convex.UniqueConicForms\u001b[1m)\u001b[22m\u001b[22m at \u001b[1m/Users/umaroy/.julia/v0.6/Convex/src/atoms/affine/multiply_divide.jl:175\u001b[22m\u001b[22m\n",
      " [7] \u001b[1mconic_form!\u001b[22m\u001b[22m\u001b[1m(\u001b[22m\u001b[22m::Convex.IndexAtom, ::Convex.UniqueConicForms\u001b[1m)\u001b[22m\u001b[22m at \u001b[1m/Users/umaroy/.julia/v0.6/Convex/src/atoms/affine/index.jl:72\u001b[22m\u001b[22m\n",
      " [8] \u001b[1mconic_form!\u001b[22m\u001b[22m\u001b[1m(\u001b[22m\u001b[22m::Convex.SDPConstraint, ::Convex.UniqueConicForms\u001b[1m)\u001b[22m\u001b[22m at \u001b[1m/Users/umaroy/.julia/v0.6/Convex/src/constraints/sdp_constraints.jl:65\u001b[22m\u001b[22m\n",
      " [9] \u001b[1mconic_form!\u001b[22m\u001b[22m\u001b[1m(\u001b[22m\u001b[22m::Convex.LogDetAtom, ::Convex.UniqueConicForms\u001b[1m)\u001b[22m\u001b[22m at \u001b[1m/Users/umaroy/.julia/v0.6/Convex/src/atoms/exp_+_sdp_cone/logdet.jl:57\u001b[22m\u001b[22m\n",
      " [10] \u001b[1mconic_form!\u001b[22m\u001b[22m\u001b[1m(\u001b[22m\u001b[22m::Convex.AdditionAtom, ::Convex.UniqueConicForms\u001b[1m)\u001b[22m\u001b[22m at \u001b[1m/Users/umaroy/.julia/v0.6/Convex/src/atoms/affine/add_subtract.jl:108\u001b[22m\u001b[22m\n",
      " [11] \u001b[1mconic_form!\u001b[22m\u001b[22m\u001b[1m(\u001b[22m\u001b[22m::Convex.EqConstraint, ::Convex.UniqueConicForms\u001b[1m)\u001b[22m\u001b[22m at \u001b[1m/Users/umaroy/.julia/v0.6/Convex/src/constraints/constraints.jl:43\u001b[22m\u001b[22m\n",
      " [12] \u001b[1mconic_form!\u001b[22m\u001b[22m\u001b[1m(\u001b[22m\u001b[22m::Convex.Problem, ::Convex.UniqueConicForms\u001b[1m)\u001b[22m\u001b[22m at \u001b[1m/Users/umaroy/.julia/v0.6/Convex/src/problems.jl:99\u001b[22m\u001b[22m\n",
      " [13] \u001b[1mconic_problem\u001b[22m\u001b[22m\u001b[1m(\u001b[22m\u001b[22m::Convex.Problem\u001b[1m)\u001b[22m\u001b[22m at \u001b[1m/Users/umaroy/.julia/v0.6/Convex/src/problems.jl:124\u001b[22m\u001b[22m\n",
      " [14] \u001b[1m#solve!#25\u001b[22m\u001b[22m\u001b[1m(\u001b[22m\u001b[22m::Bool, ::Bool, ::Bool, ::Function, ::Convex.Problem\u001b[1m)\u001b[22m\u001b[22m at \u001b[1m/Users/umaroy/.julia/v0.6/Convex/src/solution.jl:25\u001b[22m\u001b[22m\n",
      " [15] \u001b[1m#solve!#24\u001b[22m\u001b[22m\u001b[1m(\u001b[22m\u001b[22m::Array{Any,1}, ::Function, ::Convex.Problem, ::SCS.SCSSolver\u001b[1m)\u001b[22m\u001b[22m at \u001b[1m/Users/umaroy/.julia/v0.6/Convex/src/solution.jl:13\u001b[22m\u001b[22m\n",
      " [16] \u001b[1mMTP2CovEstimator\u001b[22m\u001b[22m\u001b[1m(\u001b[22m\u001b[22m::Array{Float64,2}\u001b[1m)\u001b[22m\u001b[22m at \u001b[1m./In[46]:8\u001b[22m\u001b[22m\n",
      " [17] \u001b[1minclude_string\u001b[22m\u001b[22m\u001b[1m(\u001b[22m\u001b[22m::String, ::String\u001b[1m)\u001b[22m\u001b[22m at \u001b[1m./loading.jl:522\u001b[22m\u001b[22m\n",
      " [18] \u001b[1mexecute_request\u001b[22m\u001b[22m\u001b[1m(\u001b[22m\u001b[22m::ZMQ.Socket, ::IJulia.Msg\u001b[1m)\u001b[22m\u001b[22m at \u001b[1m/Users/umaroy/.julia/v0.6/IJulia/src/execute_request.jl:193\u001b[22m\u001b[22m\n",
      " [19] \u001b[1m(::Compat.#inner#6{Array{Any,1},IJulia.#execute_request,Tuple{ZMQ.Socket,IJulia.Msg}})\u001b[22m\u001b[22m\u001b[1m(\u001b[22m\u001b[22m\u001b[1m)\u001b[22m\u001b[22m at \u001b[1m/Users/umaroy/.julia/v0.6/Compat/src/Compat.jl:189\u001b[22m\u001b[22m\n",
      " [20] \u001b[1meventloop\u001b[22m\u001b[22m\u001b[1m(\u001b[22m\u001b[22m::ZMQ.Socket\u001b[1m)\u001b[22m\u001b[22m at \u001b[1m/Users/umaroy/.julia/v0.6/IJulia/src/eventloop.jl:8\u001b[22m\u001b[22m\n",
      " [21] \u001b[1m(::IJulia.##13#16)\u001b[22m\u001b[22m\u001b[1m(\u001b[22m\u001b[22m\u001b[1m)\u001b[22m\u001b[22m at \u001b[1m./task.jl:335\u001b[22m\u001b[22m\n",
      "while loading In[56], in expression starting on line 2\n",
      "\u001b[1m\u001b[33mWARNING: \u001b[39m\u001b[22m\u001b[33mArray(::Type{T}, m::Int) where T is deprecated, use Array{T}(m) instead.\u001b[39m\n",
      "Stacktrace:\n",
      " [1] \u001b[1mdepwarn\u001b[22m\u001b[22m\u001b[1m(\u001b[22m\u001b[22m::String, ::Symbol\u001b[1m)\u001b[22m\u001b[22m at \u001b[1m./deprecated.jl:70\u001b[22m\u001b[22m\n",
      " [2] \u001b[1mArray\u001b[22m\u001b[22m\u001b[1m(\u001b[22m\u001b[22m::Type{Int64}, ::Int64\u001b[1m)\u001b[22m\u001b[22m at \u001b[1m./deprecated.jl:57\u001b[22m\u001b[22m\n",
      " [3] \u001b[1mconic_form!\u001b[22m\u001b[22m\u001b[1m(\u001b[22m\u001b[22m::Convex.TransposeAtom, ::Convex.UniqueConicForms\u001b[1m)\u001b[22m\u001b[22m at \u001b[1m/Users/umaroy/.julia/v0.6/Convex/src/atoms/affine/transpose.jl:52\u001b[22m\u001b[22m\n",
      " [4] \u001b[1mconic_form!\u001b[22m\u001b[22m\u001b[1m(\u001b[22m\u001b[22m::Convex.HcatAtom, ::Convex.UniqueConicForms\u001b[1m)\u001b[22m\u001b[22m at \u001b[1m/Users/umaroy/.julia/v0.6/Convex/src/atoms/affine/stack.jl:47\u001b[22m\u001b[22m\n",
      " [5] \u001b[1mconic_form!\u001b[22m\u001b[22m\u001b[1m(\u001b[22m\u001b[22m::Convex.TransposeAtom, ::Convex.UniqueConicForms\u001b[1m)\u001b[22m\u001b[22m at \u001b[1m/Users/umaroy/.julia/v0.6/Convex/src/atoms/affine/transpose.jl:44\u001b[22m\u001b[22m\n",
      " [6] \u001b[1mconic_form!\u001b[22m\u001b[22m\u001b[1m(\u001b[22m\u001b[22m::Convex.DotMultiplyAtom, ::Convex.UniqueConicForms\u001b[1m)\u001b[22m\u001b[22m at \u001b[1m/Users/umaroy/.julia/v0.6/Convex/src/atoms/affine/multiply_divide.jl:175\u001b[22m\u001b[22m\n",
      " [7] \u001b[1mconic_form!\u001b[22m\u001b[22m\u001b[1m(\u001b[22m\u001b[22m::Convex.IndexAtom, ::Convex.UniqueConicForms\u001b[1m)\u001b[22m\u001b[22m at \u001b[1m/Users/umaroy/.julia/v0.6/Convex/src/atoms/affine/index.jl:72\u001b[22m\u001b[22m\n",
      " [8] \u001b[1mconic_form!\u001b[22m\u001b[22m\u001b[1m(\u001b[22m\u001b[22m::Convex.SDPConstraint, ::Convex.UniqueConicForms\u001b[1m)\u001b[22m\u001b[22m at \u001b[1m/Users/umaroy/.julia/v0.6/Convex/src/constraints/sdp_constraints.jl:65\u001b[22m\u001b[22m\n",
      " [9] \u001b[1mconic_form!\u001b[22m\u001b[22m\u001b[1m(\u001b[22m\u001b[22m::Convex.LogDetAtom, ::Convex.UniqueConicForms\u001b[1m)\u001b[22m\u001b[22m at \u001b[1m/Users/umaroy/.julia/v0.6/Convex/src/atoms/exp_+_sdp_cone/logdet.jl:57\u001b[22m\u001b[22m\n",
      " [10] \u001b[1mconic_form!\u001b[22m\u001b[22m\u001b[1m(\u001b[22m\u001b[22m::Convex.AdditionAtom, ::Convex.UniqueConicForms\u001b[1m)\u001b[22m\u001b[22m at \u001b[1m/Users/umaroy/.julia/v0.6/Convex/src/atoms/affine/add_subtract.jl:108\u001b[22m\u001b[22m\n",
      " [11] \u001b[1mconic_form!\u001b[22m\u001b[22m\u001b[1m(\u001b[22m\u001b[22m::Convex.EqConstraint, ::Convex.UniqueConicForms\u001b[1m)\u001b[22m\u001b[22m at \u001b[1m/Users/umaroy/.julia/v0.6/Convex/src/constraints/constraints.jl:43\u001b[22m\u001b[22m\n",
      " [12] \u001b[1mconic_form!\u001b[22m\u001b[22m\u001b[1m(\u001b[22m\u001b[22m::Convex.Problem, ::Convex.UniqueConicForms\u001b[1m)\u001b[22m\u001b[22m at \u001b[1m/Users/umaroy/.julia/v0.6/Convex/src/problems.jl:99\u001b[22m\u001b[22m\n",
      " [13] \u001b[1mconic_problem\u001b[22m\u001b[22m\u001b[1m(\u001b[22m\u001b[22m::Convex.Problem\u001b[1m)\u001b[22m\u001b[22m at \u001b[1m/Users/umaroy/.julia/v0.6/Convex/src/problems.jl:124\u001b[22m\u001b[22m\n",
      " [14] \u001b[1m#solve!#25\u001b[22m\u001b[22m\u001b[1m(\u001b[22m\u001b[22m::Bool, ::Bool, ::Bool, ::Function, ::Convex.Problem\u001b[1m)\u001b[22m\u001b[22m at \u001b[1m/Users/umaroy/.julia/v0.6/Convex/src/solution.jl:25\u001b[22m\u001b[22m\n",
      " [15] \u001b[1m#solve!#24\u001b[22m\u001b[22m\u001b[1m(\u001b[22m\u001b[22m::Array{Any,1}, ::Function, ::Convex.Problem, ::SCS.SCSSolver\u001b[1m)\u001b[22m\u001b[22m at \u001b[1m/Users/umaroy/.julia/v0.6/Convex/src/solution.jl:13\u001b[22m\u001b[22m\n",
      " [16] \u001b[1mMTP2CovEstimator\u001b[22m\u001b[22m\u001b[1m(\u001b[22m\u001b[22m::Array{Float64,2}\u001b[1m)\u001b[22m\u001b[22m at \u001b[1m./In[46]:8\u001b[22m\u001b[22m\n",
      " [17] \u001b[1minclude_string\u001b[22m\u001b[22m\u001b[1m(\u001b[22m\u001b[22m::String, ::String\u001b[1m)\u001b[22m\u001b[22m at \u001b[1m./loading.jl:522\u001b[22m\u001b[22m\n",
      " [18] \u001b[1mexecute_request\u001b[22m\u001b[22m\u001b[1m(\u001b[22m\u001b[22m::ZMQ.Socket, ::IJulia.Msg\u001b[1m)\u001b[22m\u001b[22m at \u001b[1m/Users/umaroy/.julia/v0.6/IJulia/src/execute_request.jl:193\u001b[22m\u001b[22m\n",
      " [19] \u001b[1m(::Compat.#inner#6{Array{Any,1},IJulia.#execute_request,Tuple{ZMQ.Socket,IJulia.Msg}})\u001b[22m\u001b[22m\u001b[1m(\u001b[22m\u001b[22m\u001b[1m)\u001b[22m\u001b[22m at \u001b[1m/Users/umaroy/.julia/v0.6/Compat/src/Compat.jl:189\u001b[22m\u001b[22m\n",
      " [20] \u001b[1meventloop\u001b[22m\u001b[22m\u001b[1m(\u001b[22m\u001b[22m::ZMQ.Socket\u001b[1m)\u001b[22m\u001b[22m at \u001b[1m/Users/umaroy/.julia/v0.6/IJulia/src/eventloop.jl:8\u001b[22m\u001b[22m\n",
      " [21] \u001b[1m(::IJulia.##13#16)\u001b[22m\u001b[22m\u001b[1m(\u001b[22m\u001b[22m\u001b[1m)\u001b[22m\u001b[22m at \u001b[1m./task.jl:335\u001b[22m\u001b[22m\n",
      "while loading In[56], in expression starting on line 2\n"
     ]
    },
    {
     "name": "stderr",
     "output_type": "stream",
     "text": [
      "\u001b[1m\u001b[33mWARNING: \u001b[39m\u001b[22m\u001b[33mArray(::Type{T}, m::Int) where T is deprecated, use Array{T}(m) instead.\u001b[39m\n",
      "Stacktrace:\n",
      " [1] \u001b[1mdepwarn\u001b[22m\u001b[22m\u001b[1m(\u001b[22m\u001b[22m::String, ::Symbol\u001b[1m)\u001b[22m\u001b[22m at \u001b[1m./deprecated.jl:70\u001b[22m\u001b[22m\n",
      " [2] \u001b[1mArray\u001b[22m\u001b[22m\u001b[1m(\u001b[22m\u001b[22m::Type{Int64}, ::Int64\u001b[1m)\u001b[22m\u001b[22m at \u001b[1m./deprecated.jl:57\u001b[22m\u001b[22m\n",
      " [3] \u001b[1mconic_form!\u001b[22m\u001b[22m\u001b[1m(\u001b[22m\u001b[22m::Convex.CTransposeAtom, ::Convex.UniqueConicForms\u001b[1m)\u001b[22m\u001b[22m at \u001b[1m/Users/umaroy/.julia/v0.6/Convex/src/atoms/affine/transpose.jl:114\u001b[22m\u001b[22m\n",
      " [4] \u001b[1mconic_form!\u001b[22m\u001b[22m\u001b[1m(\u001b[22m\u001b[22m::Convex.HcatAtom, ::Convex.UniqueConicForms\u001b[1m)\u001b[22m\u001b[22m at \u001b[1m/Users/umaroy/.julia/v0.6/Convex/src/atoms/affine/stack.jl:47\u001b[22m\u001b[22m\n",
      " [5] \u001b[1mconic_form!\u001b[22m\u001b[22m\u001b[1m(\u001b[22m\u001b[22m::Convex.TransposeAtom, ::Convex.UniqueConicForms\u001b[1m)\u001b[22m\u001b[22m at \u001b[1m/Users/umaroy/.julia/v0.6/Convex/src/atoms/affine/transpose.jl:44\u001b[22m\u001b[22m\n",
      " [6] \u001b[1mconic_form!\u001b[22m\u001b[22m\u001b[1m(\u001b[22m\u001b[22m::Convex.HcatAtom, ::Convex.UniqueConicForms\u001b[1m)\u001b[22m\u001b[22m at \u001b[1m/Users/umaroy/.julia/v0.6/Convex/src/atoms/affine/stack.jl:47\u001b[22m\u001b[22m\n",
      " [7] \u001b[1mconic_form!\u001b[22m\u001b[22m\u001b[1m(\u001b[22m\u001b[22m::Convex.TransposeAtom, ::Convex.UniqueConicForms\u001b[1m)\u001b[22m\u001b[22m at \u001b[1m/Users/umaroy/.julia/v0.6/Convex/src/atoms/affine/transpose.jl:44\u001b[22m\u001b[22m\n",
      " [8] \u001b[1mconic_form!\u001b[22m\u001b[22m\u001b[1m(\u001b[22m\u001b[22m::Convex.DotMultiplyAtom, ::Convex.UniqueConicForms\u001b[1m)\u001b[22m\u001b[22m at \u001b[1m/Users/umaroy/.julia/v0.6/Convex/src/atoms/affine/multiply_divide.jl:175\u001b[22m\u001b[22m\n",
      " [9] \u001b[1mconic_form!\u001b[22m\u001b[22m\u001b[1m(\u001b[22m\u001b[22m::Convex.IndexAtom, ::Convex.UniqueConicForms\u001b[1m)\u001b[22m\u001b[22m at \u001b[1m/Users/umaroy/.julia/v0.6/Convex/src/atoms/affine/index.jl:72\u001b[22m\u001b[22m\n",
      " [10] \u001b[1mconic_form!\u001b[22m\u001b[22m\u001b[1m(\u001b[22m\u001b[22m::Convex.SDPConstraint, ::Convex.UniqueConicForms\u001b[1m)\u001b[22m\u001b[22m at \u001b[1m/Users/umaroy/.julia/v0.6/Convex/src/constraints/sdp_constraints.jl:65\u001b[22m\u001b[22m\n",
      " [11] \u001b[1mconic_form!\u001b[22m\u001b[22m\u001b[1m(\u001b[22m\u001b[22m::Convex.LogDetAtom, ::Convex.UniqueConicForms\u001b[1m)\u001b[22m\u001b[22m at \u001b[1m/Users/umaroy/.julia/v0.6/Convex/src/atoms/exp_+_sdp_cone/logdet.jl:57\u001b[22m\u001b[22m\n",
      " [12] \u001b[1mconic_form!\u001b[22m\u001b[22m\u001b[1m(\u001b[22m\u001b[22m::Convex.AdditionAtom, ::Convex.UniqueConicForms\u001b[1m)\u001b[22m\u001b[22m at \u001b[1m/Users/umaroy/.julia/v0.6/Convex/src/atoms/affine/add_subtract.jl:108\u001b[22m\u001b[22m\n",
      " [13] \u001b[1mconic_form!\u001b[22m\u001b[22m\u001b[1m(\u001b[22m\u001b[22m::Convex.EqConstraint, ::Convex.UniqueConicForms\u001b[1m)\u001b[22m\u001b[22m at \u001b[1m/Users/umaroy/.julia/v0.6/Convex/src/constraints/constraints.jl:43\u001b[22m\u001b[22m\n",
      " [14] \u001b[1mconic_form!\u001b[22m\u001b[22m\u001b[1m(\u001b[22m\u001b[22m::Convex.Problem, ::Convex.UniqueConicForms\u001b[1m)\u001b[22m\u001b[22m at \u001b[1m/Users/umaroy/.julia/v0.6/Convex/src/problems.jl:99\u001b[22m\u001b[22m\n",
      " [15] \u001b[1mconic_problem\u001b[22m\u001b[22m\u001b[1m(\u001b[22m\u001b[22m::Convex.Problem\u001b[1m)\u001b[22m\u001b[22m at \u001b[1m/Users/umaroy/.julia/v0.6/Convex/src/problems.jl:124\u001b[22m\u001b[22m\n",
      " [16] \u001b[1m#solve!#25\u001b[22m\u001b[22m\u001b[1m(\u001b[22m\u001b[22m::Bool, ::Bool, ::Bool, ::Function, ::Convex.Problem\u001b[1m)\u001b[22m\u001b[22m at \u001b[1m/Users/umaroy/.julia/v0.6/Convex/src/solution.jl:25\u001b[22m\u001b[22m\n",
      " [17] \u001b[1m#solve!#24\u001b[22m\u001b[22m\u001b[1m(\u001b[22m\u001b[22m::Array{Any,1}, ::Function, ::Convex.Problem, ::SCS.SCSSolver\u001b[1m)\u001b[22m\u001b[22m at \u001b[1m/Users/umaroy/.julia/v0.6/Convex/src/solution.jl:13\u001b[22m\u001b[22m\n",
      " [18] \u001b[1mMTP2CovEstimator\u001b[22m\u001b[22m\u001b[1m(\u001b[22m\u001b[22m::Array{Float64,2}\u001b[1m)\u001b[22m\u001b[22m at \u001b[1m./In[46]:8\u001b[22m\u001b[22m\n",
      " [19] \u001b[1minclude_string\u001b[22m\u001b[22m\u001b[1m(\u001b[22m\u001b[22m::String, ::String\u001b[1m)\u001b[22m\u001b[22m at \u001b[1m./loading.jl:522\u001b[22m\u001b[22m\n",
      " [20] \u001b[1mexecute_request\u001b[22m\u001b[22m\u001b[1m(\u001b[22m\u001b[22m::ZMQ.Socket, ::IJulia.Msg\u001b[1m)\u001b[22m\u001b[22m at \u001b[1m/Users/umaroy/.julia/v0.6/IJulia/src/execute_request.jl:193\u001b[22m\u001b[22m\n",
      " [21] \u001b[1m(::Compat.#inner#6{Array{Any,1},IJulia.#execute_request,Tuple{ZMQ.Socket,IJulia.Msg}})\u001b[22m\u001b[22m\u001b[1m(\u001b[22m\u001b[22m\u001b[1m)\u001b[22m\u001b[22m at \u001b[1m/Users/umaroy/.julia/v0.6/Compat/src/Compat.jl:189\u001b[22m\u001b[22m\n",
      " [22] \u001b[1meventloop\u001b[22m\u001b[22m\u001b[1m(\u001b[22m\u001b[22m::ZMQ.Socket\u001b[1m)\u001b[22m\u001b[22m at \u001b[1m/Users/umaroy/.julia/v0.6/IJulia/src/eventloop.jl:8\u001b[22m\u001b[22m\n",
      " [23] \u001b[1m(::IJulia.##13#16)\u001b[22m\u001b[22m\u001b[1m(\u001b[22m\u001b[22m\u001b[1m)\u001b[22m\u001b[22m at \u001b[1m./task.jl:335\u001b[22m\u001b[22m\n",
      "while loading In[56], in expression starting on line 2\n",
      "\u001b[1m\u001b[33mWARNING: \u001b[39m\u001b[22m\u001b[33mArray(::Type{T}, m::Int) where T is deprecated, use Array{T}(m) instead.\u001b[39m\n",
      "Stacktrace:\n",
      " [1] \u001b[1mdepwarn\u001b[22m\u001b[22m\u001b[1m(\u001b[22m\u001b[22m::String, ::Symbol\u001b[1m)\u001b[22m\u001b[22m at \u001b[1m./deprecated.jl:70\u001b[22m\u001b[22m\n",
      " [2] \u001b[1mArray\u001b[22m\u001b[22m\u001b[1m(\u001b[22m\u001b[22m::Type{Int64}, ::Int64\u001b[1m)\u001b[22m\u001b[22m at \u001b[1m./deprecated.jl:57\u001b[22m\u001b[22m\n",
      " [3] \u001b[1mconic_form!\u001b[22m\u001b[22m\u001b[1m(\u001b[22m\u001b[22m::Convex.CTransposeAtom, ::Convex.UniqueConicForms\u001b[1m)\u001b[22m\u001b[22m at \u001b[1m/Users/umaroy/.julia/v0.6/Convex/src/atoms/affine/transpose.jl:115\u001b[22m\u001b[22m\n",
      " [4] \u001b[1mconic_form!\u001b[22m\u001b[22m\u001b[1m(\u001b[22m\u001b[22m::Convex.HcatAtom, ::Convex.UniqueConicForms\u001b[1m)\u001b[22m\u001b[22m at \u001b[1m/Users/umaroy/.julia/v0.6/Convex/src/atoms/affine/stack.jl:47\u001b[22m\u001b[22m\n",
      " [5] \u001b[1mconic_form!\u001b[22m\u001b[22m\u001b[1m(\u001b[22m\u001b[22m::Convex.TransposeAtom, ::Convex.UniqueConicForms\u001b[1m)\u001b[22m\u001b[22m at \u001b[1m/Users/umaroy/.julia/v0.6/Convex/src/atoms/affine/transpose.jl:44\u001b[22m\u001b[22m\n",
      " [6] \u001b[1mconic_form!\u001b[22m\u001b[22m\u001b[1m(\u001b[22m\u001b[22m::Convex.HcatAtom, ::Convex.UniqueConicForms\u001b[1m)\u001b[22m\u001b[22m at \u001b[1m/Users/umaroy/.julia/v0.6/Convex/src/atoms/affine/stack.jl:47\u001b[22m\u001b[22m\n",
      " [7] \u001b[1mconic_form!\u001b[22m\u001b[22m\u001b[1m(\u001b[22m\u001b[22m::Convex.TransposeAtom, ::Convex.UniqueConicForms\u001b[1m)\u001b[22m\u001b[22m at \u001b[1m/Users/umaroy/.julia/v0.6/Convex/src/atoms/affine/transpose.jl:44\u001b[22m\u001b[22m\n",
      " [8] \u001b[1mconic_form!\u001b[22m\u001b[22m\u001b[1m(\u001b[22m\u001b[22m::Convex.DotMultiplyAtom, ::Convex.UniqueConicForms\u001b[1m)\u001b[22m\u001b[22m at \u001b[1m/Users/umaroy/.julia/v0.6/Convex/src/atoms/affine/multiply_divide.jl:175\u001b[22m\u001b[22m\n",
      " [9] \u001b[1mconic_form!\u001b[22m\u001b[22m\u001b[1m(\u001b[22m\u001b[22m::Convex.IndexAtom, ::Convex.UniqueConicForms\u001b[1m)\u001b[22m\u001b[22m at \u001b[1m/Users/umaroy/.julia/v0.6/Convex/src/atoms/affine/index.jl:72\u001b[22m\u001b[22m\n",
      " [10] \u001b[1mconic_form!\u001b[22m\u001b[22m\u001b[1m(\u001b[22m\u001b[22m::Convex.SDPConstraint, ::Convex.UniqueConicForms\u001b[1m)\u001b[22m\u001b[22m at \u001b[1m/Users/umaroy/.julia/v0.6/Convex/src/constraints/sdp_constraints.jl:65\u001b[22m\u001b[22m\n",
      " [11] \u001b[1mconic_form!\u001b[22m\u001b[22m\u001b[1m(\u001b[22m\u001b[22m::Convex.LogDetAtom, ::Convex.UniqueConicForms\u001b[1m)\u001b[22m\u001b[22m at \u001b[1m/Users/umaroy/.julia/v0.6/Convex/src/atoms/exp_+_sdp_cone/logdet.jl:57\u001b[22m\u001b[22m\n",
      " [12] \u001b[1mconic_form!\u001b[22m\u001b[22m\u001b[1m(\u001b[22m\u001b[22m::Convex.AdditionAtom, ::Convex.UniqueConicForms\u001b[1m)\u001b[22m\u001b[22m at \u001b[1m/Users/umaroy/.julia/v0.6/Convex/src/atoms/affine/add_subtract.jl:108\u001b[22m\u001b[22m\n",
      " [13] \u001b[1mconic_form!\u001b[22m\u001b[22m\u001b[1m(\u001b[22m\u001b[22m::Convex.EqConstraint, ::Convex.UniqueConicForms\u001b[1m)\u001b[22m\u001b[22m at \u001b[1m/Users/umaroy/.julia/v0.6/Convex/src/constraints/constraints.jl:43\u001b[22m\u001b[22m\n",
      " [14] \u001b[1mconic_form!\u001b[22m\u001b[22m\u001b[1m(\u001b[22m\u001b[22m::Convex.Problem, ::Convex.UniqueConicForms\u001b[1m)\u001b[22m\u001b[22m at \u001b[1m/Users/umaroy/.julia/v0.6/Convex/src/problems.jl:99\u001b[22m\u001b[22m\n",
      " [15] \u001b[1mconic_problem\u001b[22m\u001b[22m\u001b[1m(\u001b[22m\u001b[22m::Convex.Problem\u001b[1m)\u001b[22m\u001b[22m at \u001b[1m/Users/umaroy/.julia/v0.6/Convex/src/problems.jl:124\u001b[22m\u001b[22m\n",
      " [16] \u001b[1m#solve!#25\u001b[22m\u001b[22m\u001b[1m(\u001b[22m\u001b[22m::Bool, ::Bool, ::Bool, ::Function, ::Convex.Problem\u001b[1m)\u001b[22m\u001b[22m at \u001b[1m/Users/umaroy/.julia/v0.6/Convex/src/solution.jl:25\u001b[22m\u001b[22m\n",
      " [17] \u001b[1m#solve!#24\u001b[22m\u001b[22m\u001b[1m(\u001b[22m\u001b[22m::Array{Any,1}, ::Function, ::Convex.Problem, ::SCS.SCSSolver\u001b[1m)\u001b[22m\u001b[22m at \u001b[1m/Users/umaroy/.julia/v0.6/Convex/src/solution.jl:13\u001b[22m\u001b[22m\n",
      " [18] \u001b[1mMTP2CovEstimator\u001b[22m\u001b[22m\u001b[1m(\u001b[22m\u001b[22m::Array{Float64,2}\u001b[1m)\u001b[22m\u001b[22m at \u001b[1m./In[46]:8\u001b[22m\u001b[22m\n",
      " [19] \u001b[1minclude_string\u001b[22m\u001b[22m\u001b[1m(\u001b[22m\u001b[22m::String, ::String\u001b[1m)\u001b[22m\u001b[22m at \u001b[1m./loading.jl:522\u001b[22m\u001b[22m\n",
      " [20] \u001b[1mexecute_request\u001b[22m\u001b[22m\u001b[1m(\u001b[22m\u001b[22m::ZMQ.Socket, ::IJulia.Msg\u001b[1m)\u001b[22m\u001b[22m at \u001b[1m/Users/umaroy/.julia/v0.6/IJulia/src/execute_request.jl:193\u001b[22m\u001b[22m\n",
      " [21] \u001b[1m(::Compat.#inner#6{Array{Any,1},IJulia.#execute_request,Tuple{ZMQ.Socket,IJulia.Msg}})\u001b[22m\u001b[22m\u001b[1m(\u001b[22m\u001b[22m\u001b[1m)\u001b[22m\u001b[22m at \u001b[1m/Users/umaroy/.julia/v0.6/Compat/src/Compat.jl:189\u001b[22m\u001b[22m\n",
      " [22] \u001b[1meventloop\u001b[22m\u001b[22m\u001b[1m(\u001b[22m\u001b[22m::ZMQ.Socket\u001b[1m)\u001b[22m\u001b[22m at \u001b[1m/Users/umaroy/.julia/v0.6/IJulia/src/eventloop.jl:8\u001b[22m\u001b[22m\n",
      " [23] \u001b[1m(::IJulia.##13#16)\u001b[22m\u001b[22m\u001b[1m(\u001b[22m\u001b[22m\u001b[1m)\u001b[22m\u001b[22m at \u001b[1m./task.jl:335\u001b[22m\u001b[22m\n",
      "while loading In[56], in expression starting on line 2\n",
      "\u001b[1m\u001b[33mWARNING: \u001b[39m\u001b[22m\u001b[33misnan(x::AbstractArray{T}) where T <: Number is deprecated, use isnan.(x) instead.\u001b[39m\n",
      "Stacktrace:\n",
      " [1] \u001b[1mdepwarn\u001b[22m\u001b[22m\u001b[1m(\u001b[22m\u001b[22m::String, ::Symbol\u001b[1m)\u001b[22m\u001b[22m at \u001b[1m./deprecated.jl:70\u001b[22m\u001b[22m\n",
      " [2] \u001b[1misnan\u001b[22m\u001b[22m\u001b[1m(\u001b[22m\u001b[22m::Array{Float64,1}\u001b[1m)\u001b[22m\u001b[22m at \u001b[1m./deprecated.jl:57\u001b[22m\u001b[22m\n",
      " [3] \u001b[1mpopulate_solution!\u001b[22m\u001b[22m\u001b[1m(\u001b[22m\u001b[22m::SCS.SCSMathProgModel, ::Convex.Problem, ::Dict{UInt64,Tuple{Int64,Int64}}, ::Array{Convex.ConicConstr,1}\u001b[1m)\u001b[22m\u001b[22m at \u001b[1m/Users/umaroy/.julia/v0.6/Convex/src/solution.jl:118\u001b[22m\u001b[22m\n",
      " [4] \u001b[1m#solve!#25\u001b[22m\u001b[22m\u001b[1m(\u001b[22m\u001b[22m::Bool, ::Bool, ::Bool, ::Function, ::Convex.Problem\u001b[1m)\u001b[22m\u001b[22m at \u001b[1m/Users/umaroy/.julia/v0.6/Convex/src/solution.jl:38\u001b[22m\u001b[22m\n",
      " [5] \u001b[1m#solve!#24\u001b[22m\u001b[22m\u001b[1m(\u001b[22m\u001b[22m::Array{Any,1}, ::Function, ::Convex.Problem, ::SCS.SCSSolver\u001b[1m)\u001b[22m\u001b[22m at \u001b[1m/Users/umaroy/.julia/v0.6/Convex/src/solution.jl:13\u001b[22m\u001b[22m\n",
      " [6] \u001b[1mMTP2CovEstimator\u001b[22m\u001b[22m\u001b[1m(\u001b[22m\u001b[22m::Array{Float64,2}\u001b[1m)\u001b[22m\u001b[22m at \u001b[1m./In[46]:8\u001b[22m\u001b[22m\n",
      " [7] \u001b[1minclude_string\u001b[22m\u001b[22m\u001b[1m(\u001b[22m\u001b[22m::String, ::String\u001b[1m)\u001b[22m\u001b[22m at \u001b[1m./loading.jl:522\u001b[22m\u001b[22m\n",
      " [8] \u001b[1mexecute_request\u001b[22m\u001b[22m\u001b[1m(\u001b[22m\u001b[22m::ZMQ.Socket, ::IJulia.Msg\u001b[1m)\u001b[22m\u001b[22m at \u001b[1m/Users/umaroy/.julia/v0.6/IJulia/src/execute_request.jl:193\u001b[22m\u001b[22m\n",
      " [9] \u001b[1m(::Compat.#inner#6{Array{Any,1},IJulia.#execute_request,Tuple{ZMQ.Socket,IJulia.Msg}})\u001b[22m\u001b[22m\u001b[1m(\u001b[22m\u001b[22m\u001b[1m)\u001b[22m\u001b[22m at \u001b[1m/Users/umaroy/.julia/v0.6/Compat/src/Compat.jl:189\u001b[22m\u001b[22m\n",
      " [10] \u001b[1meventloop\u001b[22m\u001b[22m\u001b[1m(\u001b[22m\u001b[22m::ZMQ.Socket\u001b[1m)\u001b[22m\u001b[22m at \u001b[1m/Users/umaroy/.julia/v0.6/IJulia/src/eventloop.jl:8\u001b[22m\u001b[22m\n",
      " [11] \u001b[1m(::IJulia.##13#16)\u001b[22m\u001b[22m\u001b[1m(\u001b[22m\u001b[22m\u001b[1m)\u001b[22m\u001b[22m at \u001b[1m./task.jl:335\u001b[22m\u001b[22m\n",
      "while loading In[56], in expression starting on line 2\n"
     ]
    },
    {
     "name": "stdout",
     "output_type": "stream",
     "text": [
      "elapsed time: 187.808829066 seconds\n",
      "----------------------------------------------------------------------------\n",
      "\tSCS v2.0.2 - Splitting Conic Solver\n",
      "\t(c) Brendan O'Donoghue, Stanford University, 2012-2017\n",
      "----------------------------------------------------------------------------\n",
      "Lin-sys: sparse-indirect, nnz in A = 100101, CG tol ~ 1/iter^(2.00)\n",
      "eps = 1.00e-05, alpha = 1.50, max_iters = 500, normalize = 1, scale = 1.00\n",
      "acceleration_lookback = 20, rho_x = 1.00e-03\n",
      "Variables n = 30101, constraints m = 80201\n",
      "Cones:\tprimal zero / dual free vars: 44751\n",
      "\tlinear vars: 4950\n",
      "\tsd vars: 30200, sd blks: 3\n",
      "\texp vars: 300, dual exp vars: 0\n",
      "Setup time: 1.11e-02s\n",
      "----------------------------------------------------------------------------\n",
      " Iter | pri res | dua res | rel gap | pri obj | dua obj | kap/tau | time (s)\n",
      "----------------------------------------------------------------------------\n",
      "     0| 7.63e+21  3.08e+20  1.00e+00 -1.21e+23  2.18e+21  9.05e+22  1.23e-01 \n",
      "   100| 2.19e+00  1.12e+00  3.45e-01  9.12e+02  4.44e+02  4.67e+02  2.55e+00 \n",
      "   200| 3.48e+00  1.52e+00  8.52e-04  5.74e+02  5.75e+02  8.96e-01  4.80e+00 \n",
      "   300| 2.58e+00  3.73e-01  4.46e-04 -5.99e+02 -5.99e+02  2.25e-02  7.16e+00 \n",
      "   400| 2.91e-01  9.25e-02  9.12e-05 -6.88e+02 -6.88e+02  3.51e-14  9.64e+00 \n",
      "   500| 2.56e-02  2.37e-02  2.59e-05 -5.82e+02 -5.82e+02  6.57e-15  1.22e+01 \n",
      "----------------------------------------------------------------------------\n",
      "Status: Solved/Inaccurate\n",
      "Hit max_iters, solution may be inaccurate\n",
      "Timing: Solve time: 1.22e+01s\n",
      "\tLin-sys: avg # CG iterations: 6.81, avg solve time: 5.49e-03s\n",
      "\tCones: avg projection time: 5.98e-03s\n",
      "\tAcceleration: avg step time: 1.01e-02s\n",
      "----------------------------------------------------------------------------\n",
      "Error metrics:\n",
      "dist(s, K) = 1.2181e-03, dist(y, K*) = 2.3025e-03, s'y/|s||y| = 2.6954e-06\n",
      "primal res: |Ax + s - b|_2 / (1 + |b|_2) = 2.5595e-02\n",
      "dual res:   |A'y + c|_2 / (1 + |c|_2) = 2.3686e-02\n",
      "rel gap:    |c'x + b'y| / (1 + |c'x| + |b'y|) = 2.5936e-05\n",
      "----------------------------------------------------------------------------\n",
      "c'x = -581.5237, -b'y = -581.5539\n",
      "============================================================================\n"
     ]
    },
    {
     "name": "stderr",
     "output_type": "stream",
     "text": [
      "\u001b[1m\u001b[33mWARNING: \u001b[39m\u001b[22m\u001b[33mProblem status UnknownError; solution may be inaccurate.\u001b[39m\n"
     ]
    },
    {
     "data": {
      "text/plain": [
       "187.808829066"
      ]
     },
     "execution_count": 56,
     "metadata": {},
     "output_type": "execute_result"
    }
   ],
   "source": [
    "tic()\n",
    "res500 = MTP2CovEstimator(y)\n",
    "toc()"
   ]
  },
  {
   "cell_type": "code",
   "execution_count": 57,
   "metadata": {},
   "outputs": [
    {
     "data": {
      "text/plain": [
       "100×100 Array{Float64,2}:\n",
       " 0.00032575  6.25503e-7   4.03231e-7   …  2.68835e-7   5.03991e-7 \n",
       " 6.25503e-7  0.000327833  6.91747e-7      4.2521e-7    7.6617e-7  \n",
       " 4.03231e-7  6.91746e-7   0.000325429     2.58151e-7   4.57075e-7 \n",
       " 1.02768e-6  1.91088e-6   1.09075e-6      6.50236e-7   1.23333e-6 \n",
       " 5.76798e-7  9.98063e-7   6.25451e-7      4.16351e-7   7.20087e-7 \n",
       " 3.08889e-7  5.72235e-7   3.58579e-7   …  1.86564e-7   3.98041e-7 \n",
       " 8.09703e-7  1.49329e-6   7.25987e-7      5.15672e-7   8.54543e-7 \n",
       " 4.15684e-7  7.67675e-7   4.68737e-7      2.71901e-7   4.95502e-7 \n",
       " 4.63103e-7  6.3643e-7    4.7275e-7       2.87046e-7   5.46091e-7 \n",
       " 3.1417e-7   4.83657e-7   3.14564e-7      2.23451e-7   3.38666e-7 \n",
       " 3.48577e-7  5.45421e-7   5.15897e-7   …  2.28762e-7   3.79841e-7 \n",
       " 4.10609e-7  6.92049e-7   4.29807e-7      3.07072e-7   5.31209e-7 \n",
       " 5.92284e-7  9.01363e-7   5.18904e-7      4.18245e-7   6.54858e-7 \n",
       " ⋮                                     ⋱                          \n",
       " 4.93017e-7  6.57747e-7   4.01781e-7      3.14716e-7   5.55386e-7 \n",
       " 3.46492e-7  5.78322e-7   4.14004e-7      2.1446e-7    3.60693e-7 \n",
       " 7.12465e-7  1.13189e-6   6.99412e-7   …  4.88935e-7   7.8554e-7  \n",
       " 3.91107e-7  5.11028e-7   3.60754e-7      2.19754e-7   4.19991e-7 \n",
       " 1.80474e-7  2.43579e-7   1.93962e-7      1.2391e-7    2.07401e-7 \n",
       " 3.30545e-7  4.4866e-7    3.30999e-7      1.93711e-7   3.94405e-7 \n",
       " 1.36246e-7  2.36858e-7   1.79754e-7      1.04888e-7   2.11062e-7 \n",
       " 4.14774e-7  6.2616e-7    4.12055e-7   …  2.67081e-7   4.93417e-7 \n",
       " 5.15942e-7  7.41903e-7   4.7614e-7       3.1685e-7    6.11866e-7 \n",
       " 4.4492e-7   7.6219e-7    5.11755e-7      2.95712e-7   4.82803e-7 \n",
       " 2.68835e-7  4.2521e-7    2.58151e-7      0.000324843  3.50406e-7 \n",
       " 5.03991e-7  7.6617e-7    4.57075e-7      3.50406e-7   0.000326678"
      ]
     },
     "execution_count": 57,
     "metadata": {},
     "output_type": "execute_result"
    }
   ],
   "source": [
    "inv(res500)"
   ]
  },
  {
   "cell_type": "code",
   "execution_count": 43,
   "metadata": {},
   "outputs": [
    {
     "data": {
      "text/plain": [
       "10×10 Array{Float64,2}:\n",
       " 0.000384615  1.36343e-6  9.03309e-7   …  1.07314e-6  7.19174e-7 \n",
       " 1.36343e-6   0.00038869  1.56385e-6      1.36627e-6  1.07247e-6 \n",
       " 9.03309e-7   1.56385e-6  0.000383888     1.10122e-6  7.18031e-7 \n",
       " 2.28086e-6   4.43172e-6  2.47132e-6      2.35906e-6  1.71825e-6 \n",
       " 1.25289e-6   2.18939e-6  1.39775e-6      1.5799e-6   1.12544e-6 \n",
       " 6.81014e-7   1.30819e-6  8.30875e-7   …  7.43198e-7  6.198e-7   \n",
       " 1.74655e-6   3.38784e-6  1.46894e-6      1.83318e-6  1.59761e-6 \n",
       " 9.34055e-7   1.78777e-6  1.09505e-6      9.75877e-7  6.96789e-7 \n",
       " 1.07314e-6   1.36627e-6  1.10122e-6      0.00038837  6.74717e-7 \n",
       " 7.19174e-7   1.07247e-6  7.18031e-7      6.74717e-7  0.000382784"
      ]
     },
     "execution_count": 43,
     "metadata": {},
     "output_type": "execute_result"
    }
   ],
   "source": [
    "inv(res1000)"
   ]
  },
  {
   "cell_type": "code",
   "execution_count": 44,
   "metadata": {},
   "outputs": [
    {
     "data": {
      "text/plain": [
       "10×10 Array{Float64,2}:\n",
       " 0.000386996  1.518e-6     1.02183e-6   …  1.18824e-6   6.76686e-7 \n",
       " 1.518e-6     0.000391004  1.58597e-6      1.60976e-6   1.12858e-6 \n",
       " 1.02183e-6   1.58597e-6   0.000386481     1.14398e-6   6.36209e-7 \n",
       " 2.1131e-6    3.85551e-6   2.33344e-6      2.05062e-6   1.5248e-6  \n",
       " 1.26697e-6   2.26472e-6   1.63734e-6      1.67823e-6   1.10029e-6 \n",
       " 6.4818e-7    1.38262e-6   9.27686e-7   …  6.5088e-7    6.29755e-7 \n",
       " 1.72936e-6   3.18578e-6   1.46218e-6      1.76724e-6   1.42283e-6 \n",
       " 8.51683e-7   1.66947e-6   1.00389e-6      1.07803e-6   8.49575e-7 \n",
       " 1.18824e-6   1.60976e-6   1.14398e-6      0.000389972  7.22429e-7 \n",
       " 6.76686e-7   1.12858e-6   6.36209e-7      7.22429e-7   0.000384964"
      ]
     },
     "execution_count": 44,
     "metadata": {},
     "output_type": "execute_result"
    }
   ],
   "source": [
    "inv(res10000)"
   ]
  },
  {
   "cell_type": "code",
   "execution_count": null,
   "metadata": {},
   "outputs": [],
   "source": []
  }
 ],
 "metadata": {
  "kernelspec": {
   "display_name": "Julia 0.6.4",
   "language": "julia",
   "name": "julia-0.6"
  },
  "language_info": {
   "file_extension": ".jl",
   "mimetype": "application/julia",
   "name": "julia",
   "version": "0.6.4"
  }
 },
 "nbformat": 4,
 "nbformat_minor": 2
}
