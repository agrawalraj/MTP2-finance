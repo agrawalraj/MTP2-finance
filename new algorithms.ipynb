{
 "cells": [
  {
   "cell_type": "code",
   "execution_count": 27,
   "metadata": {},
   "outputs": [
    {
     "name": "stdout",
     "output_type": "stream",
     "text": [
      "The autoreload extension is already loaded. To reload it, use:\n",
      "  %reload_ext autoreload\n"
     ]
    }
   ],
   "source": [
    "%load_ext autoreload\n",
    "%autoreload 2\n",
    "import numpy as np\n",
    "import pandas as pd\n",
    "import scipy.linalg\n",
    "import matplotlib.pyplot as plt\n",
    "import linear_shrinkage\n",
    "import Util\n",
    "from Util import evaluate_curret, get_invest_period\n",
    "from os.path import join\n",
    "from generating_MTP import generate_mat as generate_MTP2\n",
    "import os\n",
    "import time\n",
    "import sklearn.covariance\n",
    "import pickle\n",
    "from collections import namedtuple, defaultdict\n",
    "from subprocess import Popen\n",
    "from multiprocessing import Pool"
   ]
  },
  {
   "cell_type": "code",
   "execution_count": 28,
   "metadata": {},
   "outputs": [],
   "source": [
    "util_loaded_data = Util.load_data()\n",
    "ret, ret_nonan, univ, tradeidx, dates = util_loaded_data"
   ]
  },
  {
   "cell_type": "markdown",
   "metadata": {},
   "source": [
    "## For saving to pastRets (pastRet and KTcov) and outRets"
   ]
  },
  {
   "cell_type": "code",
   "execution_count": 35,
   "metadata": {},
   "outputs": [],
   "source": [
    "assert os.path.exists('./pastRets')\n",
    "assert os.path.exists('./outRets')"
   ]
  },
  {
   "cell_type": "code",
   "execution_count": 29,
   "metadata": {},
   "outputs": [],
   "source": [
    "def save_past_information(T, N, util_loaded_data, save_KT = True):\n",
    "    ret, ret_nonan, univ, tradeidx, dates = util_loaded_data\n",
    "    pastRets = []\n",
    "    KT_covs = []\n",
    "    \n",
    "    KT_time = 0\n",
    "    for h in range(len(univ)):\n",
    "        print(h, end = ' ')\n",
    "        \n",
    "        pastRet = Util.get_past_period(h, T, N, univ, tradeidx, ret)\n",
    "        pastRetFileName = \"pastRets/{}_{}_{}_pastRet.pkl\".format(T, N, h)\n",
    "        with open(pastRetFileName, 'wb') as f:\n",
    "            pickle.dump(pastRet, f)\n",
    "        pastRets.append(pastRet)\n",
    "        \n",
    "        if save_KT:\n",
    "            #start = time.time()\n",
    "            KT_cov = Util.kendall_cov(pastRet)\n",
    "            KT_cov_file_name =  \"pastRets/{}_{}_{}_KTcov.pkl\".format(T, N, h)\n",
    "            with open(KT_cov_file_name, 'wb') as f:\n",
    "                pickle.dump(KT_cov, f)\n",
    "            KT_covs.append(KT_cov)\n",
    "            end = time.time()\n",
    "            #print(end-start)\n",
    "    \n",
    "    with open(\"pastRets/{}_{}_pastRets.pkl\".format(T,N), 'wb') as f:\n",
    "        pickle.dump(pastRets, f)\n",
    "\n",
    "    if save_KT:\n",
    "        with open(\"pastRets/{}_{}_KTcovs.pkl\".format(T,N), 'wb') as f:\n",
    "            pickle.dump(KT_covs, f)"
   ]
  },
  {
   "cell_type": "code",
   "execution_count": null,
   "metadata": {},
   "outputs": [],
   "source": [
    "#for old purposes\n",
    "for T in [25, 50, 100, 200, 500, 1260]:\n",
    "    for N in [25, 50, 100, 200, 500, 1000]:\n",
    "        save_past_information(T, N, util_loaded_data, save_KT = False)"
   ]
  },
  {
   "cell_type": "code",
   "execution_count": 32,
   "metadata": {
    "scrolled": true
   },
   "outputs": [
    {
     "name": "stdout",
     "output_type": "stream",
     "text": [
      "0 1 2 3 4 5 6 7 8 9 10 11 12 13 14 15 16 17 18 19 20 21 22 23 24 25 26 27 28 29 30 31 32 33 34 35 36 37 38 39 40 41 42 43 44 45 46 47 48 49 50 51 52 53 54 55 56 57 58 59 60 61 62 63 64 65 66 67 68 69 70 71 72 73 74 75 76 77 78 79 80 81 82 83 84 85 86 87 88 89 90 91 92 93 94 95 96 97 98 99 100 101 102 103 104 105 106 107 108 109 110 111 112 113 114 115 116 117 118 119 120 121 122 123 124 125 126 127 128 129 130 131 132 133 134 135 136 137 138 139 140 141 142 143 144 145 146 147 148 149 150 151 152 153 154 155 156 157 158 159 160 161 162 163 164 165 166 167 168 169 170 171 172 173 174 175 176 177 178 179 180 181 182 183 184 185 186 187 188 189 190 191 192 193 194 195 196 197 198 199 200 201 202 203 204 205 206 207 208 209 210 211 212 213 214 215 216 217 218 219 220 221 222 223 224 225 226 227 228 229 230 231 232 233 234 235 236 237 238 239 240 241 242 243 244 245 246 247 248 249 250 251 252 253 254 255 256 257 258 259 260 261 262 263 264 265 266 267 268 269 270 271 272 273 274 275 276 277 278 279 280 281 282 283 284 285 286 287 288 289 290 291 292 293 294 295 296 297 298 299 300 301 302 303 304 305 306 307 308 309 310 311 312 313 314 315 316 317 318 319 320 321 322 323 324 325 326 327 328 329 330 331 332 333 334 335 336 337 338 339 340 341 342 343 344 345 346 347 348 349 350 351 352 353 354 355 356 357 358 359 "
     ]
    }
   ],
   "source": [
    "#for one-off\n",
    "save_past_information(800,200, util_loaded_data, save_KT=False)"
   ]
  },
  {
   "cell_type": "code",
   "execution_count": null,
   "metadata": {},
   "outputs": [],
   "source": [
    "#for saving KT covs in parallel\n",
    "def save_KT_cov(h):\n",
    "    KT_cov_file_name =  \"pastRets/{}_{}_{}_KTcov.pkl\".format(T, N, h)\n",
    "    print(h)\n",
    "    if h == 0:\n",
    "        print(\"N={}, T={}\".format(N,T))\n",
    "    start = time.time()\n",
    "    ret, ret_nonan, univ, tradeidx, dates = util_loaded_data\n",
    "    pastRet = Util.get_past_period(h, T, N, univ, tradeidx, ret)\n",
    "    KT_cov = Util.kendall_cov(pastRet)\n",
    "    KT_cov_file_name =  \"pastRets/{}_{}_{}_KTcov.pkl\".format(T, N, h)\n",
    "    with open(KT_cov_file_name, 'wb') as f:\n",
    "        pickle.dump(KT_cov, f)\n",
    "    end = time.time()\n",
    "    print(end-start)\n",
    "\n",
    "def consolidate_KT_cov(N,T):\n",
    "    KT_covs = []\n",
    "    for h in range(360):\n",
    "        fname = \"pastRets/{}_{}_{}_KTcov.pkl\".format(T, N, h)\n",
    "        with open(fname, 'rb') as f:\n",
    "            cov = pickle.load(f)\n",
    "            KT_covs.append(cov)\n",
    "    with open(\"pastRets/{}_{}_KTcovs.pkl\".format(T,N), 'wb') as f:\n",
    "            pickle.dump(KT_covs, f)\n",
    "\n",
    "for N, T in [(200,400)]:\n",
    "    pool = Pool(8)\n",
    "    pool.map(save_KT_cov,range(360))\n",
    "    consolidate_KT_cov(N,T)"
   ]
  },
  {
   "cell_type": "code",
   "execution_count": null,
   "metadata": {},
   "outputs": [],
   "source": [
    "def save_outrets(N, util_loaded_data, P=1):\n",
    "    ret, ret_nonan, univ, tradeidx, dates = util_loaded_data\n",
    "    all_outrets = []\n",
    "    for h in range(360):\n",
    "        outret = get_invest_period(h, P, N, univ, tradeidx, ret)\n",
    "        all_outrets.append(outret)\n",
    "    with open('outRets/{}_outRets.pkl'.format(N), 'wb') as f:\n",
    "        pickle.dump(all_outrets, f)\n",
    "\n",
    "for N in [25, 50, 100, 200, 500, 1000]:\n",
    "    save_outrets(N, util_loaded_data)"
   ]
  },
  {
   "cell_type": "markdown",
   "metadata": {},
   "source": [
    "## After this point is the algorithms and experiments, above was just generating data"
   ]
  },
  {
   "cell_type": "code",
   "execution_count": 4,
   "metadata": {},
   "outputs": [],
   "source": [
    "from estimators import (MTP2_wrapper, MTP2_cov_wrapper,\n",
    "                        LRPS_wrapper,\n",
    "                        CLIME_wrapper, CLIME_cov_wrapper,\n",
    "                        old_LS_wrapper, LS_wrapper, NLS_wrapper,\n",
    "                        POET_wrapper, POET_5_wrapper,\n",
    "                        glasso_wrapper,\n",
    "                        get_AFM_estimator)"
   ]
  },
  {
   "cell_type": "code",
   "execution_count": 14,
   "metadata": {},
   "outputs": [],
   "source": [
    "all_methods = { #all time estimates for N = 100\n",
    "    'glasso': glasso_wrapper, #2 seconds\n",
    "    'MTP2': MTP2_wrapper, #25 seconds\n",
    "    #'MTP2_cov': MTP2_cov_wrapper,\n",
    "    'CLIME': CLIME_wrapper,\n",
    "    #'CLIME_cov': CLIME_cov_wrapper\n",
    "    #'LS': LS_wrapper, #0.5 seconds\n",
    "    #'old_LS_cov': old_LS_cov_wrapper,\n",
    "    'old_LS': old_LS_wrapper,\n",
    "    'NLS':  NLS_wrapper, #5 seconds\n",
    "    'LRPS': LRPS_wrapper, #7 seconds\n",
    "    'AFM_NL': get_AFM_estimator(5, 'NLS', tradeidx), #4 seconds\n",
    "    'AFM_LS': get_AFM_estimator(5, 'LS', tradeidx), #0.5 seconds\n",
    "    'POET': POET_wrapper,\n",
    "    'POET_5': POET_5_wrapper,\n",
    "    #'AFM_POET': None,\n",
    "    #'equiweight': None,\n",
    "    #'POET': POET_wrapper\n",
    "}"
   ]
  },
  {
   "cell_type": "markdown",
   "metadata": {},
   "source": [
    "### Time estimate"
   ]
  },
  {
   "cell_type": "code",
   "execution_count": 15,
   "metadata": {
    "scrolled": true
   },
   "outputs": [
    {
     "name": "stdout",
     "output_type": "stream",
     "text": [
      "glasso "
     ]
    },
    {
     "name": "stderr",
     "output_type": "stream",
     "text": [
      "/usr/local/lib/python3.6/site-packages/sklearn/model_selection/_split.py:2053: FutureWarning: You should specify a value for 'cv' instead of relying on the default value. The default value will change from 3 to 5 in version 0.22.\n",
      "  warnings.warn(CV_WARNING, FutureWarning)\n"
     ]
    },
    {
     "name": "stdout",
     "output_type": "stream",
     "text": [
      "2.037687063217163\n",
      "MTP2 fd78b188-d8d9-4d9b-a387-866878a11eec\n",
      "16.953660011291504\n",
      "CLIME b'[1] \"Loaded X\"\\n'\n",
      "b'[1] 0.03984095\\n'\n",
      "b''\n",
      "6.4462409019470215\n",
      "old_LS 0.10021209716796875\n",
      "NLS b'[1] \"Loaded X\"\\n'\n",
      "b'Estimating population eigenvalues...[1] \"Finished with NLS\"\\n'\n",
      "b''\n",
      "3.3802690505981445\n",
      "LRPS b'[1] \"### Computing the path on the full dataset first ###\"\\n'\n",
      "b'[1] \"Fitting with gamma= 0.15  and lambda= 1.13453970662616 Sparsity: 0.00484848484848485 Rank of L: 3\"\\n'\n",
      "b'[1] \"Fitting with gamma= 0.15  and lambda= 0.568616817004261 Sparsity: 0.0121212121212121 Rank of L: 6\"\\n'\n",
      "b'[1] \"Fitting with gamma= 0.15  and lambda= 0.284983489508311 Sparsity: 0.042020202020202 Rank of L: 15\"\\n'\n",
      "b'[1] \"Fitting with gamma= 0.15  and lambda= 0.142830086736117 Sparsity: 0.145252525252525 Rank of L: 29\"\\n'\n",
      "b'[1] \"Fitting with gamma= 0.15  and lambda= 0.0715846160500178 Sparsity: 0.307878787878788 Rank of L: 36\"\\n'\n",
      "b'[1] \"Fitting with gamma= 0.15  and lambda= 0.0358772956883789 Sparsity: 0.430909090909091 Rank of L: 41\"\\n'\n",
      "b'[1] \"### Now performing  3  fold cross validation. ###\"\\n'\n",
      "b'[1] \"Lambda: 1.13453970662616 X-Val Log-lik: 65.4437538071182 #Edges: 24\"\\n'\n",
      "b'[1] \"Lambda: 0.568616817004261 X-Val Log-lik: 61.9126509971229 #Edges: 60\"\\n'\n",
      "b'[1] \"Lambda: 0.284983489508311 X-Val Log-lik: 60.7307300104398 #Edges: 208\"\\n'\n",
      "b'[1] \"Lambda: 0.142830086736117 X-Val Log-lik: 61.3478609478803 #Edges: 719\"\\n'\n",
      "b'[1] \"Lambda: 0.0715846160500178 X-Val Log-lik: 62.9915159837202 #Edges: 1524\"\\n'\n",
      "b'[1] \"Lambda: 0.0358772956883789 X-Val Log-lik: 64.8347305050075 #Edges: 2133\"\\n'\n",
      "b'[1] \"Lambda: 0.0179812425760863 X-Val Log-lik: 66.3600461124573 #Edges: 2576\"\\n'\n",
      "b'[1] \"Saved result\"\\n'\n",
      "b''\n",
      "14.036257982254028\n",
      "AFM_NL b'[1] \"Loaded X\"\\n'\n",
      "b'Estimating population eigenvalues...[1] \"Finished with NLS\"\\n'\n",
      "b''\n",
      "1.3425300121307373\n",
      "AFM_LS 0.15319514274597168\n",
      "POET b'[1] \"Loaded X\"\\n'\n",
      "b'[1] \"Done with POET\"\\n'\n",
      "b''\n",
      "18.358459949493408\n",
      "POET_5 b'[1] \"Loaded X\"\\n'\n",
      "b'[1] \"Done with POET\"\\n'\n",
      "b''\n",
      "18.198095321655273\n"
     ]
    }
   ],
   "source": [
    "T = 1260\n",
    "N = 100\n",
    "with open('pastRets/{}_{}_pastRets.pkl'.format(T,N), 'rb') as f:\n",
    "    pastRets = pickle.load(f)\n",
    "timing_dict = {}\n",
    "for method_name, m_func in all_methods.items():\n",
    "    assert cov not in method_name, 'Timing is not supported for methods with cov'\n",
    "    h = 0\n",
    "    print(method_name, end = ' ')\n",
    "    args = []\n",
    "    start = time.time()\n",
    "    if 'AFM' in method_name:\n",
    "        args = [h]\n",
    "    cov = m_func(pastRets[h], *args)\n",
    "    end = time.time()\n",
    "    print(end-start)\n",
    "    timing_dict[method_name] = end-start"
   ]
  },
  {
   "cell_type": "code",
   "execution_count": 18,
   "metadata": {},
   "outputs": [
    {
     "name": "stdout",
     "output_type": "stream",
     "text": [
      "dict_items([('glasso', 2.037687063217163), ('MTP2', 16.953660011291504), ('CLIME', 6.4462409019470215), ('old_LS', 0.10021209716796875), ('NLS', 3.3802690505981445), ('LRPS', 14.036257982254028), ('AFM_NL', 1.3425300121307373), ('AFM_LS', 0.15319514274597168), ('POET', 18.358459949493408), ('POET_5', 18.198095321655273)])\n",
      "Total hours:  81.00660753250122\n"
     ]
    }
   ],
   "source": [
    "print(timing_dict.items())\n",
    "print(\"Total hours: \", sum(timing_dict.values()))"
   ]
  },
  {
   "cell_type": "markdown",
   "metadata": {},
   "source": [
    "### Run versions"
   ]
  },
  {
   "cell_type": "code",
   "execution_count": 37,
   "metadata": {},
   "outputs": [],
   "source": [
    "assert os.path.exists(\"./pickle\")\n",
    "assert os.path.exists('./run_info')"
   ]
  },
  {
   "cell_type": "code",
   "execution_count": 34,
   "metadata": {
    "scrolled": true
   },
   "outputs": [
    {
     "name": "stdout",
     "output_type": "stream",
     "text": [
      "Running with run_name=first_server_run and KT_or_not=False\n",
      "All methods are: dict_keys(['glasso', 'MTP2', 'CLIME', 'old_LS', 'NLS', 'LRPS', 'AFM_NL', 'AFM_LS', 'POET', 'POET_5'])\n",
      "N, T list is: [(100, 50), (100, 100), (100, 200), (100, 400), (100, 1260), (200, 100), (200, 200), (200, 400), (200, 800), (200, 1260), (500, 250), (500, 500), (500, 1000), (500, 1260)]\n",
      "Save information?Y\n",
      "Loaded all relevant information\n",
      "WORKING ON h=24\n",
      "WORKING ON h=36\n",
      "WORKING ON h=48\n",
      "WORKING ON h=60\n",
      "WORKING ON h=0\n",
      "WORKING ON h=12\n",
      "WORKING ON h=72\n",
      "Starting on glasso\n",
      "Starting on glasso\n",
      "Starting on glasso\n",
      "Starting on glasso\n",
      "WORKING ON h=84\n",
      "Starting on glasso\n",
      "Starting on glasso\n",
      "Starting on glasso\n",
      "Starting on glasso\n",
      "WORKING ON h=96\n",
      "Starting on glasso\n",
      "WORKING ON h=108\n",
      "Starting on glasso\n",
      "WORKING ON h=120\n",
      "Starting on glasso\n",
      "WORKING ON h=132\n",
      "WORKING ON h=144\n",
      "Starting on glasso\n",
      "Starting on glasso\n",
      "WORKING ON h=156\n",
      "WORKING ON h=168\n",
      "Starting on glasso\n",
      "Starting on glasso\n",
      "WORKING ON h=180\n",
      "Starting on glasso\n",
      "WORKING ON h=192\n",
      "Starting on glasso\n",
      "WORKING ON h=204\n",
      "Starting on glasso\n",
      "WORKING ON h=216\n",
      "Starting on glasso\n",
      "WORKING ON h=228\n",
      "Starting on glasso\n",
      "WORKING ON h=240\n",
      "WORKING ON h=252\n",
      "Starting on glasso\n",
      "Starting on glasso\n",
      "WORKING ON h=264\n",
      "Starting on glasso\n",
      "WORKING ON h=276\n",
      "Starting on glasso\n",
      "WORKING ON h=288\n",
      "Starting on glasso\n",
      "WORKING ON h=300\n",
      "Starting on glasso\n",
      "WORKING ON h=312\n",
      "Starting on glasso\n",
      "WORKING ON h=324\n",
      "Starting on glasso\n",
      "WORKING ON h=336\n",
      "WORKING ON h=348\n",
      "Starting on glasso\n",
      "Starting on glasso\n"
     ]
    },
    {
     "name": "stderr",
     "output_type": "stream",
     "text": [
      "Process ForkPoolWorker-93:\n",
      "Process ForkPoolWorker-94:\n",
      "Process ForkPoolWorker-95:\n",
      "Process ForkPoolWorker-99:\n",
      "Process ForkPoolWorker-100:\n",
      "Process ForkPoolWorker-97:\n",
      "Process ForkPoolWorker-96:\n",
      "Process ForkPoolWorker-98:\n",
      "Traceback (most recent call last):\n",
      "Traceback (most recent call last):\n",
      "Traceback (most recent call last):\n",
      "Traceback (most recent call last):\n",
      "Traceback (most recent call last):\n",
      "Traceback (most recent call last):\n",
      "Traceback (most recent call last):\n",
      "Traceback (most recent call last):\n",
      "  File \"/usr/local/Cellar/python/3.6.5/Frameworks/Python.framework/Versions/3.6/lib/python3.6/multiprocessing/process.py\", line 258, in _bootstrap\n",
      "    self.run()\n",
      "  File \"/usr/local/Cellar/python/3.6.5/Frameworks/Python.framework/Versions/3.6/lib/python3.6/multiprocessing/process.py\", line 258, in _bootstrap\n",
      "    self.run()\n",
      "  File \"/usr/local/Cellar/python/3.6.5/Frameworks/Python.framework/Versions/3.6/lib/python3.6/multiprocessing/process.py\", line 258, in _bootstrap\n",
      "    self.run()\n",
      "  File \"/usr/local/Cellar/python/3.6.5/Frameworks/Python.framework/Versions/3.6/lib/python3.6/multiprocessing/process.py\", line 258, in _bootstrap\n",
      "    self.run()\n"
     ]
    },
    {
     "ename": "KeyboardInterrupt",
     "evalue": "",
     "output_type": "error",
     "traceback": [
      "\u001b[0;31m---------------------------------------------------------------------------\u001b[0m",
      "\u001b[0;31mKeyboardInterrupt\u001b[0m                         Traceback (most recent call last)",
      "\u001b[0;32m<ipython-input-34-b35018b3d54b>\u001b[0m in \u001b[0;36m<module>\u001b[0;34m()\u001b[0m\n\u001b[1;32m     67\u001b[0m \u001b[0;34m\u001b[0m\u001b[0m\n\u001b[1;32m     68\u001b[0m     \u001b[0mpool\u001b[0m \u001b[0;34m=\u001b[0m \u001b[0mPool\u001b[0m\u001b[0;34m(\u001b[0m\u001b[0;36m8\u001b[0m\u001b[0;34m)\u001b[0m\u001b[0;34m\u001b[0m\u001b[0m\n\u001b[0;32m---> 69\u001b[0;31m     \u001b[0mpool\u001b[0m\u001b[0;34m.\u001b[0m\u001b[0mmap\u001b[0m\u001b[0;34m(\u001b[0m\u001b[0mget_covs_all_methods\u001b[0m\u001b[0;34m,\u001b[0m \u001b[0mrange\u001b[0m\u001b[0;34m(\u001b[0m\u001b[0;36m360\u001b[0m\u001b[0;34m)\u001b[0m\u001b[0;34m)\u001b[0m\u001b[0;34m\u001b[0m\u001b[0m\n\u001b[0m",
      "\u001b[0;32m/usr/local/Cellar/python/3.6.5/Frameworks/Python.framework/Versions/3.6/lib/python3.6/multiprocessing/pool.py\u001b[0m in \u001b[0;36mmap\u001b[0;34m(self, func, iterable, chunksize)\u001b[0m\n\u001b[1;32m    264\u001b[0m         \u001b[0;32min\u001b[0m \u001b[0ma\u001b[0m \u001b[0mlist\u001b[0m \u001b[0mthat\u001b[0m \u001b[0;32mis\u001b[0m \u001b[0mreturned\u001b[0m\u001b[0;34m.\u001b[0m\u001b[0;34m\u001b[0m\u001b[0m\n\u001b[1;32m    265\u001b[0m         '''\n\u001b[0;32m--> 266\u001b[0;31m         \u001b[0;32mreturn\u001b[0m \u001b[0mself\u001b[0m\u001b[0;34m.\u001b[0m\u001b[0m_map_async\u001b[0m\u001b[0;34m(\u001b[0m\u001b[0mfunc\u001b[0m\u001b[0;34m,\u001b[0m \u001b[0miterable\u001b[0m\u001b[0;34m,\u001b[0m \u001b[0mmapstar\u001b[0m\u001b[0;34m,\u001b[0m \u001b[0mchunksize\u001b[0m\u001b[0;34m)\u001b[0m\u001b[0;34m.\u001b[0m\u001b[0mget\u001b[0m\u001b[0;34m(\u001b[0m\u001b[0;34m)\u001b[0m\u001b[0;34m\u001b[0m\u001b[0m\n\u001b[0m\u001b[1;32m    267\u001b[0m \u001b[0;34m\u001b[0m\u001b[0m\n\u001b[1;32m    268\u001b[0m     \u001b[0;32mdef\u001b[0m \u001b[0mstarmap\u001b[0m\u001b[0;34m(\u001b[0m\u001b[0mself\u001b[0m\u001b[0;34m,\u001b[0m \u001b[0mfunc\u001b[0m\u001b[0;34m,\u001b[0m \u001b[0miterable\u001b[0m\u001b[0;34m,\u001b[0m \u001b[0mchunksize\u001b[0m\u001b[0;34m=\u001b[0m\u001b[0;32mNone\u001b[0m\u001b[0;34m)\u001b[0m\u001b[0;34m:\u001b[0m\u001b[0;34m\u001b[0m\u001b[0m\n",
      "\u001b[0;32m/usr/local/Cellar/python/3.6.5/Frameworks/Python.framework/Versions/3.6/lib/python3.6/multiprocessing/pool.py\u001b[0m in \u001b[0;36mget\u001b[0;34m(self, timeout)\u001b[0m\n\u001b[1;32m    636\u001b[0m \u001b[0;34m\u001b[0m\u001b[0m\n\u001b[1;32m    637\u001b[0m     \u001b[0;32mdef\u001b[0m \u001b[0mget\u001b[0m\u001b[0;34m(\u001b[0m\u001b[0mself\u001b[0m\u001b[0;34m,\u001b[0m \u001b[0mtimeout\u001b[0m\u001b[0;34m=\u001b[0m\u001b[0;32mNone\u001b[0m\u001b[0;34m)\u001b[0m\u001b[0;34m:\u001b[0m\u001b[0;34m\u001b[0m\u001b[0m\n\u001b[0;32m--> 638\u001b[0;31m         \u001b[0mself\u001b[0m\u001b[0;34m.\u001b[0m\u001b[0mwait\u001b[0m\u001b[0;34m(\u001b[0m\u001b[0mtimeout\u001b[0m\u001b[0;34m)\u001b[0m\u001b[0;34m\u001b[0m\u001b[0m\n\u001b[0m\u001b[1;32m    639\u001b[0m         \u001b[0;32mif\u001b[0m \u001b[0;32mnot\u001b[0m \u001b[0mself\u001b[0m\u001b[0;34m.\u001b[0m\u001b[0mready\u001b[0m\u001b[0;34m(\u001b[0m\u001b[0;34m)\u001b[0m\u001b[0;34m:\u001b[0m\u001b[0;34m\u001b[0m\u001b[0m\n\u001b[1;32m    640\u001b[0m             \u001b[0;32mraise\u001b[0m \u001b[0mTimeoutError\u001b[0m\u001b[0;34m\u001b[0m\u001b[0m\n",
      "\u001b[0;32m/usr/local/Cellar/python/3.6.5/Frameworks/Python.framework/Versions/3.6/lib/python3.6/multiprocessing/pool.py\u001b[0m in \u001b[0;36mwait\u001b[0;34m(self, timeout)\u001b[0m\n\u001b[1;32m    633\u001b[0m \u001b[0;34m\u001b[0m\u001b[0m\n\u001b[1;32m    634\u001b[0m     \u001b[0;32mdef\u001b[0m \u001b[0mwait\u001b[0m\u001b[0;34m(\u001b[0m\u001b[0mself\u001b[0m\u001b[0;34m,\u001b[0m \u001b[0mtimeout\u001b[0m\u001b[0;34m=\u001b[0m\u001b[0;32mNone\u001b[0m\u001b[0;34m)\u001b[0m\u001b[0;34m:\u001b[0m\u001b[0;34m\u001b[0m\u001b[0m\n\u001b[0;32m--> 635\u001b[0;31m         \u001b[0mself\u001b[0m\u001b[0;34m.\u001b[0m\u001b[0m_event\u001b[0m\u001b[0;34m.\u001b[0m\u001b[0mwait\u001b[0m\u001b[0;34m(\u001b[0m\u001b[0mtimeout\u001b[0m\u001b[0;34m)\u001b[0m\u001b[0;34m\u001b[0m\u001b[0m\n\u001b[0m\u001b[1;32m    636\u001b[0m \u001b[0;34m\u001b[0m\u001b[0m\n\u001b[1;32m    637\u001b[0m     \u001b[0;32mdef\u001b[0m \u001b[0mget\u001b[0m\u001b[0;34m(\u001b[0m\u001b[0mself\u001b[0m\u001b[0;34m,\u001b[0m \u001b[0mtimeout\u001b[0m\u001b[0;34m=\u001b[0m\u001b[0;32mNone\u001b[0m\u001b[0;34m)\u001b[0m\u001b[0;34m:\u001b[0m\u001b[0;34m\u001b[0m\u001b[0m\n",
      "\u001b[0;32m/usr/local/Cellar/python/3.6.5/Frameworks/Python.framework/Versions/3.6/lib/python3.6/threading.py\u001b[0m in \u001b[0;36mwait\u001b[0;34m(self, timeout)\u001b[0m\n\u001b[1;32m    549\u001b[0m             \u001b[0msignaled\u001b[0m \u001b[0;34m=\u001b[0m \u001b[0mself\u001b[0m\u001b[0;34m.\u001b[0m\u001b[0m_flag\u001b[0m\u001b[0;34m\u001b[0m\u001b[0m\n\u001b[1;32m    550\u001b[0m             \u001b[0;32mif\u001b[0m \u001b[0;32mnot\u001b[0m \u001b[0msignaled\u001b[0m\u001b[0;34m:\u001b[0m\u001b[0;34m\u001b[0m\u001b[0m\n\u001b[0;32m--> 551\u001b[0;31m                 \u001b[0msignaled\u001b[0m \u001b[0;34m=\u001b[0m \u001b[0mself\u001b[0m\u001b[0;34m.\u001b[0m\u001b[0m_cond\u001b[0m\u001b[0;34m.\u001b[0m\u001b[0mwait\u001b[0m\u001b[0;34m(\u001b[0m\u001b[0mtimeout\u001b[0m\u001b[0;34m)\u001b[0m\u001b[0;34m\u001b[0m\u001b[0m\n\u001b[0m\u001b[1;32m    552\u001b[0m             \u001b[0;32mreturn\u001b[0m \u001b[0msignaled\u001b[0m\u001b[0;34m\u001b[0m\u001b[0m\n\u001b[1;32m    553\u001b[0m \u001b[0;34m\u001b[0m\u001b[0m\n",
      "\u001b[0;32m/usr/local/Cellar/python/3.6.5/Frameworks/Python.framework/Versions/3.6/lib/python3.6/threading.py\u001b[0m in \u001b[0;36mwait\u001b[0;34m(self, timeout)\u001b[0m\n\u001b[1;32m    293\u001b[0m         \u001b[0;32mtry\u001b[0m\u001b[0;34m:\u001b[0m    \u001b[0;31m# restore state no matter what (e.g., KeyboardInterrupt)\u001b[0m\u001b[0;34m\u001b[0m\u001b[0m\n\u001b[1;32m    294\u001b[0m             \u001b[0;32mif\u001b[0m \u001b[0mtimeout\u001b[0m \u001b[0;32mis\u001b[0m \u001b[0;32mNone\u001b[0m\u001b[0;34m:\u001b[0m\u001b[0;34m\u001b[0m\u001b[0m\n\u001b[0;32m--> 295\u001b[0;31m                 \u001b[0mwaiter\u001b[0m\u001b[0;34m.\u001b[0m\u001b[0macquire\u001b[0m\u001b[0;34m(\u001b[0m\u001b[0;34m)\u001b[0m\u001b[0;34m\u001b[0m\u001b[0m\n\u001b[0m\u001b[1;32m    296\u001b[0m                 \u001b[0mgotit\u001b[0m \u001b[0;34m=\u001b[0m \u001b[0;32mTrue\u001b[0m\u001b[0;34m\u001b[0m\u001b[0m\n\u001b[1;32m    297\u001b[0m             \u001b[0;32melse\u001b[0m\u001b[0;34m:\u001b[0m\u001b[0;34m\u001b[0m\u001b[0m\n",
      "\u001b[0;31mKeyboardInterrupt\u001b[0m: "
     ]
    },
    {
     "name": "stderr",
     "output_type": "stream",
     "text": [
      "  File \"/usr/local/Cellar/python/3.6.5/Frameworks/Python.framework/Versions/3.6/lib/python3.6/multiprocessing/process.py\", line 258, in _bootstrap\n",
      "    self.run()\n",
      "  File \"/usr/local/Cellar/python/3.6.5/Frameworks/Python.framework/Versions/3.6/lib/python3.6/multiprocessing/process.py\", line 258, in _bootstrap\n",
      "    self.run()\n",
      "  File \"/usr/local/Cellar/python/3.6.5/Frameworks/Python.framework/Versions/3.6/lib/python3.6/multiprocessing/process.py\", line 258, in _bootstrap\n",
      "    self.run()\n",
      "  File \"/usr/local/Cellar/python/3.6.5/Frameworks/Python.framework/Versions/3.6/lib/python3.6/multiprocessing/process.py\", line 258, in _bootstrap\n",
      "    self.run()\n",
      "  File \"/usr/local/Cellar/python/3.6.5/Frameworks/Python.framework/Versions/3.6/lib/python3.6/multiprocessing/process.py\", line 93, in run\n",
      "    self._target(*self._args, **self._kwargs)\n",
      "  File \"/usr/local/Cellar/python/3.6.5/Frameworks/Python.framework/Versions/3.6/lib/python3.6/multiprocessing/process.py\", line 93, in run\n",
      "    self._target(*self._args, **self._kwargs)\n",
      "  File \"/usr/local/Cellar/python/3.6.5/Frameworks/Python.framework/Versions/3.6/lib/python3.6/multiprocessing/process.py\", line 93, in run\n",
      "    self._target(*self._args, **self._kwargs)\n",
      "  File \"/usr/local/Cellar/python/3.6.5/Frameworks/Python.framework/Versions/3.6/lib/python3.6/multiprocessing/process.py\", line 93, in run\n",
      "    self._target(*self._args, **self._kwargs)\n",
      "  File \"/usr/local/Cellar/python/3.6.5/Frameworks/Python.framework/Versions/3.6/lib/python3.6/multiprocessing/process.py\", line 93, in run\n",
      "    self._target(*self._args, **self._kwargs)\n",
      "  File \"/usr/local/Cellar/python/3.6.5/Frameworks/Python.framework/Versions/3.6/lib/python3.6/multiprocessing/process.py\", line 93, in run\n",
      "    self._target(*self._args, **self._kwargs)\n",
      "  File \"/usr/local/Cellar/python/3.6.5/Frameworks/Python.framework/Versions/3.6/lib/python3.6/multiprocessing/process.py\", line 93, in run\n",
      "    self._target(*self._args, **self._kwargs)\n",
      "  File \"/usr/local/Cellar/python/3.6.5/Frameworks/Python.framework/Versions/3.6/lib/python3.6/multiprocessing/process.py\", line 93, in run\n",
      "    self._target(*self._args, **self._kwargs)\n",
      "  File \"/usr/local/Cellar/python/3.6.5/Frameworks/Python.framework/Versions/3.6/lib/python3.6/multiprocessing/pool.py\", line 108, in worker\n",
      "    task = get()\n",
      "  File \"/usr/local/Cellar/python/3.6.5/Frameworks/Python.framework/Versions/3.6/lib/python3.6/multiprocessing/pool.py\", line 108, in worker\n",
      "    task = get()\n",
      "  File \"/usr/local/Cellar/python/3.6.5/Frameworks/Python.framework/Versions/3.6/lib/python3.6/multiprocessing/pool.py\", line 108, in worker\n",
      "    task = get()\n",
      "  File \"/usr/local/Cellar/python/3.6.5/Frameworks/Python.framework/Versions/3.6/lib/python3.6/multiprocessing/pool.py\", line 108, in worker\n",
      "    task = get()\n",
      "  File \"/usr/local/Cellar/python/3.6.5/Frameworks/Python.framework/Versions/3.6/lib/python3.6/multiprocessing/pool.py\", line 108, in worker\n",
      "    task = get()\n",
      "  File \"/usr/local/Cellar/python/3.6.5/Frameworks/Python.framework/Versions/3.6/lib/python3.6/multiprocessing/pool.py\", line 108, in worker\n",
      "    task = get()\n",
      "  File \"/usr/local/Cellar/python/3.6.5/Frameworks/Python.framework/Versions/3.6/lib/python3.6/multiprocessing/pool.py\", line 108, in worker\n",
      "    task = get()\n",
      "  File \"/usr/local/Cellar/python/3.6.5/Frameworks/Python.framework/Versions/3.6/lib/python3.6/multiprocessing/queues.py\", line 334, in get\n",
      "    with self._rlock:\n",
      "  File \"/usr/local/Cellar/python/3.6.5/Frameworks/Python.framework/Versions/3.6/lib/python3.6/multiprocessing/pool.py\", line 108, in worker\n",
      "    task = get()\n",
      "  File \"/usr/local/Cellar/python/3.6.5/Frameworks/Python.framework/Versions/3.6/lib/python3.6/multiprocessing/queues.py\", line 334, in get\n",
      "    with self._rlock:\n",
      "  File \"/usr/local/Cellar/python/3.6.5/Frameworks/Python.framework/Versions/3.6/lib/python3.6/multiprocessing/queues.py\", line 334, in get\n",
      "    with self._rlock:\n",
      "  File \"/usr/local/Cellar/python/3.6.5/Frameworks/Python.framework/Versions/3.6/lib/python3.6/multiprocessing/queues.py\", line 335, in get\n",
      "    res = self._reader.recv_bytes()\n",
      "  File \"/usr/local/Cellar/python/3.6.5/Frameworks/Python.framework/Versions/3.6/lib/python3.6/multiprocessing/queues.py\", line 334, in get\n",
      "    with self._rlock:\n",
      "  File \"/usr/local/Cellar/python/3.6.5/Frameworks/Python.framework/Versions/3.6/lib/python3.6/multiprocessing/queues.py\", line 334, in get\n",
      "    with self._rlock:\n",
      "  File \"/usr/local/Cellar/python/3.6.5/Frameworks/Python.framework/Versions/3.6/lib/python3.6/multiprocessing/queues.py\", line 334, in get\n",
      "    with self._rlock:\n",
      "  File \"/usr/local/Cellar/python/3.6.5/Frameworks/Python.framework/Versions/3.6/lib/python3.6/multiprocessing/synchronize.py\", line 96, in __enter__\n",
      "    return self._semlock.__enter__()\n",
      "  File \"/usr/local/Cellar/python/3.6.5/Frameworks/Python.framework/Versions/3.6/lib/python3.6/multiprocessing/synchronize.py\", line 96, in __enter__\n",
      "    return self._semlock.__enter__()\n",
      "  File \"/usr/local/Cellar/python/3.6.5/Frameworks/Python.framework/Versions/3.6/lib/python3.6/multiprocessing/queues.py\", line 334, in get\n",
      "    with self._rlock:\n",
      "  File \"/usr/local/Cellar/python/3.6.5/Frameworks/Python.framework/Versions/3.6/lib/python3.6/multiprocessing/synchronize.py\", line 96, in __enter__\n",
      "    return self._semlock.__enter__()\n",
      "  File \"/usr/local/Cellar/python/3.6.5/Frameworks/Python.framework/Versions/3.6/lib/python3.6/multiprocessing/connection.py\", line 216, in recv_bytes\n",
      "    buf = self._recv_bytes(maxlength)\n",
      "  File \"/usr/local/Cellar/python/3.6.5/Frameworks/Python.framework/Versions/3.6/lib/python3.6/multiprocessing/synchronize.py\", line 96, in __enter__\n",
      "    return self._semlock.__enter__()\n",
      "  File \"/usr/local/Cellar/python/3.6.5/Frameworks/Python.framework/Versions/3.6/lib/python3.6/multiprocessing/synchronize.py\", line 96, in __enter__\n",
      "    return self._semlock.__enter__()\n",
      "  File \"/usr/local/Cellar/python/3.6.5/Frameworks/Python.framework/Versions/3.6/lib/python3.6/multiprocessing/synchronize.py\", line 96, in __enter__\n",
      "    return self._semlock.__enter__()\n",
      "  File \"/usr/local/Cellar/python/3.6.5/Frameworks/Python.framework/Versions/3.6/lib/python3.6/multiprocessing/synchronize.py\", line 96, in __enter__\n",
      "    return self._semlock.__enter__()\n",
      "KeyboardInterrupt\n",
      "KeyboardInterrupt\n",
      "KeyboardInterrupt\n",
      "KeyboardInterrupt\n",
      "  File \"/usr/local/Cellar/python/3.6.5/Frameworks/Python.framework/Versions/3.6/lib/python3.6/multiprocessing/connection.py\", line 407, in _recv_bytes\n",
      "    buf = self._recv(4)\n",
      "KeyboardInterrupt\n",
      "KeyboardInterrupt\n",
      "KeyboardInterrupt\n",
      "  File \"/usr/local/Cellar/python/3.6.5/Frameworks/Python.framework/Versions/3.6/lib/python3.6/multiprocessing/connection.py\", line 379, in _recv\n",
      "    chunk = read(handle, remaining)\n",
      "KeyboardInterrupt\n"
     ]
    }
   ],
   "source": [
    "run_name = \"first_server_run\"\n",
    "KT_or_not = False\n",
    "N_T_list = [(100,50),(100,100),(100,200),(100,400),(100,1260),\n",
    "            (200,100),(200,200),(200,400), (200,800), (200, 1260),\n",
    "            (500,250), (500,500), (500,1000), (500,1260)]\n",
    "\n",
    "print(\"Running with run_name={} and KT_or_not={}\".format(run_name, KT_or_not))\n",
    "print(\"All methods are: \" + str(all_methods.keys()))\n",
    "print(\"N, T list is: {}\".format(N_T_list))\n",
    "if input(\"Save information?\") == \"Y\":\n",
    "    with open(\"run_info/{}.info\".format(run_name), 'wb') as f:\n",
    "        run_info = {\n",
    "            'run_name': run_name,\n",
    "            'KT_or_not': KT_or_not,\n",
    "            'N_T_list': N_T_list,\n",
    "            'all_methods_keys': list(all_methods.keys())\n",
    "        }\n",
    "        pickle.dump(run_info, f)\n",
    "\n",
    "for N, T in N_T_list:\n",
    "    if not os.path.exists('pastRets/{}_{}_pastRets.pkl'.format(T,N)):\n",
    "        print(\"pastRets doesn't exist for N,T={},{}\".format(N,T))\n",
    "        save_past_information(T,N, util_loaded_data, save_KT=False)\n",
    "    if not os.path.exists('outRets/{}_outRets.pkl'.format(N)):\n",
    "        print(\"outRets doesn't exist for N={}\".format(N))\n",
    "        save_outrets(N, util_loaded_data, P=1)\n",
    "    \n",
    "for N, T in N_T_list:\n",
    "    with open('pastRets/{}_{}_pastRets.pkl'.format(T,N), 'rb') as f:\n",
    "        pastRets = pickle.load(f)\n",
    "        assert len(pastRets) == 360\n",
    "\n",
    "    if os.path.isfile('pastRets/{}_{}_KTcovs.pkl'.format(T,N)):\n",
    "        with open('pastRets/{}_{}_KTcovs.pkl'.format(T,N), 'rb') as f:\n",
    "            pastCovs = pickle.load(f)\n",
    "    else:\n",
    "        print(\"pastCovs doesn't exist for T={} N={}\".format(T,N))\n",
    "        pastCovs = []\n",
    "\n",
    "    with open('outRets/{}_outRets.pkl'.format(N), 'rb') as f:\n",
    "        outRets = pickle.load(f)\n",
    "        assert len(outRets) == 360\n",
    "\n",
    "    print(\"Loaded all relevant information\")\n",
    "\n",
    "    def get_covs_all_methods(h):\n",
    "        print(\"WORKING ON h={}\".format(h))\n",
    "        for method_name, method in all_methods.items():\n",
    "            print('Starting on {}'.format(method_name))\n",
    "\n",
    "            #USING PASTCOVS\n",
    "            if 'cov' in method_name:\n",
    "                args = []\n",
    "                if 'LS' in method_name or 'CLIME' in method_name:\n",
    "                    #args is number of samples\n",
    "                    args = [T]\n",
    "                cov = method(cov=pastCovs[h], *args)\n",
    "            else:\n",
    "            #USING PASTRETS\n",
    "                args = []\n",
    "                if 'AFM' in method_name:\n",
    "                    args = [h]\n",
    "                cov = method(pastRets[h], *args)\n",
    "\n",
    "            with open('pickle/{}_{}_{}_{}_{}_{}_covEst.pkl'.format(T, N, h, method_name, KT_or_not, run_name), 'wb') as f:\n",
    "                pickle.dump(cov, f)\n",
    "    \n",
    "    pool = Pool(8)\n",
    "    pool.map(get_covs_all_methods, range(360))"
   ]
  }
 ],
 "metadata": {
  "kernelspec": {
   "display_name": "Python 3",
   "language": "python",
   "name": "python3"
  },
  "language_info": {
   "codemirror_mode": {
    "name": "ipython",
    "version": 3
   },
   "file_extension": ".py",
   "mimetype": "text/x-python",
   "name": "python",
   "nbconvert_exporter": "python",
   "pygments_lexer": "ipython3",
   "version": "3.6.5"
  }
 },
 "nbformat": 4,
 "nbformat_minor": 2
}
