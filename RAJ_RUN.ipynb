{
 "cells": [
  {
   "cell_type": "code",
   "execution_count": 1,
   "metadata": {},
   "outputs": [
    {
     "name": "stdout",
     "output_type": "stream",
     "text": [
      "hi\n"
     ]
    }
   ],
   "source": [
    "%load_ext autoreload\n",
    "%autoreload 2\n",
    "import numpy as np\n",
    "import pandas as pd\n",
    "import scipy.linalg\n",
    "import linear_shrinkage\n",
    "import Util\n",
    "from Util import evaluate_curret, get_invest_period\n",
    "from os.path import join\n",
    "from generating_MTP import generate_mat as generate_MTP2\n",
    "import os\n",
    "import time\n",
    "import sklearn.covariance\n",
    "import pickle\n",
    "from collections import namedtuple, defaultdict\n",
    "from subprocess import Popen\n",
    "from multiprocessing import Pool"
   ]
  },
  {
   "cell_type": "code",
   "execution_count": 2,
   "metadata": {},
   "outputs": [],
   "source": [
    "util_loaded_data = Util.load_data()\n",
    "ret, ret_nonan, univ, tradeidx, dates = util_loaded_data"
   ]
  },
  {
   "cell_type": "code",
   "execution_count": 1,
   "metadata": {},
   "outputs": [
    {
     "ename": "NameError",
     "evalue": "name 'os' is not defined",
     "output_type": "error",
     "traceback": [
      "\u001b[0;31m---------------------------------------------------------------------------\u001b[0m",
      "\u001b[0;31mNameError\u001b[0m                                 Traceback (most recent call last)",
      "\u001b[0;32m<ipython-input-1-147465cd9b8e>\u001b[0m in \u001b[0;36m<module>\u001b[0;34m()\u001b[0m\n\u001b[0;32m----> 1\u001b[0;31m \u001b[0;32massert\u001b[0m \u001b[0mos\u001b[0m\u001b[0;34m.\u001b[0m\u001b[0mpath\u001b[0m\u001b[0;34m.\u001b[0m\u001b[0mexists\u001b[0m\u001b[0;34m(\u001b[0m\u001b[0;34m'./pastRets'\u001b[0m\u001b[0;34m)\u001b[0m\u001b[0;34m\u001b[0m\u001b[0m\n\u001b[0m\u001b[1;32m      2\u001b[0m \u001b[0;31m# assert os.path.exists('./outRets')\u001b[0m\u001b[0;34m\u001b[0m\u001b[0;34m\u001b[0m\u001b[0m\n",
      "\u001b[0;31mNameError\u001b[0m: name 'os' is not defined"
     ]
    }
   ],
   "source": [
    "assert os.path.exists('./pastRets')\n",
    "# assert os.path.exists('./outRets')"
   ]
  },
  {
   "cell_type": "markdown",
   "metadata": {},
   "source": [
    "## After this point is the algorithms and experiments, above was just generating data"
   ]
  },
  {
   "cell_type": "code",
   "execution_count": 9,
   "metadata": {},
   "outputs": [],
   "source": [
    "from estimators import (MTP2_wrapper, MTP2_cov_wrapper,\n",
    "                        CLIME_wrapper, CLIME_cov_wrapper)"
   ]
  },
  {
   "cell_type": "code",
   "execution_count": 15,
   "metadata": {},
   "outputs": [],
   "source": [
    "all_methods = {\n",
    "    # 'MTP2_KT': MTP2_cov_wrapper,\n",
    "    'CLIME_KT': CLIME_cov_wrapper\n",
    "}"
   ]
  },
  {
   "cell_type": "code",
   "execution_count": null,
   "metadata": {},
   "outputs": [],
   "source": [
    "# For CLIME KT\n",
    "# 100 is 8 seconds\n",
    "# 200 is 88 seconds\n",
    "# 500 is 88 * (500/200)**2 * (88/(8*4)) = 1512 seconds = 25 minutes...\n",
    "# 25 * 360 / 7 = "
   ]
  },
  {
   "cell_type": "code",
   "execution_count": null,
   "metadata": {},
   "outputs": [],
   "source": [
    "# # MTP KT is for N=500 is:\n",
    "# 1 min (55 seconds) => 6 hrs"
   ]
  },
  {
   "cell_type": "markdown",
   "metadata": {},
   "source": [
    "### Time estimate"
   ]
  },
  {
   "cell_type": "code",
   "execution_count": 16,
   "metadata": {
    "scrolled": true
   },
   "outputs": [
    {
     "name": "stdout",
     "output_type": "stream",
     "text": [
      "MTP2_KT 56.22209286689758\n"
     ]
    }
   ],
   "source": [
    "T = 1260\n",
    "N = 500\n",
    "with open('pastRets/{}_{}_KTcovs.pkl'.format(T,N), 'rb') as f:\n",
    "    pastRets = pickle.load(f)\n",
    "# This will take around 25 minutes for CLIME_KT\n",
    "timing_dict = {}\n",
    "for method_name, m_func in all_methods.items():\n",
    "    h = 0\n",
    "    print(method_name, end = ' ')\n",
    "    args = []\n",
    "    if method_name == \"CLIME_KT\":\n",
    "        args = [T]\n",
    "    start = time.time()\n",
    "    cov = m_func(pastRets[h], *args)\n",
    "    end = time.time()\n",
    "    print(end-start)\n",
    "    timing_dict[method_name] = end-start"
   ]
  },
  {
   "cell_type": "code",
   "execution_count": null,
   "metadata": {},
   "outputs": [],
   "source": [
    "print(timing_dict.items())\n",
    "print(\"Total hours: \", sum(timing_dict.values()))"
   ]
  },
  {
   "cell_type": "markdown",
   "metadata": {},
   "source": [
    "### Run versions"
   ]
  },
  {
   "cell_type": "code",
   "execution_count": 17,
   "metadata": {},
   "outputs": [],
   "source": [
    "assert os.path.exists(\"./pickle\")\n",
    "# Otherwise make pickle directory."
   ]
  },
  {
   "cell_type": "code",
   "execution_count": null,
   "metadata": {
    "scrolled": true
   },
   "outputs": [
    {
     "name": "stdout",
     "output_type": "stream",
     "text": [
      "500 1260\n",
      "500 1260\n",
      "WORKING ON h=13\n",
      "WORKING ON h=26\n",
      "WORKING ON h=39\n",
      "WORKING ON h=0\n",
      "WORKING ON h=52\n",
      "WORKING ON h=65\n",
      "WORKING ON h=78\n",
      "WORKING ON h=14\n",
      "WORKING ON h=1\n",
      "WORKING ON h=27\n",
      "WORKING ON h=79\n",
      "WORKING ON h=40\n",
      "WORKING ON h=53\n",
      "WORKING ON h=66\n",
      "WORKING ON h=15\n",
      "WORKING ON h=2\n"
     ]
    }
   ],
   "source": [
    "N_T_list = [(500,1260)]\n",
    "\n",
    "for N, T in N_T_list:\n",
    "    print(N,T)\n",
    "    if os.path.isfile('pastRets/{}_{}_KTcovs.pkl'.format(T,N)):\n",
    "        with open('pastRets/{}_{}_KTcovs.pkl'.format(T,N), 'rb') as f:\n",
    "            pastCovs = pickle.load(f)\n",
    "    else:\n",
    "        assert False\n",
    "    \n",
    "run_name = \"first_server_run\"\n",
    "KT_or_not = False\n",
    "for N, T in N_T_list:\n",
    "    print(N,T)\n",
    "    with open('pastRets/{}_{}_pastRets.pkl'.format(T,N), 'rb') as f:\n",
    "        pastRets = pickle.load(f)\n",
    "        assert len(pastRets) == 360\n",
    "\n",
    "    def get_covs_all_methods(h):\n",
    "        print(\"WORKING ON h={}\".format(h))\n",
    "        for method_name, method in all_methods.items():\n",
    "            args = []\n",
    "            if method_name == 'CLIME_KT':\n",
    "                args = [T]\n",
    "            cov = method(cov=pastCovs[h], *args)\n",
    "            fname = 'pickle/{}_{}_{}_{}_{}_{}_covEst.pkl'.format(T, N, h, method_name, KT_or_not, run_name)\n",
    "            with open(fname, 'wb') as f:\n",
    "                pickle.dump(cov, f)\n",
    "    \n",
    "    pool = Pool(7)\n",
    "    pool.map(get_covs_all_methods, range(360))"
   ]
  },
  {
   "cell_type": "code",
   "execution_count": null,
   "metadata": {},
   "outputs": [],
   "source": [
    "# def get_portfolio_to_period(end_h, all_methods, T, N, KT_or_not, run_name):\n",
    "#     with open('outRets/{}_outRets.pkl'.format(N), 'rb') as f:\n",
    "#         outRets = pickle.load(f)\n",
    "#     for h in range(end_h):\n",
    "#         print(h, end= ' ')\n",
    "#         m = get_momentum_signal(h, N, univ, tradeidx, ret)\n",
    "#         b = np.mean(m)\n",
    "#         for method_name in iter_method_names:\n",
    "#             if h == 0:\n",
    "#                 print('pickle/{}_{}_{}_{}_{}_{}_covEst.pkl'.format(T, N, h, method_name, KT_or_not, run_name))\n",
    "#             with open('pickle/{}_{}_{}_{}_{}_{}_covEst.pkl'.format(T, N, h, method_name, KT_or_not, run_name), 'rb') as f:\n",
    "#                 cov = pickle.load(f)\n",
    "#             if cov is None or cov == 'FAIL':\n",
    "#                 curret = None\n",
    "#             else:\n",
    "#                 w = optimal_weights_momentum(m, cov, b)\n",
    "#                 curret = retConstShare(outRets[h], w)\n",
    "#             method_to_portfolio[method_name].append(curret)\n",
    "#     return method_to_portfolio"
   ]
  },
  {
   "cell_type": "code",
   "execution_count": null,
   "metadata": {},
   "outputs": [],
   "source": [
    "# method_to_portfolio = get_portfolio_to_period(360, all_methods, 1260, 500, False, \"first_server_run\")\n",
    "# pname = 'portfolios_IR/{}_{}_{}_{}_{}'.format(T,N,method_name,KT_or_not,run_name)\n",
    "# with open(pname.format(1260,500,\"MTP2_KT\", False, \"first_server_run\"), \"wb\") as f:\n",
    "#     pickle.dump(method_to_portfolio['MTP2_KT'], f)\n",
    "# with open(pname.format(1260,500,\"CLIME_KT\", False, \"first_server_run\"), \"wb\") as f:\n",
    "#     pickle.dump(method_to_portfolio['CLIME_KT'], f)"
   ]
  }
 ],
 "metadata": {
  "kernelspec": {
   "display_name": "Python 3",
   "language": "python",
   "name": "python3"
  },
  "language_info": {
   "codemirror_mode": {
    "name": "ipython",
    "version": 3
   },
   "file_extension": ".py",
   "mimetype": "text/x-python",
   "name": "python",
   "nbconvert_exporter": "python",
   "pygments_lexer": "ipython3",
   "version": "3.6.5"
  }
 },
 "nbformat": 4,
 "nbformat_minor": 2
}
