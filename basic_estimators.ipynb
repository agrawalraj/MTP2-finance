{
 "cells": [
  {
   "cell_type": "code",
   "execution_count": 4,
   "metadata": {},
   "outputs": [
    {
     "name": "stdout",
     "output_type": "stream",
     "text": [
      "The autoreload extension is already loaded. To reload it, use:\n",
      "  %reload_ext autoreload\n"
     ]
    }
   ],
   "source": [
    "%load_ext autoreload\n",
    "%autoreload 2\n",
    "import pandas as pd\n",
    "import numpy as np\n",
    "import time\n",
    "import matplotlib.pyplot as plt\n",
    "import seaborn as sns\n",
    "import Util\n",
    "import linear_shrinkage"
   ]
  },
  {
   "cell_type": "code",
   "execution_count": 2,
   "metadata": {},
   "outputs": [],
   "source": [
    "ret, ret_nonan, univ, tradeidx, dates = Util.load_data()"
   ]
  },
  {
   "cell_type": "code",
   "execution_count": 3,
   "metadata": {},
   "outputs": [
    {
     "name": "stdout",
     "output_type": "stream",
     "text": [
      "-0.31855\n",
      "0.23618000000000003\n",
      "0.0008989193208430914\n"
     ]
    }
   ],
   "source": [
    "#Sanity check with Michael's code\n",
    "today = tradeidx[0][0]\n",
    "pastData = Util.get_past_period(h=0, T = 1260, N = 200, univ = univ, tradeidx = tradeidx, ret = ret)\n",
    "investData = Util.get_invest_period(h=0, P = 1, N = 200, univ = univ, tradeidx = tradeidx, ret = ret)\n",
    "combinedData = np.concatenate((pastData, investData))\n",
    "print(combinedData.min())\n",
    "print(combinedData.max())\n",
    "print(combinedData.mean())"
   ]
  },
  {
   "cell_type": "code",
   "execution_count": 13,
   "metadata": {},
   "outputs": [],
   "source": [
    "def get_OOS_rets(cov_estimator, N, T, P, ret, univ, tradeidx, range_h = None):   \n",
    "    if not range_h:\n",
    "        range_h = len(univ)\n",
    "    rets = []\n",
    "    for h in range(range_h):\n",
    "        pastRet = Util.get_past_period(h, T, N, univ, tradeidx, ret)\n",
    "        cov = cov_estimator(pastRet)\n",
    "        w = Util.optimal_weights(cov)\n",
    "        outRet = Util.get_invest_period(h, P, N, univ, tradeidx, ret)\n",
    "        curret = Util.OOS_rets(outRet, w)\n",
    "        #curret = Util.retConstShare(outRet, w)\n",
    "        rets.append(curret)\n",
    "    return rets"
   ]
  },
  {
   "cell_type": "code",
   "execution_count": 14,
   "metadata": {},
   "outputs": [],
   "source": [
    "N = 200\n",
    "T = 1260\n",
    "P = 1"
   ]
  },
  {
   "cell_type": "code",
   "execution_count": 20,
   "metadata": {},
   "outputs": [],
   "source": [
    "equal_rets = get_OOS_rets(Util.identity_cov, \n",
    "                          N, T, P,\n",
    "                          ret, univ, tradeidx,\n",
    "                          range_h = None)"
   ]
  },
  {
   "cell_type": "code",
   "execution_count": 21,
   "metadata": {},
   "outputs": [
    {
     "name": "stdout",
     "output_type": "stream",
     "text": [
      "0.12918692971707574 0.18754260906922615\n"
     ]
    }
   ],
   "source": [
    "Util.print_normalize(equal_rets)"
   ]
  },
  {
   "cell_type": "code",
   "execution_count": 22,
   "metadata": {},
   "outputs": [],
   "source": [
    "linear_shrinkage_rets = get_OOS_rets(linear_shrinkage.estimator, \n",
    "                                     N, T, P,\n",
    "                                     ret, univ, tradeidx,\n",
    "                                     range_h = None)"
   ]
  },
  {
   "cell_type": "code",
   "execution_count": 23,
   "metadata": {},
   "outputs": [
    {
     "name": "stdout",
     "output_type": "stream",
     "text": [
      "0.1111813838931928 0.12025630116520909\n"
     ]
    }
   ],
   "source": [
    "Util.print_normalize(linear_shrinkage_rets)"
   ]
  }
 ],
 "metadata": {
  "kernelspec": {
   "display_name": "Python 3",
   "language": "python",
   "name": "python3"
  },
  "language_info": {
   "codemirror_mode": {
    "name": "ipython",
    "version": 3
   },
   "file_extension": ".py",
   "mimetype": "text/x-python",
   "name": "python",
   "nbconvert_exporter": "python",
   "pygments_lexer": "ipython3",
   "version": "3.6.5"
  }
 },
 "nbformat": 4,
 "nbformat_minor": 2
}
