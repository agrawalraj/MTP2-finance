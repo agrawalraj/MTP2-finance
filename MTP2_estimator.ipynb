{
 "cells": [
  {
   "cell_type": "code",
   "execution_count": 26,
   "metadata": {},
   "outputs": [
    {
     "name": "stdout",
     "output_type": "stream",
     "text": [
      "The autoreload extension is already loaded. To reload it, use:\n",
      "  %reload_ext autoreload\n"
     ]
    }
   ],
   "source": [
    "%load_ext autoreload\n",
    "%autoreload 2\n",
    "import os\n",
    "import scipy\n",
    "import numpy as np\n",
    "import scipy.io\n",
    "import pandas as pd\n",
    "import time\n",
    "import Util\n",
    "import matplotlib.pyplot as plt\n",
    "from multiprocessing import Pool"
   ]
  },
  {
   "cell_type": "markdown",
   "metadata": {},
   "source": [
    "# This is with simulated data just to test matlab nonsense"
   ]
  },
  {
   "cell_type": "code",
   "execution_count": 2,
   "metadata": {},
   "outputs": [],
   "source": [
    "#To generate fake data\n",
    "ogcwd = os.getcwd()\n",
    "os.chdir('./matlab/sim_data')\n",
    "for i in range(2):\n",
    "    mdict = {'S': np.eye(3) + np.random.random((3,3)) * 0.1}\n",
    "    scipy.io.savemat('testS{}.mat'.format(i), mdict)\n",
    "os.chdir(ogcwd)"
   ]
  },
  {
   "cell_type": "code",
   "execution_count": 3,
   "metadata": {},
   "outputs": [],
   "source": [
    "c1 = Util.construct_command('testS0.mat', 'testOut0.mat', 'sim_data')\n",
    "c2 = Util.construct_command('testS1.mat', 'testOut1.mat', 'sim_data')"
   ]
  },
  {
   "cell_type": "code",
   "execution_count": 4,
   "metadata": {},
   "outputs": [],
   "source": [
    "string = \"matlab -nodisplay -nodesktop -r \\\"{}; {}; exit;\\\"\".format(c1, c2)"
   ]
  },
  {
   "cell_type": "code",
   "execution_count": 5,
   "metadata": {},
   "outputs": [
    {
     "data": {
      "text/plain": [
       "'matlab -nodisplay -nodesktop -r \"computecov \\'./sim_data/testS0.mat\\' \\'./sim_data/testOut0.mat\\'; computecov \\'./sim_data/testS1.mat\\' \\'./sim_data/testOut1.mat\\'; exit;\"'"
      ]
     },
     "execution_count": 5,
     "metadata": {},
     "output_type": "execute_result"
    }
   ],
   "source": [
    "string"
   ]
  },
  {
   "cell_type": "code",
   "execution_count": 6,
   "metadata": {},
   "outputs": [
    {
     "data": {
      "text/plain": [
       "'matlab -nodisplay -nodesktop -r \"computecov \\'./sim_data/testS0.mat\\' \\'./sim_data/testOut0.mat\\'; computecov \\'./sim_data/testS1.mat\\' \\'./sim_data/testOut1.mat\\'; exit;\"'"
      ]
     },
     "execution_count": 6,
     "metadata": {},
     "output_type": "execute_result"
    }
   ],
   "source": [
    "Util.construct_string_commands([c1,c2])"
   ]
  },
  {
   "cell_type": "code",
   "execution_count": 7,
   "metadata": {},
   "outputs": [],
   "source": [
    "ogcwd = os.getcwd()\n",
    "os.chdir('./matlab')\n",
    "os.system(string)\n",
    "os.chdir(ogcwd)"
   ]
  },
  {
   "cell_type": "code",
   "execution_count": 9,
   "metadata": {},
   "outputs": [
    {
     "name": "stdout",
     "output_type": "stream",
     "text": [
      "[[1.07236762 0.06850456 0.00765461]\n",
      " [0.06850456 1.05469713 0.03712618]\n",
      " [0.00765461 0.03712618 1.03764171]]\n",
      "[[1.01864981 0.06924462 0.05395228]\n",
      " [0.06924462 1.05262125 0.08166481]\n",
      " [0.05395228 0.08166481 1.00944985]]\n"
     ]
    }
   ],
   "source": [
    "for i in range(2):\n",
    "    fname = Util.format_appro('testOut{}'.format(i), data_folder = 'matlab/sim_data')\n",
    "    Sigma = scipy.io.loadmat(fname)['Sigma']\n",
    "    print(Sigma)"
   ]
  },
  {
   "cell_type": "markdown",
   "metadata": {},
   "source": [
    "# This is with real financial data"
   ]
  },
  {
   "cell_type": "code",
   "execution_count": 4,
   "metadata": {},
   "outputs": [],
   "source": [
    "ret, ret_nonan, univ, tradeidx, dates = Util.load_data()"
   ]
  },
  {
   "cell_type": "code",
   "execution_count": 10,
   "metadata": {},
   "outputs": [],
   "source": [
    "N = 200 #Number of stocks\n",
    "T = 100 #lookback (units of days)\n",
    "P = 1 #lookahead"
   ]
  },
  {
   "cell_type": "markdown",
   "metadata": {},
   "source": [
    "### First we populate the data folder the relevant sample covariance matrices"
   ]
  },
  {
   "cell_type": "code",
   "execution_count": 11,
   "metadata": {},
   "outputs": [],
   "source": [
    "#Populates data folder with sample covariance matrix\n",
    "ogcwd = os.getcwd()\n",
    "os.chdir('./matlab/data')\n",
    "\n",
    "for h in range(len(univ)):#len(univ)):\n",
    "    pastRet = Util.get_past_period(h, T, N, univ, tradeidx, ret)\n",
    "    S = np.cov(pastRet.T) #sample covariance\n",
    "    mdict = {'S': S}\n",
    "    scipy.io.savemat('N_{}_T_{}_unividx_{}.mat'.format(N, T, h), mdict)\n",
    "\n",
    "os.chdir(ogcwd)"
   ]
  },
  {
   "cell_type": "markdown",
   "metadata": {},
   "source": [
    "### Then we construct the commands to do the MTP2 estimation on the sample covariance matrices, and also run the command (takes around 7 seconds for all 360 samples)"
   ]
  },
  {
   "cell_type": "code",
   "execution_count": 18,
   "metadata": {},
   "outputs": [],
   "source": [
    "all_commands = []\n",
    "for h in range(len(univ)):\n",
    "    c = Util.construct_command('N_{}_T_{}_unividx_{}.mat'.format(N, T, h), \n",
    "                          'out_N_{}_T_{}_unividx_{}.mat'.format(N, T, h))\n",
    "    all_commands.append(c)"
   ]
  },
  {
   "cell_type": "code",
   "execution_count": 19,
   "metadata": {},
   "outputs": [
    {
     "name": "stdout",
     "output_type": "stream",
     "text": [
      "[\"computecov './data/N_200_T_1260_unividx_0.mat' './data/out_N_200_T_1260_unividx_0.mat'\", \"computecov './data/N_200_T_1260_unividx_1.mat' './data/out_N_200_T_1260_unividx_1.mat'\"]\n"
     ]
    }
   ],
   "source": [
    "print(all_commands[:2])"
   ]
  },
  {
   "cell_type": "code",
   "execution_count": 21,
   "metadata": {},
   "outputs": [],
   "source": [
    "string = Util.construct_string_commands(all_commands)"
   ]
  },
  {
   "cell_type": "code",
   "execution_count": 46,
   "metadata": {},
   "outputs": [
    {
     "name": "stdout",
     "output_type": "stream",
     "text": [
      "2518.566747188568\n"
     ]
    }
   ],
   "source": [
    "start = time.time()\n",
    "ogcwd = os.getcwd()\n",
    "os.chdir('./matlab')\n",
    "os.system(string) #Have to make call within matlab folder, because that's where file is defined\n",
    "os.chdir(ogcwd)\n",
    "print(time.time() - start) #takes around 50 minutes (2518 seconds)"
   ]
  },
  {
   "cell_type": "markdown",
   "metadata": {},
   "source": [
    "### Parallel version"
   ]
  },
  {
   "cell_type": "code",
   "execution_count": 23,
   "metadata": {},
   "outputs": [],
   "source": [
    "cores = 8\n",
    "commands = []\n",
    "MTP2_cov_est = Util.MTP2_cov(N, T)\n",
    "verbose = False\n",
    "for i, arr in enumerate(np.array_split(range(len(univ)), cores)):\n",
    "    all_commands = []\n",
    "    for h in arr:\n",
    "        try:\n",
    "            MTP2_cov_est(h)\n",
    "            if verbose:\n",
    "                print(\"{} already present for {} {}\".format(h, N, T))\n",
    "        except:\n",
    "            c = Util.construct_command('N_{}_T_{}_unividx_{}.mat'.format(N, T, h), \n",
    "                              'out_N_{}_T_{}_unividx_{}.mat'.format(N, T, h))\n",
    "            all_commands.append(c)\n",
    "    commands.append(Util.construct_string_commands(all_commands))"
   ]
  },
  {
   "cell_type": "code",
   "execution_count": 21,
   "metadata": {},
   "outputs": [],
   "source": [
    "def matlab_command_wrapper(string):\n",
    "    ogcwd = os.getcwd()\n",
    "    os.chdir('./matlab')\n",
    "    os.system(string) #Have to make call within matlab folder, because that's where file is defined\n",
    "    os.chdir(ogcwd)"
   ]
  },
  {
   "cell_type": "code",
   "execution_count": 22,
   "metadata": {},
   "outputs": [],
   "source": [
    "with Pool(cores) as p:\n",
    "    p.map(matlab_command_wrapper, commands)"
   ]
  },
  {
   "cell_type": "markdown",
   "metadata": {},
   "source": [
    "### Given the MTP2 estimates of the covariance matrix, loads them and calculates the out of sample variances"
   ]
  },
  {
   "cell_type": "code",
   "execution_count": 24,
   "metadata": {},
   "outputs": [],
   "source": [
    "def get_OOS_rets(N, T, P, ret, univ, tradeidx, range_h = None):\n",
    "    if not range_h:\n",
    "        range_h = len(univ)\n",
    "    \n",
    "    MTP2_cov_est = Util.MTP2_cov(N,T)\n",
    "    rets = []\n",
    "    for h in range(range_h):\n",
    "        cov = MTP2_cov_est(h)\n",
    "        w = Util.optimal_weights(cov)\n",
    "        outRet = Util.get_invest_period(h, P, N, univ, tradeidx, ret)\n",
    "        curret = Util.retConstShare(outRet, w)\n",
    "        rets.append(curret)\n",
    "    return rets"
   ]
  },
  {
   "cell_type": "code",
   "execution_count": 25,
   "metadata": {},
   "outputs": [
    {
     "name": "stdout",
     "output_type": "stream",
     "text": [
      "0.10276108819046006 0.12094076278574159\n"
     ]
    }
   ],
   "source": [
    "MTP2_rets = get_OOS_rets(N, T, P, ret, univ, tradeidx, range_h = None)\n",
    "Util.print_normalize(MTP2_rets)"
   ]
  },
  {
   "cell_type": "code",
   "execution_count": 33,
   "metadata": {},
   "outputs": [
    {
     "data": {
      "image/png": "[encoded data removed]",
      "text/plain": [
       "<Figure size 432x288 with 1 Axes>"
      ]
     },
     "metadata": {},
     "output_type": "display_data"
    }
   ],
   "source": [
    "plt.hist(Util.subsample(MTP2_rets))\n",
    "plt.show()"
   ]
  }
 ],
 "metadata": {
  "kernelspec": {
   "display_name": "Python 3",
   "language": "python",
   "name": "python3"
  },
  "language_info": {
   "codemirror_mode": {
    "name": "ipython",
    "version": 3
   },
   "file_extension": ".py",
   "mimetype": "text/x-python",
   "name": "python",
   "nbconvert_exporter": "python",
   "pygments_lexer": "ipython3",
   "version": "3.6.5"
  }
 },
 "nbformat": 4,
 "nbformat_minor": 2
}
