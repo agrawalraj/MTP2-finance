{
 "cells": [
  {
   "cell_type": "code",
   "execution_count": 2,
   "metadata": {},
   "outputs": [],
   "source": [
    "import numpy as np\n",
    "import pandas as pd\n",
    "import scipy.linalg\n",
    "import os\n",
    "import time\n",
    "import sklearn.covariance\n",
    "import pickle\n",
    "from collections import defaultdict\n",
    "\n",
    "import Util  # Util module from this library"
   ]
  },
  {
   "cell_type": "markdown",
   "metadata": {},
   "source": [
    "### Load data"
   ]
  },
  {
   "cell_type": "code",
   "execution_count": null,
   "metadata": {},
   "outputs": [],
   "source": [
    "util_loaded_data = Util.load_data()\n",
    "ret, ret_nonan, univ, tradeidx, dates = util_loaded_data"
   ]
  },
  {
   "cell_type": "markdown",
   "metadata": {},
   "source": [
    "### Saving data for past returns\n",
    "\n",
    "Given T (lookback period) and N (number of stocks), save past returns over relevant period, indexed by h. These returns are used for prediction."
   ]
  },
  {
   "cell_type": "code",
   "execution_count": null,
   "metadata": {},
   "outputs": [],
   "source": [
    "# If the paths don't exist, then create them.\n",
    "# This is where the data is saved.\n",
    "\n",
    "assert os.path.exists('./pastRets')\n",
    "assert os.path.exists('./outRets')"
   ]
  },
  {
   "cell_type": "code",
   "execution_count": null,
   "metadata": {},
   "outputs": [],
   "source": [
    "def save_past_information(T, N, util_loaded_data, save_KT=True):\n",
    "    ret, ret_nonan, univ, tradeidx, dates = util_loaded_data\n",
    "    pastRets = []\n",
    "    KT_covs = []\n",
    "    \n",
    "    for h in range(len(univ)):\n",
    "        print(h, end = ' ')\n",
    "        pastRet = Util.get_past_period(h, T, N, univ, tradeidx, ret)\n",
    "        pastRetFileName = \"pastRets/{}_{}_{}_pastRet.pkl\".format(T, N, h)\n",
    "        with open(pastRetFileName, 'wb') as f:\n",
    "            pickle.dump(pastRet, f)\n",
    "        pastRets.append(pastRet)\n",
    "        \n",
    "        if save_KT:\n",
    "            KT_cov = Util.kendall_cov(pastRet)\n",
    "            KT_cov_file_name =  \"pastRets/{}_{}_{}_KTcov.pkl\".format(T, N, h)\n",
    "            with open(KT_cov_file_name, 'wb') as f:\n",
    "                pickle.dump(KT_cov, f)\n",
    "            KT_covs.append(KT_cov)\n",
    "    \n",
    "    with open(\"pastRets/{}_{}_pastRets.pkl\".format(T,N), 'wb') as f:\n",
    "        pickle.dump(pastRets, f)\n",
    "\n",
    "    if save_KT:\n",
    "        with open(\"pastRets/{}_{}_KTcovs.pkl\".format(T,N), 'wb') as f:\n",
    "            pickle.dump(KT_covs, f)"
   ]
  },
  {
   "cell_type": "code",
   "execution_count": null,
   "metadata": {},
   "outputs": [],
   "source": [
    "for T in [25, 50, 100, 200, 500, 1260]:\n",
    "    for N in [25, 50, 100, 200, 500, 1000]:\n",
    "        save_past_information(T, N, util_loaded_data)"
   ]
  },
  {
   "cell_type": "code",
   "execution_count": null,
   "metadata": {},
   "outputs": [],
   "source": [
    "# Saves the out of sample returns for evaluation time.\n",
    "def save_outrets(N, util_loaded_data, P=1):\n",
    "    ret, ret_nonan, univ, tradeidx, dates = util_loaded_data\n",
    "    all_outrets = []\n",
    "    for h in range(360):\n",
    "        outret = get_invest_period(h, P, N, univ, tradeidx, ret)\n",
    "        all_outrets.append(outret)\n",
    "    with open('outRets/{}_outRets.pkl'.format(N), 'wb') as f:\n",
    "        pickle.dump(all_outrets, f)\n",
    "\n",
    "for N in [25, 50, 100, 200, 500, 1000]:\n",
    "    save_outrets(N, util_loaded_data)"
   ]
  },
  {
   "cell_type": "markdown",
   "metadata": {},
   "source": [
    "### Using estimators to generate portfolios\n",
    "\n",
    "An estimator is a function that takes in the past returns (a N by T matrix of past returns) and returns an estimated covariance (N by N) of the stocks. 2 methods take in a Kendall-Tau covariance matrix of the past returns instead of the raw past returns: MTP2_cov_wrapper and CLIME_cov_wrapper.\n",
    "\n",
    "We demonstrate below how to compute the portfolio for a given estimator and choice of N, T over the out of sample time period (indexed by h)."
   ]
  },
  {
   "cell_type": "code",
   "execution_count": null,
   "metadata": {},
   "outputs": [],
   "source": [
    "from estimators import (MTP2_wrapper, MTP2_cov_wrapper,\n",
    "                        LRPS_wrapper,\n",
    "                        CLIME_wrapper, CLIME_cov_wrapper,\n",
    "                        LS_wrapper, NLS_wrapper,\n",
    "                        POET_wrapper, POET_5_wrapper,\n",
    "                        glasso_wrapper,\n",
    "                        get_AFM_estimator)"
   ]
  },
  {
   "cell_type": "code",
   "execution_count": null,
   "metadata": {},
   "outputs": [],
   "source": [
    "# A dictionary mapping estimator name to the estimator function.\n",
    "all_estimators = {\n",
    "    'MTP2_KT': MTP2_cov_wrapper,\n",
    "    'CLIME_KT': CLIME_cov_wrapper,\n",
    "    'glasso': glasso_wrapper,\n",
    "    'MTP2': MTP2_wrapper,\n",
    "    'CLIME': CLIME_wrapper,\n",
    "    'LS': LS_wrapper,\n",
    "    'NLS':  NLS_wrapper,\n",
    "    'LRPS': LRPS_wrapper,\n",
    "    'AFM_NL': get_AFM_estimator(5, 'NLS', tradeidx),\n",
    "    'AFM_LS': get_AFM_estimator(5, 'LS', tradeidx),\n",
    "    'POET': POET_wrapper,\n",
    "    'POET_5': POET_5_wrapper\n",
    "}"
   ]
  },
  {
   "cell_type": "code",
   "execution_count": null,
   "metadata": {},
   "outputs": [],
   "source": [
    "T = 25\n",
    "N = 200\n",
    "estimator_name = 'glasso'\n",
    "\n",
    "# First load the past returns.\n",
    "with open('pastRets/{}_{}_pastRets.pkl'.format(T,N), 'rb') as f:\n",
    "    pastRets = pickle.load(f)\n",
    "    assert len(pastRets) == 360\n",
    "\n",
    "with open('outRets/{}_outRets.pkl'.format(N), 'rb') as f:\n",
    "    outRets = pickle.load(f)\n",
    "\n",
    "estimator = all_estimators[estimator_name]\n",
    "estimator_portfolio_return = []\n",
    "for h in range(360):\n",
    "    # Get estimated covariance.\n",
    "    cov = estimator(pastRets[h])\n",
    "    # Get optimal portfolio weights.\n",
    "    w = optimal_weights(cov)\n",
    "    # Calculate the return of the portfolio with given weights.\n",
    "    curret = Util.retConstShare(outRets[h], w)\n",
    "    estimator_portfolio_return.append(curret)\n",
    "\n",
    "# prints normalized (by percent per year) mean and std and information ratio\n",
    "# ratio of return of  portfolio\n",
    "print(Util.get_IR(estimator_portfolio_return))"
   ]
  },
  {
   "cell_type": "code",
   "execution_count": null,
   "metadata": {},
   "outputs": [],
   "source": [
    "# If using momentum signal for estimating portfolio weights\n",
    "# (instead of only covariance), use the following code.\n",
    "\n",
    "estimator = all_estimators[estimator_name]\n",
    "estimator_portfolio_return = []\n",
    "for h in range(360):\n",
    "    # Gets momentum signal of stocks.\n",
    "    m = get_momentum_signal(h, N, univ, tradeidx, ret)\n",
    "    b = np.mean(m)\n",
    "    # Get estimated covariance.\n",
    "    cov = estimator(pastRets[h])\n",
    "    # Get optimal portfolio weights.\n",
    "    w = optimal_weights_momentum(m, cov, b)\n",
    "    # Calculate the return of the portfolio\n",
    "    curret = Util.retConstShare(outRets[h], w)\n",
    "    estimator_portfolio_return.append(curret)"
   ]
  }
 ],
 "metadata": {
  "kernelspec": {
   "display_name": "Python 3",
   "language": "python",
   "name": "python3"
  },
  "language_info": {
   "codemirror_mode": {
    "name": "ipython",
    "version": 3
   },
   "file_extension": ".py",
   "mimetype": "text/x-python",
   "name": "python",
   "nbconvert_exporter": "python",
   "pygments_lexer": "ipython3",
   "version": "3.6.5"
  }
 },
 "nbformat": 4,
 "nbformat_minor": 2
}
