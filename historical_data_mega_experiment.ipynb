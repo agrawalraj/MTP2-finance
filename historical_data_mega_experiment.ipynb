{
 "cells": [
  {
   "cell_type": "code",
   "execution_count": 3,
   "metadata": {},
   "outputs": [],
   "source": [
    "%load_ext autoreload\n",
    "%autoreload 2\n",
    "import numpy as np\n",
    "import pandas as pd\n",
    "import scipy.linalg\n",
    "import matplotlib.pyplot as plt\n",
    "import linear_shrinkage\n",
    "import Util\n",
    "from os.path import join\n",
    "from generating_MTP import generate_mat as generate_MTP2\n",
    "import os"
   ]
  },
  {
   "cell_type": "code",
   "execution_count": 4,
   "metadata": {},
   "outputs": [],
   "source": [
    "ret, ret_nonan, univ, tradeidx, dates = Util.load_data()"
   ]
  },
  {
   "cell_type": "code",
   "execution_count": 2,
   "metadata": {},
   "outputs": [],
   "source": [
    "Ns = [100, 200, 500, 1000]\n",
    "ratios = [0.25, 0.5, 1, 2, 4]\n",
    "P = 1"
   ]
  },
  {
   "cell_type": "code",
   "execution_count": null,
   "metadata": {},
   "outputs": [
    {
     "name": "stdout",
     "output_type": "stream",
     "text": [
      "Working on N = 100, T = 25\n",
      "Done populating all Kendall covs\n",
      "Done with running all commands!\n",
      "Done with running all commands for LS!\n",
      "Working on N = 100, T = 50\n",
      "Done populating all Kendall covs\n",
      "Done with running all commands!\n",
      "Done with running all commands for LS!\n",
      "Working on N = 100, T = 100\n"
     ]
    }
   ],
   "source": [
    "for N in Ns:\n",
    "    for r in ratios:\n",
    "        T = int(r * N)\n",
    "#         if N == 100 or N == 200 or N == 500: #already done\n",
    "#             continue\n",
    "        if T >= 2000:\n",
    "            continue\n",
    "            #then the array will contain nans\n",
    "        print(\"Working on N = {}, T = {}\".format(N, T))\n",
    "        pastRets = []\n",
    "        uids = []\n",
    "        for h in range(len(univ)):\n",
    "            pastRet = Util.get_past_period(h, T, N, univ, tradeidx, ret)\n",
    "            pastRets.append(pastRet)\n",
    "            uids.append(h)\n",
    "        folder = \"kendall_cov_historical_N_{}_T_{}\".format(N, T)\n",
    "        if not os.path.isdir('matlab/data/{}'.format(folder)):\n",
    "            os.mkdir('matlab/data/{}'.format(folder))\n",
    "        \n",
    "        Util.populate_kendall_covs_from_samples(folder, uids, pastRets)\n",
    "        Util.run_parallel_MTP2(7, folder, uids)\n",
    "        Util.get_MTP2_OOS(folder, N, P, univ, tradeidx, ret)\n",
    "        \n",
    "        Util.run_parallel_LS(7, folder, pastRets, uids)\n",
    "        Util.get_LS_OOS(folder, N, P, univ, tradeidx, ret)"
   ]
  },
  {
   "cell_type": "code",
   "execution_count": null,
   "metadata": {},
   "outputs": [],
   "source": [
    "#This is for running LS all by itself\n",
    "'''Ns = [200, 500, 1000]\n",
    "ratios = [0.25, 0.5, 1, 2, 4]\n",
    "\n",
    "for N in Ns:\n",
    "    for r in ratios:\n",
    "        T = int(r * N)\n",
    "        if N == 200 and T in [50, 100]: #already done\n",
    "            continue\n",
    "        if T > 2000:\n",
    "            continue\n",
    "        print(\"Working on N = {}, T = {}\".format(N, T))\n",
    "        pastRets = []\n",
    "        uids = []\n",
    "        for h in range(len(univ)):\n",
    "            pastRet = Util.get_past_period(h, T, N, univ, tradeidx, ret)\n",
    "            pastRets.append(pastRet)\n",
    "            uids.append(h)\n",
    "        folder = \"historical_N_{}_T_{}\".format(N, T)\n",
    "        Util.run_parallel_LS(7, folder, pastRets, uids)\n",
    "        Util.get_LS_OOS(folder, N, P, univ, tradeidx, ret)'''"
   ]
  },
  {
   "cell_type": "code",
   "execution_count": 56,
   "metadata": {},
   "outputs": [],
   "source": [
    "from matplotlib import rcParams\n",
    "rcParams.update({'figure.autolayout': True})"
   ]
  },
  {
   "cell_type": "code",
   "execution_count": 11,
   "metadata": {
    "scrolled": false
   },
   "outputs": [
    {
     "ename": "FileNotFoundError",
     "evalue": "[Errno 2] No such file or directory: 'matlab/data/kendall_cov_historical_N_100_T_100/MTP2_OOS_rets.npy'",
     "output_type": "error",
     "traceback": [
      "\u001b[0;31m---------------------------------------------------------------------------\u001b[0m",
      "\u001b[0;31mFileNotFoundError\u001b[0m                         Traceback (most recent call last)",
      "\u001b[0;32m<ipython-input-11-710a1a7137f4>\u001b[0m in \u001b[0;36m<module>\u001b[0;34m()\u001b[0m\n\u001b[1;32m     17\u001b[0m         \u001b[0mMTP2_rets\u001b[0m\u001b[0;34m,\u001b[0m \u001b[0mLS_rets\u001b[0m \u001b[0;34m=\u001b[0m \u001b[0mUtil\u001b[0m\u001b[0;34m.\u001b[0m\u001b[0mload_OOS\u001b[0m\u001b[0;34m(\u001b[0m\u001b[0mfolder\u001b[0m\u001b[0;34m)\u001b[0m\u001b[0;34m\u001b[0m\u001b[0m\n\u001b[1;32m     18\u001b[0m         \u001b[0mfolder\u001b[0m \u001b[0;34m=\u001b[0m \u001b[0;34m\"kendall_cov_\"\u001b[0m \u001b[0;34m+\u001b[0m \u001b[0mfolder\u001b[0m\u001b[0;34m\u001b[0m\u001b[0m\n\u001b[0;32m---> 19\u001b[0;31m         \u001b[0mkendall_MTP2_rets\u001b[0m\u001b[0;34m,\u001b[0m \u001b[0mkendall_LS_rets\u001b[0m \u001b[0;34m=\u001b[0m \u001b[0mUtil\u001b[0m\u001b[0;34m.\u001b[0m\u001b[0mload_OOS\u001b[0m\u001b[0;34m(\u001b[0m\u001b[0mfolder\u001b[0m\u001b[0;34m)\u001b[0m\u001b[0;34m\u001b[0m\u001b[0m\n\u001b[0m\u001b[1;32m     20\u001b[0m         \u001b[0;31m#print(\"N = {}, T = {}\".format(N, T))\u001b[0m\u001b[0;34m\u001b[0m\u001b[0;34m\u001b[0m\u001b[0m\n\u001b[1;32m     21\u001b[0m         \u001b[0;31m#print(\"MTP2 var {} vs. LS var {}\".format(np.var(MTP2_rets), np.var(LS_rets)))\u001b[0m\u001b[0;34m\u001b[0m\u001b[0;34m\u001b[0m\u001b[0m\n",
      "\u001b[0;32m~/Documents/meng/MTP2-finance/Util.py\u001b[0m in \u001b[0;36mload_OOS\u001b[0;34m(folder, P)\u001b[0m\n\u001b[1;32m    159\u001b[0m                 \u001b[0mLS\u001b[0m \u001b[0;34m=\u001b[0m \u001b[0mnp\u001b[0m\u001b[0;34m.\u001b[0m\u001b[0mload\u001b[0m\u001b[0;34m(\u001b[0m\u001b[0mjoin\u001b[0m\u001b[0;34m(\u001b[0m\u001b[0;34m'matlab/data'\u001b[0m\u001b[0;34m,\u001b[0m \u001b[0mfolder\u001b[0m\u001b[0;34m,\u001b[0m \u001b[0;34m'LS_OOS_rets_P_{}.npy'\u001b[0m\u001b[0;34m.\u001b[0m\u001b[0mformat\u001b[0m\u001b[0;34m(\u001b[0m\u001b[0mP\u001b[0m\u001b[0;34m)\u001b[0m\u001b[0;34m)\u001b[0m\u001b[0;34m)\u001b[0m\u001b[0;34m\u001b[0m\u001b[0m\n\u001b[1;32m    160\u001b[0m         \u001b[0;32melse\u001b[0m\u001b[0;34m:\u001b[0m\u001b[0;34m\u001b[0m\u001b[0m\n\u001b[0;32m--> 161\u001b[0;31m                 \u001b[0mMTP2\u001b[0m \u001b[0;34m=\u001b[0m \u001b[0mnp\u001b[0m\u001b[0;34m.\u001b[0m\u001b[0mload\u001b[0m\u001b[0;34m(\u001b[0m\u001b[0mjoin\u001b[0m\u001b[0;34m(\u001b[0m\u001b[0;34m'matlab/data'\u001b[0m\u001b[0;34m,\u001b[0m \u001b[0mfolder\u001b[0m\u001b[0;34m,\u001b[0m \u001b[0;34m'MTP2_OOS_rets.npy'\u001b[0m\u001b[0;34m)\u001b[0m\u001b[0;34m)\u001b[0m\u001b[0;34m\u001b[0m\u001b[0m\n\u001b[0m\u001b[1;32m    162\u001b[0m                 \u001b[0mLS\u001b[0m \u001b[0;34m=\u001b[0m \u001b[0mnp\u001b[0m\u001b[0;34m.\u001b[0m\u001b[0mload\u001b[0m\u001b[0;34m(\u001b[0m\u001b[0mjoin\u001b[0m\u001b[0;34m(\u001b[0m\u001b[0;34m'matlab/data'\u001b[0m\u001b[0;34m,\u001b[0m \u001b[0mfolder\u001b[0m\u001b[0;34m,\u001b[0m \u001b[0;34m'LS_OOS_rets.npy'\u001b[0m\u001b[0;34m)\u001b[0m\u001b[0;34m)\u001b[0m\u001b[0;34m\u001b[0m\u001b[0m\n\u001b[1;32m    163\u001b[0m         \u001b[0;32mreturn\u001b[0m \u001b[0mMTP2\u001b[0m\u001b[0;34m,\u001b[0m \u001b[0mLS\u001b[0m\u001b[0;34m\u001b[0m\u001b[0m\n",
      "\u001b[0;32m/usr/local/lib/python3.6/site-packages/numpy/lib/npyio.py\u001b[0m in \u001b[0;36mload\u001b[0;34m(file, mmap_mode, allow_pickle, fix_imports, encoding)\u001b[0m\n\u001b[1;32m    370\u001b[0m     \u001b[0mown_fid\u001b[0m \u001b[0;34m=\u001b[0m \u001b[0;32mFalse\u001b[0m\u001b[0;34m\u001b[0m\u001b[0m\n\u001b[1;32m    371\u001b[0m     \u001b[0;32mif\u001b[0m \u001b[0misinstance\u001b[0m\u001b[0;34m(\u001b[0m\u001b[0mfile\u001b[0m\u001b[0;34m,\u001b[0m \u001b[0mbasestring\u001b[0m\u001b[0;34m)\u001b[0m\u001b[0;34m:\u001b[0m\u001b[0;34m\u001b[0m\u001b[0m\n\u001b[0;32m--> 372\u001b[0;31m         \u001b[0mfid\u001b[0m \u001b[0;34m=\u001b[0m \u001b[0mopen\u001b[0m\u001b[0;34m(\u001b[0m\u001b[0mfile\u001b[0m\u001b[0;34m,\u001b[0m \u001b[0;34m\"rb\"\u001b[0m\u001b[0;34m)\u001b[0m\u001b[0;34m\u001b[0m\u001b[0m\n\u001b[0m\u001b[1;32m    373\u001b[0m         \u001b[0mown_fid\u001b[0m \u001b[0;34m=\u001b[0m \u001b[0;32mTrue\u001b[0m\u001b[0;34m\u001b[0m\u001b[0m\n\u001b[1;32m    374\u001b[0m     \u001b[0;32melif\u001b[0m \u001b[0mis_pathlib_path\u001b[0m\u001b[0;34m(\u001b[0m\u001b[0mfile\u001b[0m\u001b[0;34m)\u001b[0m\u001b[0;34m:\u001b[0m\u001b[0;34m\u001b[0m\u001b[0m\n",
      "\u001b[0;31mFileNotFoundError\u001b[0m: [Errno 2] No such file or directory: 'matlab/data/kendall_cov_historical_N_100_T_100/MTP2_OOS_rets.npy'"
     ]
    },
    {
     "data": {
      "image/png": "[encoded data removed]",
      "text/plain": [
       "<Figure size 576x576 with 6 Axes>"
      ]
     },
     "metadata": {},
     "output_type": "display_data"
    }
   ],
   "source": [
    "for N in Ns:\n",
    "    if N >= 1000:\n",
    "        continue\n",
    "    if N == 500:\n",
    "        f, ((ax1, ax2), (ax3, ax4)) = plt.subplots(2, 2, sharex='col', sharey='row', figsize=(8,5))\n",
    "        axes = [ax1, ax2, ax3, ax4]\n",
    "    else:\n",
    "        f, ((ax1, ax2), (ax3, ax4), (ax5, ax6)) = plt.subplots(3, 2, sharex='col', sharey='row', figsize=(8,8))\n",
    "        axes = [ax1, ax2, ax3, ax4, ax5, ax6]\n",
    "    f.suptitle(\"N = {}\".format(N))\n",
    "    plt.subplots_adjust(wspace = 0.75, hspace = 0.75)\n",
    "    for r, ax in zip(ratios, axes):\n",
    "        T = int(r * N)\n",
    "        if T >= 2000:\n",
    "            continue\n",
    "        folder = \"historical_N_{}_T_{}\".format(N, T)\n",
    "        MTP2_rets, LS_rets = Util.load_OOS(folder)\n",
    "        folder = \"kendall_cov_\" + folder\n",
    "        kendall_MTP2_rets, kendall_LS_rets = Util.load_OOS(folder)\n",
    "        #print(\"N = {}, T = {}\".format(N, T))\n",
    "        #print(\"MTP2 var {} vs. LS var {}\".format(np.var(MTP2_rets), np.var(LS_rets)))\n",
    "        #ax.set_xlabel(\"Number of months evaluated\")\n",
    "        #ax.set_ylabel(\"variance(returns) for given number of months\")\n",
    "        MTP2_std = 100*np.sqrt(12)*float(np.std(MTP2_rets))\n",
    "        LS_std = 100*np.sqrt(12)*float(np.std(LS_rets))\n",
    "        kMTP2_std = 100*np.sqrt(12)*float(np.std(kendall_MTP2_rets))\n",
    "        kLS_std = 100*np.sqrt(12)*float(np.std(kendall_LS_rets))\n",
    "        \n",
    "        ax.set_title(\"T = {}\\nMTP2 std: {:0.2f}%, {:0.2f}%\\nLS std: {:0.2f}%, {:0.2f}%\\n\".format(T, \n",
    "                                                                           MTP2_std,\n",
    "                                                                           LS_std,\n",
    "                                                                           kMTP2_std,\n",
    "                                                                           kLS_std))\n",
    "        \n",
    "        ax.plot(Util.cumulative_annualized_std(MTP2_rets), label = 'MTP2')\n",
    "        ax.plot(Util.cumulative_annualized_std(LS_rets), label = 'LS')\n",
    "        ax.plot(Util.cumulative_annualized_std(kendall_MTP2_rets), label = 'Kendall MTP2')\n",
    "        ax.plot(Util.cumulative_annualized_std(kendall_LS_rets), label = 'Kendall LS')\n",
    "        ax.legend()\n",
    "    f.savefig('./figures/historical_data_N_{}'.format(N))\n",
    "    plt.show()"
   ]
  },
  {
   "cell_type": "code",
   "execution_count": null,
   "metadata": {},
   "outputs": [],
   "source": []
  }
 ],
 "metadata": {
  "kernelspec": {
   "display_name": "Python 3",
   "language": "python",
   "name": "python3"
  },
  "language_info": {
   "codemirror_mode": {
    "name": "ipython",
    "version": 3
   },
   "file_extension": ".py",
   "mimetype": "text/x-python",
   "name": "python",
   "nbconvert_exporter": "python",
   "pygments_lexer": "ipython3",
   "version": "3.6.5"
  }
 },
 "nbformat": 4,
 "nbformat_minor": 2
}
