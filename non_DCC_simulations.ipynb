{
 "cells": [
  {
   "cell_type": "code",
   "execution_count": 1,
   "metadata": {},
   "outputs": [],
   "source": [
    "%load_ext autoreload\n",
    "%autoreload 2\n",
    "import numpy as np\n",
    "import pandas as pd\n",
    "import scipy.linalg\n",
    "import matplotlib.pyplot as plt\n",
    "import linear_shrinkage\n",
    "import Util\n",
    "from os.path import join\n",
    "from generating_MTP import generate_mat as generate_MTP2\n",
    "import os"
   ]
  },
  {
   "cell_type": "code",
   "execution_count": 3,
   "metadata": {},
   "outputs": [],
   "source": [
    "def generate_vols(old_r, old_d, w, a, b):\n",
    "    return np.sqrt(w + a*old_r**2 + b*old_d**2)"
   ]
  },
  {
   "cell_type": "code",
   "execution_count": 4,
   "metadata": {},
   "outputs": [
    {
     "name": "stdout",
     "output_type": "stream",
     "text": [
      "generated C!\n"
     ]
    },
    {
     "ename": "KeyboardInterrupt",
     "evalue": "",
     "output_type": "error",
     "traceback": [
      "\u001b[0;31m---------------------------------------------------------------------------\u001b[0m",
      "\u001b[0;31mKeyboardInterrupt\u001b[0m                         Traceback (most recent call last)",
      "\u001b[0;32m<ipython-input-4-32232d6f99ae>\u001b[0m in \u001b[0;36m<module>\u001b[0;34m()\u001b[0m\n\u001b[1;32m     23\u001b[0m     \u001b[0mold_d\u001b[0m \u001b[0;34m=\u001b[0m \u001b[0md_series\u001b[0m\u001b[0;34m[\u001b[0m\u001b[0;34m-\u001b[0m\u001b[0;36m1\u001b[0m\u001b[0;34m]\u001b[0m\u001b[0;34m\u001b[0m\u001b[0m\n\u001b[1;32m     24\u001b[0m     \u001b[0ms_t_1\u001b[0m \u001b[0;34m=\u001b[0m \u001b[0mold_r\u001b[0m \u001b[0;34m/\u001b[0m \u001b[0mold_d\u001b[0m\u001b[0;34m\u001b[0m\u001b[0m\n\u001b[0;32m---> 25\u001b[0;31m     \u001b[0mC\u001b[0m \u001b[0;34m=\u001b[0m \u001b[0mUtil\u001b[0m\u001b[0;34m.\u001b[0m\u001b[0mcov_to_corr\u001b[0m\u001b[0;34m(\u001b[0m\u001b[0mgenerate_MTP2\u001b[0m\u001b[0;34m(\u001b[0m\u001b[0mN\u001b[0m\u001b[0;34m,\u001b[0m \u001b[0;36m25\u001b[0m\u001b[0;34m,\u001b[0m \u001b[0msparse_thres\u001b[0m \u001b[0;34m=\u001b[0m \u001b[0;36m0.3\u001b[0m\u001b[0;34m)\u001b[0m\u001b[0;34m)\u001b[0m\u001b[0;34m\u001b[0m\u001b[0m\n\u001b[0m\u001b[1;32m     26\u001b[0m     \u001b[0mQ_t\u001b[0m \u001b[0;34m=\u001b[0m \u001b[0mC\u001b[0m\u001b[0;34m\u001b[0m\u001b[0m\n\u001b[1;32m     27\u001b[0m \u001b[0;34m\u001b[0m\u001b[0m\n",
      "\u001b[0;32m~/Documents/meng/MTP2-finance/generating_MTP.py\u001b[0m in \u001b[0;36mgenerate_mat\u001b[0;34m(p, target_S, sparse_thres)\u001b[0m\n\u001b[1;32m     39\u001b[0m                     \u001b[0msam_inv\u001b[0m\u001b[0;34m[\u001b[0m\u001b[0mi\u001b[0m\u001b[0;34m]\u001b[0m\u001b[0;34m[\u001b[0m\u001b[0mj\u001b[0m\u001b[0;34m]\u001b[0m \u001b[0;34m=\u001b[0m \u001b[0;36m0\u001b[0m\u001b[0;34m\u001b[0m\u001b[0m\n\u001b[1;32m     40\u001b[0m                 \u001b[0;32melse\u001b[0m\u001b[0;34m:\u001b[0m\u001b[0;34m\u001b[0m\u001b[0m\n\u001b[0;32m---> 41\u001b[0;31m                     \u001b[0msam_inv\u001b[0m\u001b[0;34m[\u001b[0m\u001b[0mi\u001b[0m\u001b[0;34m]\u001b[0m\u001b[0;34m[\u001b[0m\u001b[0mj\u001b[0m\u001b[0;34m]\u001b[0m \u001b[0;34m=\u001b[0m \u001b[0mnp\u001b[0m\u001b[0;34m.\u001b[0m\u001b[0mrandom\u001b[0m\u001b[0;34m.\u001b[0m\u001b[0muniform\u001b[0m\u001b[0;34m(\u001b[0m\u001b[0mlow\u001b[0m \u001b[0;34m=\u001b[0m \u001b[0;34m-\u001b[0m\u001b[0;36m1.\u001b[0m\u001b[0;34m,\u001b[0m \u001b[0mhigh\u001b[0m \u001b[0;34m=\u001b[0m \u001b[0;34m-\u001b[0m\u001b[0;36m0.2\u001b[0m\u001b[0;34m)\u001b[0m\u001b[0;34m\u001b[0m\u001b[0m\n\u001b[0m\u001b[1;32m     42\u001b[0m \u001b[0;34m\u001b[0m\u001b[0m\n\u001b[1;32m     43\u001b[0m         \u001b[0minv\u001b[0m \u001b[0;34m=\u001b[0m \u001b[0mnp\u001b[0m\u001b[0;34m.\u001b[0m\u001b[0mminimum\u001b[0m\u001b[0;34m(\u001b[0m\u001b[0msam_inv\u001b[0m\u001b[0;34m,\u001b[0m \u001b[0msam_inv\u001b[0m\u001b[0;34m.\u001b[0m\u001b[0mT\u001b[0m\u001b[0;34m)\u001b[0m \u001b[0;31m#makes it symmetric\u001b[0m\u001b[0;34m\u001b[0m\u001b[0m\n",
      "\u001b[0;31mKeyboardInterrupt\u001b[0m: "
     ]
    }
   ],
   "source": [
    "N = 100\n",
    "T = 100\n",
    "\n",
    "#C = np.eye(N) #uncond_corr_mat\n",
    "alpha = 0.05\n",
    "beta = 0.93\n",
    "w = 0\n",
    "a = np.ones(N) * 0.05\n",
    "b = np.ones(N) * 0.9\n",
    "\n",
    "r_0 = np.zeros(N)\n",
    "d_0 = np.ones(N)\n",
    "Q_0 = C\n",
    "r_series = [r_0] #first return is 0\n",
    "d_series = [d_0]\n",
    "Q_series = [Q_0]\n",
    "H_series = [None]\n",
    "\n",
    "for t in range(T):\n",
    "    old_r = r_series[-1] #both vectors of length N\n",
    "    old_d = d_series[-1]\n",
    "    s_t_1 = old_r / old_d\n",
    "    C = Util.cov_to_corr(generate_MTP2(N, 25, sparse_thres = 0.3))\n",
    "    Q_t = C\n",
    "    \n",
    "    #conditional variances at the t-th time step\n",
    "    d_t = generate_vols(old_r, old_d, w, a, b)\n",
    "    D_t = np.diag(d_t) \n",
    "    \n",
    "    #Q_t is the conditional covariance matrix, of the devolatized returns\n",
    "    #R_t is the conditional correlation matrix of the devolatized returns\n",
    "    #H_t is the conditional covariance matrix of the returns (after factoring in the vols)\n",
    "    \n",
    "    Q_t_diag = np.diag(np.power(np.diag(Q_t), -0.5))\n",
    "    R_t = Q_t_diag.dot(Q_t).dot(Q_t_diag)\n",
    "    H_t = D_t.dot(R_t).dot(D_t)\n",
    "    \n",
    "    r_t = np.random.multivariate_normal(mean = np.zeros(N),\n",
    "                                        cov = H_t)\n",
    "    \n",
    "    r_series.append(r_t)\n",
    "    d_series.append(d_t)\n",
    "    Q_series.append(Q_t)\n",
    "    H_series.append(H_t)"
   ]
  },
  {
   "cell_type": "code",
   "execution_count": 7,
   "metadata": {},
   "outputs": [
    {
     "data": {
      "text/plain": [
       "(1.0, 0.19837241135297848)"
      ]
     },
     "execution_count": 7,
     "metadata": {},
     "output_type": "execute_result"
    }
   ],
   "source": [
    "Util.check_MTP2(H_series[2])"
   ]
  },
  {
   "cell_type": "code",
   "execution_count": 8,
   "metadata": {},
   "outputs": [
    {
     "data": {
      "text/plain": [
       "array([[ 0.9       ,  0.        ,  0.        , ...,  0.        ,\n",
       "         0.        , -0.04109955],\n",
       "       [ 0.        ,  0.9       ,  0.        , ...,  0.        ,\n",
       "         0.        ,  0.        ],\n",
       "       [ 0.        ,  0.        ,  0.9       , ...,  0.        ,\n",
       "         0.        , -0.05575981],\n",
       "       ...,\n",
       "       [ 0.        ,  0.        ,  0.        , ...,  0.9       ,\n",
       "         0.        ,  0.        ],\n",
       "       [ 0.        ,  0.        ,  0.        , ...,  0.        ,\n",
       "         0.9       ,  0.        ],\n",
       "       [-0.04109955,  0.        , -0.05575981, ...,  0.        ,\n",
       "         0.        ,  0.9       ]])"
      ]
     },
     "execution_count": 8,
     "metadata": {},
     "output_type": "execute_result"
    }
   ],
   "source": [
    "H_series[1]"
   ]
  },
  {
   "cell_type": "code",
   "execution_count": null,
   "metadata": {},
   "outputs": [],
   "source": []
  }
 ],
 "metadata": {
  "kernelspec": {
   "display_name": "Python 3",
   "language": "python",
   "name": "python3"
  },
  "language_info": {
   "codemirror_mode": {
    "name": "ipython",
    "version": 3
   },
   "file_extension": ".py",
   "mimetype": "text/x-python",
   "name": "python",
   "nbconvert_exporter": "python",
   "pygments_lexer": "ipython3",
   "version": "3.6.5"
  }
 },
 "nbformat": 4,
 "nbformat_minor": 2
}
