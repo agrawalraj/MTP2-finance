{
 "cells": [
  {
   "cell_type": "code",
   "execution_count": 1,
   "metadata": {},
   "outputs": [],
   "source": [
    "%load_ext autoreload\n",
    "%autoreload 2\n",
    "import pandas as pd\n",
    "import numpy as np\n",
    "import time\n",
    "import matplotlib.pyplot as plt\n",
    "import seaborn as sns\n",
    "import Util\n",
    "import linear_shrinkage"
   ]
  },
  {
   "cell_type": "code",
   "execution_count": 2,
   "metadata": {},
   "outputs": [],
   "source": [
    "ret, ret_nonan, univ, tradeidx, dates = Util.load_data()"
   ]
  },
  {
   "cell_type": "code",
   "execution_count": 3,
   "metadata": {},
   "outputs": [
    {
     "name": "stdout",
     "output_type": "stream",
     "text": [
      "-0.31855\n",
      "0.23618000000000003\n",
      "0.0008989193208430914\n"
     ]
    }
   ],
   "source": [
    "#Sanity check with Michael's code\n",
    "today = tradeidx[0][0]\n",
    "pastData = Util.get_past_period(h=0, T = 1260, N = 200, univ = univ, tradeidx = tradeidx, ret = ret)\n",
    "investData = Util.get_invest_period(h=0, P = 1, N = 200, univ = univ, tradeidx = tradeidx, ret = ret)\n",
    "combinedData = np.concatenate((pastData, investData))\n",
    "print(combinedData.min())\n",
    "print(combinedData.max())\n",
    "print(combinedData.mean())"
   ]
  },
  {
   "cell_type": "code",
   "execution_count": 4,
   "metadata": {},
   "outputs": [],
   "source": [
    "def get_OOS_rets(cov_estimator, N, T, P, ret, univ, tradeidx, range_h = None, past_ret_passed = True):   \n",
    "    if not range_h:\n",
    "        range_h = len(univ)\n",
    "    rets = []\n",
    "    \n",
    "    #MTP2_cov_est = Util.MTP2_cov(N,T)\n",
    "\n",
    "    for h in range(range_h):\n",
    "        pastRet = Util.get_past_period(h, T, N, univ, tradeidx, ret)\n",
    "        if past_ret_passed:\n",
    "            cov = cov_estimator(pastRet)\n",
    "        else:\n",
    "            cov = cov_estimator(h)\n",
    "        w = Util.optimal_weights(cov)\n",
    "        outRet = Util.get_invest_period(h, P, N, univ, tradeidx, ret)\n",
    "        curret = Util.OOS_rets(outRet, w)\n",
    "        rets.append(curret)\n",
    "    return rets"
   ]
  },
  {
   "cell_type": "code",
   "execution_count": 24,
   "metadata": {},
   "outputs": [],
   "source": [
    "N = 200\n",
    "#T = 1260\n",
    "T = 100\n",
    "P = 1"
   ]
  },
  {
   "cell_type": "code",
   "execution_count": 25,
   "metadata": {},
   "outputs": [],
   "source": [
    "MTP2_rets = get_OOS_rets(Util.MTP2_cov(N, T), \n",
    "                         N, T, P, \n",
    "                         ret, univ, tradeidx,\n",
    "                         range_h = None, past_ret_passed = False)"
   ]
  },
  {
   "cell_type": "code",
   "execution_count": 32,
   "metadata": {},
   "outputs": [
    {
     "name": "stdout",
     "output_type": "stream",
     "text": [
      "0.10356935273133408 0.12156485667207856\n"
     ]
    }
   ],
   "source": [
    "Util.print_normalize(MTP2_rets)"
   ]
  },
  {
   "cell_type": "code",
   "execution_count": 26,
   "metadata": {},
   "outputs": [],
   "source": [
    "equal_rets = get_OOS_rets(Util.identity_cov, \n",
    "                          N, T, P,\n",
    "                          ret, univ, tradeidx,\n",
    "                          range_h = None)"
   ]
  },
  {
   "cell_type": "code",
   "execution_count": 8,
   "metadata": {},
   "outputs": [
    {
     "name": "stdout",
     "output_type": "stream",
     "text": [
      "0.12918692971707574 0.18754260906922615\n"
     ]
    }
   ],
   "source": [
    "Util.print_normalize(equal_rets)"
   ]
  },
  {
   "cell_type": "code",
   "execution_count": 27,
   "metadata": {},
   "outputs": [],
   "source": [
    "linear_shrinkage_rets = get_OOS_rets(linear_shrinkage.estimator, \n",
    "                                     N, T, P,\n",
    "                                     ret, univ, tradeidx,\n",
    "                                     range_h = None)"
   ]
  },
  {
   "cell_type": "code",
   "execution_count": 10,
   "metadata": {},
   "outputs": [
    {
     "name": "stdout",
     "output_type": "stream",
     "text": [
      "0.1111813838931928 0.12025630116520909\n"
     ]
    }
   ],
   "source": [
    "Util.print_normalize(linear_shrinkage_rets)"
   ]
  },
  {
   "cell_type": "code",
   "execution_count": 13,
   "metadata": {},
   "outputs": [],
   "source": [
    "def cum_var(rets):\n",
    "    vs = []\n",
    "    for i in range(1, len(rets)):\n",
    "        vs.append(np.var(rets[:i]))\n",
    "    return vs"
   ]
  },
  {
   "cell_type": "code",
   "execution_count": 28,
   "metadata": {},
   "outputs": [
    {
     "data": {
      "image/png": "[encoded data removed]",
      "text/plain": [
       "<Figure size 432x288 with 1 Axes>"
      ]
     },
     "metadata": {},
     "output_type": "display_data"
    }
   ],
   "source": [
    "#plt.plot(cum_var(equal_rets), label = 'eq')\n",
    "plt.plot(cum_var(linear_shrinkage_rets), label = 'LS')\n",
    "plt.plot(cum_var(MTP2_rets), label = 'MPT2')\n",
    "plt.legend()\n",
    "plt.show()"
   ]
  },
  {
   "cell_type": "code",
   "execution_count": 34,
   "metadata": {},
   "outputs": [
    {
     "name": "stdout",
     "output_type": "stream",
     "text": [
      "0.18725603933580148\n",
      "0.13055448598879457\n",
      "0.12003289206403091\n"
     ]
    },
    {
     "data": {
      "text/plain": [
       "(array([1., 2., 8., 7., 5., 9., 5., 3., 3., 7.]),\n",
       " array([0.0995976 , 0.10339678, 0.10719597, 0.11099515, 0.11479433,\n",
       "        0.11859351, 0.12239269, 0.12619188, 0.12999106, 0.13379024,\n",
       "        0.13758942]),\n",
       " <a list of 10 Patch objects>)"
      ]
     },
     "execution_count": 34,
     "metadata": {},
     "output_type": "execute_result"
    },
    {
     "data": {
      "image/png": "[encoded data removed]",
      "text/plain": [
       "<Figure size 432x288 with 1 Axes>"
      ]
     },
     "metadata": {},
     "output_type": "display_data"
    }
   ],
   "source": [
    "equal_stds = Util.subsample(equal_rets)\n",
    "print(np.mean(equal_stds))\n",
    "shrinkage_stds = Util.subsample(linear_shrinkage_rets)\n",
    "print(np.mean(shrinkage_stds))\n",
    "MTP2_stds = Util.subsample(MTP2_rets)\n",
    "print(np.mean(MTP2_stds))\n",
    "#plt.hist(equal_stds)\n",
    "plt.hist(shrinkage_stds)\n",
    "plt.hist(MTP2_stds)"
   ]
  },
  {
   "cell_type": "code",
   "execution_count": 86,
   "metadata": {},
   "outputs": [
    {
     "name": "stdout",
     "output_type": "stream",
     "text": [
      "Hat(S) = lamb * I + (1-lamb) * S. lamb = 0.02\n",
      "0.12889356190921292 0.16086244248396164\n",
      "Hat(S) = lamb * I + (1-lamb) * S. lamb = 0.01\n",
      "0.1271406113860214 0.1502553276012488\n",
      "Hat(S) = lamb * I + (1-lamb) * S. lamb = 0.005\n",
      "0.12470699440534072 0.14019147442546426\n",
      "Hat(S) = lamb * I + (1-lamb) * S. lamb = 0.001\n",
      "0.11821106953523904 0.12446987474162771\n",
      "Hat(S) = lamb * I + (1-lamb) * S. lamb = 0.0001\n",
      "0.11348993246735943 0.11832584332613025\n",
      "Hat(S) = lamb * I + (1-lamb) * S. lamb = 1e-05\n",
      "0.11157276239004392 0.12053805332176938\n"
     ]
    }
   ],
   "source": [
    "iden_shrink = {}\n",
    "for lamb in [0.02, 0.01, 0.005, 0.001, 0.0001, 0.00001]:\n",
    "    identity_shrinkage_rets = get_OOS_rets(linear_shrinkage.lambda_identity(lamb), \n",
    "                                     N, T, P,\n",
    "                                     ret, univ, tradeidx,\n",
    "                                     range_h = None)\n",
    "    iden_shrink[lamb] = identity_shrinkage_rets\n",
    "    print(\"Hat(S) = lamb * I + (1-lamb) * S. lamb = {}\".format(lamb))\n",
    "    Util.print_normalize(identity_shrinkage_rets)"
   ]
  },
  {
   "cell_type": "code",
   "execution_count": null,
   "metadata": {},
   "outputs": [],
   "source": []
  }
 ],
 "metadata": {
  "kernelspec": {
   "display_name": "Python 3",
   "language": "python",
   "name": "python3"
  },
  "language_info": {
   "codemirror_mode": {
    "name": "ipython",
    "version": 3
   },
   "file_extension": ".py",
   "mimetype": "text/x-python",
   "name": "python",
   "nbconvert_exporter": "python",
   "pygments_lexer": "ipython3",
   "version": "3.6.5"
  }
 },
 "nbformat": 4,
 "nbformat_minor": 2
}
